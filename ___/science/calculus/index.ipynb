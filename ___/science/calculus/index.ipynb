{
 "cells": [
  {
   "cell_type": "code",
   "execution_count": 2,
   "metadata": {},
   "outputs": [],
   "source": [
    "#from IPython.core.interactiveshell import InteractiveShell\n",
    "#InteractiveShell.ast_node_interactivity = \"all\"\n",
    "from IPython.display import display, Markdown\n",
    "\n",
    "import numpy as np\n",
    "import matplotlib.pyplot as plt"
   ]
  },
  {
   "cell_type": "markdown",
   "metadata": {},
   "source": [
    "# Calculus I\n",
    "\n",
    "- Derivace reálné funkce reálné proměnné $R \\rightarrow R $ \n",
    "- Derivace komplexní funkce komplexní proměnné $ C \\rightarrow C$"
   ]
  },
  {
   "cell_type": "markdown",
   "metadata": {},
   "source": [
    "$$\n",
    "\\require{amsmath,amssymb}\n",
    "$$\n",
    "\n",
    "## Supremum, Infimum. Minimum, Maximum\n",
    "\n",
    "## Limit"
   ]
  },
  {
   "cell_type": "markdown",
   "metadata": {},
   "source": [
    "## Derivative\n",
    "\n",
    "> The process of calculation of derivative of function is called *differentiation*."
   ]
  },
  {
   "cell_type": "markdown",
   "metadata": {
    "tags": [
     "equation",
     "definition"
    ]
   },
   "source": [
    "> Derivation of function $$\\begin{equation}\n",
    "D(f) \\equiv f'(x) := \\displaystyle\\lim_{h\\longrightarrow 0}\\dfrac{f(x+h)-f(x)}{h}\n",
    "\\end{equation}\n",
    "$$"
   ]
  },
  {
   "cell_type": "markdown",
   "metadata": {
    "tags": [
     "equation",
     "example"
    ]
   },
   "source": [
    "For instance, \n",
    "\n",
    "$$\n",
    "f'(5)=\\displaystyle\\lim_{h\\longrightarrow 0}\\dfrac{f(5+h)-f(5)}{h}\n",
    "$$\n"
   ]
  },
  {
   "cell_type": "markdown",
   "metadata": {},
   "source": []
  },
  {
   "cell_type": "markdown",
   "metadata": {},
   "source": [
    "\n",
    "# Calculus I\n",
    "\n",
    "- Parciální derivace\n",
    "- Záměnnost parciálních derivací\n",
    "- Skalární funkce a skalární pole \n",
    "- Vektorová funkce a vektorové pole\n",
    "\n"
   ]
  },
  {
   "cell_type": "markdown",
   "metadata": {},
   "source": [
    "# Interpolation"
   ]
  },
  {
   "cell_type": "markdown",
   "metadata": {},
   "source": [
    "## Polynomial interpolation\n",
    "\n",
    "#### Problem \n",
    "Suppose there is set of $n + 1$ points $(x, y)$. Find the unique polynomial $p(x)$ of degree $n$ which passes through the points. \n",
    "\n",
    "#### Solution\n",
    "Solve the equation $V \\cdot \\vec a = \\vec y$ where $V$ is *Vandermonde matrix*, $\\vec y$ is known column vector of values and $\\vec a$ is unknown column vector of coefficients. \n",
    "\n",
    "$$\n",
    "\\begin{bmatrix} \n",
    "v_0^0 = 1  & v_0^1  & v_0^2 \\cdots & v_0^n\\\\ \n",
    "v_1^0 = 1  & v_1^1  & v_1^2 \\cdots & v_1^n\\\\\n",
    "\\vdots & \\vdots & \\vdots & \\vdots \\\\\n",
    "v_n^0 = 1 & v_n^1  & v_n^2 \\cdots & v_n^n\n",
    "\\end{bmatrix} \\cdot\n",
    "\\begin{bmatrix} a_0 \\\\ a_1 \\\\ \\vdots \\\\ a_n \\end{bmatrix} =\n",
    "\\begin{bmatrix} y_0 \\\\ y_1 \\\\ \\vdots \\\\ y_n \\end{bmatrix}\n",
    "$$"
   ]
  },
  {
   "cell_type": "markdown",
   "metadata": {},
   "source": [
    "#### Example  \n",
    "Function $y = x^2$ is polynomial of degree $n = 2$ that goes e.g throw the points $(-1, 1)$, $(0, 0)$, $(1, 1)$. We can compute the polynomial interpolation of these points. The expected solution is column a vector of cooefficients $\\vec{a} := [0, 0, 1]^T$"
   ]
  },
  {
   "cell_type": "code",
   "execution_count": 3,
   "metadata": {},
   "outputs": [
    {
     "data": {
      "text/markdown": [
       "$\\vec x := (-1.0, 0.0, 1.0)$"
      ],
      "text/plain": [
       "<IPython.core.display.Markdown object>"
      ]
     },
     "metadata": {},
     "output_type": "display_data"
    },
    {
     "data": {
      "text/markdown": [
       "$\\vec y := (1.0, 0.0, 1.0)$"
      ],
      "text/plain": [
       "<IPython.core.display.Markdown object>"
      ]
     },
     "metadata": {},
     "output_type": "display_data"
    },
    {
     "data": {
      "text/markdown": [
       "$\\vec a := (0.0, 0.0, 1.0)$"
      ],
      "text/plain": [
       "<IPython.core.display.Markdown object>"
      ]
     },
     "metadata": {},
     "output_type": "display_data"
    }
   ],
   "source": [
    "# Generate and display $x$ values.\n",
    "x = np.array([-1.0, 0.0, 1.0])\n",
    "display(Markdown(rf\"$\\vec x := {x[0], x[1], x[2]}$\"))\n",
    "\n",
    "# Generate and display $y$ values.\n",
    "y = np.array([1.0, 0.0, 1.0]).reshape(3, 1)\n",
    "display(Markdown(rf\"$\\vec y := {y[0][0], y[1][0], y[2][0]}$\"))\n",
    "\n",
    "# Generate and display Vandermonde matrix $V$.\n",
    "V = np.column_stack([x ** 0, x ** 1, x ** 2]) \n",
    "#display(Markdown(rf\"$\\vec X = {X[0][0], X[0][1], X[0][2]}$\"))\n",
    "\n",
    "# Solve the linear equation $Xa = y$.\n",
    "a = np.linalg.solve(V, y)\n",
    "display(Markdown(rf\"$\\vec a := {a[0][0], a[1][0], a[2][0]}$\"))"
   ]
  },
  {
   "cell_type": "code",
   "execution_count": 8,
   "metadata": {},
   "outputs": [
    {
     "data": {
      "image/png": "[encoded data removed]",
      "text/plain": [
       "<Figure size 432x288 with 1 Axes>"
      ]
     },
     "metadata": {
      "needs_background": "light"
     },
     "output_type": "display_data"
    }
   ],
   "source": [
    "xs = np.linspace(-3, 3, 30)\n",
    "ys = a[0] + a[1] * xs + a[2] * xs ** 2\n",
    "\n",
    "def Plot2D():\n",
    "    fg, ax = plt.subplots()\n",
    "    ax.spines['left'].set_position(('data', 0.0))\n",
    "    ax.spines['bottom'].set_position(('data', 0.0))\n",
    "\n",
    "    # Eliminate upper and right axes\n",
    "    ax.spines['right'].set_color('none')\n",
    "    ax.spines['top'].set_color('none')\n",
    "\n",
    "    # Show ticks in the left and lower axes only\n",
    "    ax.xaxis.set_ticks_position('bottom')\n",
    "    ax.yaxis.set_ticks_position('left')\n",
    "\n",
    "    ax.yaxis.get_major_ticks()[1].label1.set_visible(False)\n",
    "\n",
    "    ax.plot(xs, ys, 'b', x, y, 'r.', linewidth=1, markersize=10)\n",
    "    \n",
    "Plot2D()"
   ]
  },
  {
   "cell_type": "markdown",
   "metadata": {},
   "source": [
    "#### Example\n",
    "\n",
    "Parabole throw the points $(-1, 0)$, $(0, -1)$, $(1, 0)$."
   ]
  },
  {
   "cell_type": "code",
   "execution_count": 5,
   "metadata": {},
   "outputs": [
    {
     "name": "stdout",
     "output_type": "stream",
     "text": [
      "[-1.  0.  1.]\n"
     ]
    },
    {
     "data": {
      "image/png": "[encoded data removed]",
      "text/plain": [
       "<Figure size 432x288 with 1 Axes>"
      ]
     },
     "execution_count": 5,
     "metadata": {},
     "output_type": "execute_result"
    }
   ],
   "source": [
    "y = np.array([0.0, -1.0, 0.0]).reshape(3, 1)\n",
    "a = np.linalg.solve(V, y)\n",
    "\n",
    "print(f\"{a.T[0]}\")\n",
    "\n",
    "xs = np.linspace(-3, 3, 30)\n",
    "ys = a[0] + a[1] * xs + a[2] * xs ** 2\n",
    "\n",
    "ax.plot(xs, ys, 'g', x, y, 'r.', linewidth=1, markersize=10)\n",
    "\n",
    "fg"
   ]
  },
  {
   "cell_type": "code",
   "execution_count": null,
   "metadata": {},
   "outputs": [],
   "source": []
  },
  {
   "cell_type": "code",
   "execution_count": null,
   "metadata": {},
   "outputs": [],
   "source": []
  }
 ],
 "metadata": {
  "kernelspec": {
   "display_name": "main",
   "language": "python",
   "name": "main"
  },
  "language_info": {
   "codemirror_mode": {
    "name": "ipython",
    "version": 3
   },
   "file_extension": ".py",
   "mimetype": "text/x-python",
   "name": "python",
   "nbconvert_exporter": "python",
   "pygments_lexer": "ipython3",
   "version": "3.7.3"
  }
 },
 "nbformat": 4,
 "nbformat_minor": 4
}
