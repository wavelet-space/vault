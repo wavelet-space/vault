{
 "cells": [
  {
   "cell_type": "markdown",
   "metadata": {},
   "source": [
    "{Linear Algebra, Computer Graphics}\n",
    "\n",
    "<div style=\"font-size:8em; text-align: center\">Algebra</div>\n",
    "\n",
    "![Matrix](https://upload.wikimedia.org/wikipedia/commons/d/d1/Taxonomy_of_Complex_Matrices.svg)\n",
    "\n",
    "\n",
    "%%html\n",
    "<style>\n",
    ".def { font-weight: bold }    \n",
    ".center {   \n",
    "  justify-content: center;\n",
    "  align-items: center;\n",
    "  font-size: 6em\n",
    "}\n",
    "</style>\n",
    "\n",
    "$\\require{amsthm}$\n",
    "\n",
    "\n",
    "\n",
    "---\n",
    "\n",
    "# Matrix\n",
    "\n",
    "\n",
    "> __Definition__ Matrix is a rectangular array of items.\n",
    "\n",
    "\n",
    "- Let A be an $n×n$ matrix.\n",
    "\n",
    "\n",
    "## Linear Transformation\n",
    "\n",
    "Afinní (euklidovské) transformace jsou ty, při kterých se zachovávájí vzdálenosti a úhly meziz směry."
   ]
  },
  {
   "cell_type": "markdown",
   "metadata": {},
   "source": [
    "### Translation\n",
    "\n",
    "Pokus se chceme posunout z pozice reprezentované bodem \\(P\\) do nové pozice reprezentované bodem \\(P'\\), musíme k bodu \\(P\\) přičíst vektor, kterému říkáme <i>vektor posunutí</i>.\n",
    "\n",
    "> (_Vektor posunutí_) Délka vektoru posunutí určuje délku posunutí bodu a jeho směr určuje směr posunutí bodu.\n",
    "\n",
    "$$ \n",
    "P' = P + \\vec{t} \n",
    "$$\n",
    "\n",
    "#### 2D\n",
    "\n",
    "$$\n",
    "P' = \\begin{bmatrix} p_x\\\\ p_y\\\\ \\end{bmatrix} + \\begin{bmatrix} v_x\\\\ v_y\\\\ \\end{bmatrix} = \\begin{bmatrix} p_x + v_x\\\\ p_y + v_y\\\\ \\end{bmatrix}  \n",
    "$$\n",
    "\n",
    "#### 3D\n",
    "\n",
    "$$\n",
    "P' = \\begin{bmatrix} p_x\\\\ p_y\\\\ p_z\\\\ \\end{bmatrix} + \\begin{bmatrix} v_x\\\\ v_y\\\\ v_z\\\\ \\end{bmatrix} = \\begin{bmatrix} p_x + v_x\\\\ p_y + v_y\\\\  p_z + v_z\\\\ \\end{bmatrix}  \n",
    "$$"
   ]
  },
  {
   "cell_type": "markdown",
   "metadata": {},
   "source": [
    "### Rotation in 2D space\n",
    "\n",
    "To rotate the 2D vector around the origin by angle $\\varphi$ we use the rotation matrix of type ${2,2}$.\n",
    "\n",
    "$$\n",
    "R_o(\\varphi) = \\begin{pmatrix}\n",
    "  \\cos(\\varphi) & -\\sin(\\varphi) \\\\\n",
    "  \\sin(\\varphi) &  \\cos(\\varphi) \\\\\n",
    "\\end{pmatrix}\n",
    "$$\n",
    "\n",
    "\n",
    "Pokus si dosadíme do funkcí &sin& a $cos$ např. úhly 90 a 180, získáme rotační matice pro tyto běžné rotační matice.\n",
    "\n",
    "$$\n",
    "R_o(90^\\circ) = \\begin{bmatrix}\n",
    "  0 & -1 \\\\\n",
    "  1 &  0 \\\\\n",
    "\\end{bmatrix}\n",
    "$$\n",
    "\n",
    "$$\n",
    "R_o(180^\\circ) = \\begin{bmatrix}\n",
    "  0 & 1 \\\\\n",
    "  -1 &  0 \\\\\n",
    "\\end{bmatrix}\n",
    "$$\n",
    "\n",
    "Pro rotaci v homogenních souřadnicích však potřebujeme matici $M_{3,3}$.\n",
    "\n",
    "$$\n",
    "R_o(\\varphi) = \\begin{bmatrix}\n",
    "  \\cos(\\varphi) & -\\sin(\\varphi) & 0\\\\\n",
    "  \\sin(\\varphi) &  \\cos(\\varphi) & 0 \\\\\n",
    "  0         &  0         & 1 \\\\\n",
    "\\end{bmatrix}\n",
    "$$"
   ]
  },
  {
   "cell_type": "markdown",
   "metadata": {},
   "source": [
    "## Rotace in 3D\n",
    "\n",
    "Rotaci ve $R^3$ můžeme chápat jakou funkci s argumenty osa, kolem ktreé chceme otáčet a úhel, o který budem vektor otáčet.\n",
    "\n",
    "$$\n",
    "Rotation := Rotation(axis, angle);\n",
    "$$\n",
    "\n",
    "The rotation around the axis is called *Elemental Rotation* and are also known as *Yaw* ($R_x(\\varphi)$), *Pitch* ($R_y(\\varphi)$), *Roll* ($R_z(\\varphi)$). "
   ]
  },
  {
   "cell_type": "markdown",
   "metadata": {},
   "source": [
    "### Rotation around $X$ axis\n",
    "\n",
    "The rotation matrix to rotate the vector by angle $\\varphi$ around the $X$ axis.\n",
    "\n",
    "$$\n",
    "R_x(\\varphi) := \\begin{pmatrix}\n",
    "  \t1 & 0          &  0 \\\\\n",
    "  \t0 & \\cos(\\varphi) & -\\sin(\\varphi) \\\\\n",
    "\t0 & \\sin(\\varphi) & \\cos(\\varphi) \\\\\n",
    "\\end{pmatrix}\n",
    "$$"
   ]
  },
  {
   "cell_type": "markdown",
   "metadata": {},
   "source": [
    "### Rotation around $Y$ axis\n",
    "\n",
    "The rotation matrix to rotate the vector by angle $\\varphi$ around the $Y$ axis.\n",
    "\n",
    "$$\n",
    "R_y(\\varphi) := \\begin{bmatrix} \n",
    "\t\\cos(\\varphi)    & 0 & \\sin(\\varphi) \\\\\n",
    "\t 0           & 1 & 0         \\\\\n",
    "\t -\\sin(\\varphi) & 0 & \\cos(\\varphi) \\\\\n",
    "\\end{bmatrix}\n",
    "$$ "
   ]
  },
  {
   "cell_type": "markdown",
   "metadata": {},
   "source": [
    "### Rotation around $Z$ axis\n",
    "\n",
    "The rotation matrix to rotate the vector by angle $\\varphi$ around the $Z$ axis.\n",
    "\n",
    "$$\n",
    "R_z(\\varphi) := \\begin{bmatrix} \n",
    "\t\\cos(\\varphi) &  -\\sin(\\varphi) & 0 \\\\ \n",
    "\t\\sin(\\varphi) &  \\cos(\\varphi)  & 0 \\\\\n",
    "\t0          &  0           & 1 \\\\\n",
    "\\end{bmatrix}\n",
    "$$"
   ]
  },
  {
   "cell_type": "markdown",
   "metadata": {},
   "source": [
    "### Multiple rotations \n",
    "\n",
    "The rotations can be combined as matrix multiplication.  \n",
    "\n",
    "$$\n",
    "R(\\alpha, \\beta, \\gamma) := R_x(\\alpha) \\cdot R_y(\\beta) \\cdot R_z(\\gamma)\n",
    "$$"
   ]
  },
  {
   "cell_type": "markdown",
   "metadata": {},
   "source": [
    "### Transformations in hommogenous coordinates\n",
    "\n",
    "Pro reprezentaci věech transformací pomocí skládání neboli maticového násobění potřebujeme, aby všechny matice měli stejnou dimenzi. Jak je vidět tak například posunutí je reprezentováno sloupcovým vektorem repekttive maticí o jednom slouci a třech řádcích. nejen z tohoto důvodu se v počítačové grafice používají matice typu $4 \\times 4$, které zahrnují jak rotaci, tak translaci právě do jedinné matice. Tento \"trik\" můžeme  zavést, pokud pracujeme v tzv. homogenních souřadnicíh.\n",
    "\n",
    "#### Hommogenous Coordinates \n",
    "\n",
    "Why we use hommogenous coordinates?\n",
    "\n",
    "> _Homogenní souřadnice_ bodu \\(P\\) s kartézskými souřadnicemi \\([X, Y, Z] \\) je uspořádáná čtveřice \\([x, y, z, w]\\), pokud platí\n",
    "\n",
    "$$ \n",
    "\tX = \\frac{x}{w}, Y = \\frac{y}{w}, Z = \\frac{z}{w}, w \\neq 0\n",
    "$$, kde \\(w\\) se nazývá <i>váha bodu</i> \\(P\\).\n",
    "</blockquote>"
   ]
  },
  {
   "cell_type": "markdown",
   "metadata": {},
   "source": [
    "# Determinant\n",
    "\n",
    "#### Example\n",
    "\n",
    "$\\require{amssymb}$\n",
    "\n",
    "Find all values $x, y, z \\in R$ for which the matrix \n",
    "$\n",
    "A := \\small{\\begin{pmatrix} 1 & 1 & 1\\\\ x & y & z\\\\ x^2 & y^2 & z^2 \\end{pmatrix}}\n",
    "$ is regular.\n",
    "\n",
    "The square matrix of order $n$ is regular iff the determinat of the matrix $det(A) \\neq 0$. \n",
    "\n",
    "$$\n",
    "det \\begin{pmatrix} 1 & 1 & 1\\\\ x & y & z\\\\ x^2 & y^2 & z^2 \\end{pmatrix} = \n",
    "$$\n",
    "\n",
    "- https://mathworld.wolfram.com/NonsingularMatrix.html"
   ]
  },
  {
   "cell_type": "code",
   "execution_count": null,
   "metadata": {},
   "outputs": [],
   "source": []
  }
 ],
 "metadata": {
  "kernelspec": {
   "display_name": ".venv",
   "language": "python",
   "name": "python3"
  },
  "language_info": {
   "codemirror_mode": {
    "name": "ipython",
    "version": 3
   },
   "file_extension": ".py",
   "mimetype": "text/x-python",
   "name": "python",
   "nbconvert_exporter": "python",
   "pygments_lexer": "ipython3",
   "version": "3.10.0 (tags/v3.10.0:b494f59, Oct  4 2021, 19:00:18) [MSC v.1929 64 bit (AMD64)]"
  },
  "vscode": {
   "interpreter": {
    "hash": "fb742696e0338e283240937966a9296921b8fb417d8b030763bca8727d90fe9a"
   }
  }
 },
 "nbformat": 4,
 "nbformat_minor": 4
}
