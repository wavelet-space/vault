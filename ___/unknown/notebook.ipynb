{
 "cells": [
  {
   "attachments": {},
   "cell_type": "markdown",
   "metadata": {},
   "source": [
    "# Notebook\n",
    "\n",
    "Toto je příklad vložení Jupyter notebooku.\n",
    "\n",
    "## Matematické vzorce\n",
    "\n",
    "$$\n",
    "    y \\equiv y(x)\n",
    "$$"
   ]
  },
  {
   "cell_type": "markdown",
   "metadata": {},
   "source": []
  }
 ],
 "metadata": {
  "kernelspec": {
   "display_name": ".venv",
   "language": "python",
   "name": "python3"
  },
  "language_info": {
   "name": "python",
   "version": "3.11.0 (main, Oct 24 2022, 18:26:48) [MSC v.1933 64 bit (AMD64)]"
  },
  "orig_nbformat": 4,
  "vscode": {
   "interpreter": {
    "hash": "ec52cf3539ca893954defdfc36ac00d2164c8fdde2d1da3e04650ed797400bad"
   }
  }
 },
 "nbformat": 4,
 "nbformat_minor": 2
}
