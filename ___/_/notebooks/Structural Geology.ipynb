{
 "cells": [
  {
   "cell_type": "markdown",
   "metadata": {},
   "source": [
    "# Structural Geology (MG440P46)"
   ]
  },
  {
   "cell_type": "code",
   "execution_count": 26,
   "metadata": {},
   "outputs": [
    {
     "name": "stdout",
     "output_type": "stream",
     "text": [
      "The autoreload extension is already loaded. To reload it, use:\n",
      "  %reload_ext autoreload\n"
     ]
    }
   ],
   "source": [
    "%load_ext autoreload\n",
    "%autoreload 2\n",
    "\n",
    "import numpy as np\n",
    "from continuum import Tensor, PureShear"
   ]
  },
  {
   "cell_type": "markdown",
   "metadata": {},
   "source": [
    "## Homework 2.1\n",
    "\n",
    "Total simple shear deformation $\\mathbf{F}$ has $\\gamma$ = 2. Find a deformation increment $\\mathbf{F}_i$ that needs to be repeated 50 times to produce $\\mathbf{F} = \\mathbf{F}_i^{50}$."
   ]
  },
  {
   "cell_type": "code",
   "execution_count": 27,
   "metadata": {},
   "outputs": [
    {
     "data": {
      "text/plain": [
       "True"
      ]
     },
     "execution_count": 27,
     "metadata": {},
     "output_type": "execute_result"
    }
   ],
   "source": [
    "F = Tensor([[1, 2], [0, 1]])\n",
    "Fi = Tensor([[1, 0.04], [0, 1]])**50\n",
    "\n",
    "# Check the correct solution: should show `True`.\n",
    "F == Fi"
   ]
  },
  {
   "cell_type": "markdown",
   "metadata": {},
   "source": [
    "## Homework 2.1\n",
    "\n",
    "Total pure shear deformation $\\mathbf{F}$ has $S_x$ = 2 and $S_y$ = 0.5. Find a deformation increment $\\mathbf{F}_i$ that needs to be repeated 10 times to produce $\\mathbf{F} = \\mathbf{F}_i^{10}$."
   ]
  },
  {
   "cell_type": "code",
   "execution_count": 28,
   "metadata": {},
   "outputs": [
    {
     "data": {
      "text/plain": [
       "True"
      ]
     },
     "execution_count": 28,
     "metadata": {},
     "output_type": "execute_result"
    }
   ],
   "source": [
    "F = PureShear(sx = 2, sy = 0.5)\n",
    "Fi = PureShear(sx = 2**(1/10), sy = 0.5**(1/10))\n",
    "\n",
    "# Check the correct solution: should show `True`.\n",
    "np.allclose(np.linalg.matrix_power(Fi, 10), F)"
   ]
  },
  {
   "cell_type": "markdown",
   "metadata": {},
   "source": [
    "# Deformation"
   ]
  },
  {
   "cell_type": "markdown",
   "metadata": {},
   "source": [
    "## Homework 2.2\n",
    "\n",
    "Deformation is defined by deformation gradient F. What should be the value of x-component of such a positional vector X, that magnitude of the displacement of the point defined by this positional vector is exactly 1. $$ F := \\begin{pmatrix} 2 & 1\\\\ 0 & \\frac{1}{2} \\end{pmatrix},  \\vec{X} := (x, 2)^T. $$\n",
    "\n",
    "By applying the deformation gradient represented by a matrix $F$ to the vector $\\vec{X}$ we get a new point positon represented by a vector $\\vec{x}$.\n",
    "\n",
    "$$ \n",
    "\\vec{x} := F\\vec{X} = \\begin{pmatrix} 2 & 1\\\\ 0 & \\frac{1}{2}  \\end{pmatrix} \\begin{pmatrix} x \\\\ 2 \\end{pmatrix} = \\begin{pmatrix} 2x + 2  \\\\ 1 \\end{pmatrix}.\n",
    "$$\n",
    "Pro hodnotu $x$ požadujeme aby výsledný vektor posunutí měl jednotkovou délku tj. $|\\Delta x| = 1$.  Vektor posunutí získáme jako rozdíl $\\Delta \\vec{x} = \\vec{X} - \\vec{x}$ \n",
    "    $$\\therefore \\Delta \\vec{x} = \\cvec{x\\\\2} - \\cvec{2x + 2 \\\\ 1}  = \\cvec{-x - 2\\\\ 1}$$. \n",
    "\n",
    "\n",
    "Podmínka pak bude mít tvar \n",
    "\n",
    "$$ \\sqrt{(-x - 2)^2 + 1^2= 1^2}  $$\n",
    "$$ \\sqrt{x^2 + 4x + 5} = 1 /^2 $$\n",
    "$$ x^2 + 4x + 4 = 0 $$\n",
    "$$ (x + 2)^2 =  0 $$\n",
    "\n",
    "Poslední rovnice je splněna jen pro $x = -2$ a tedy hledaný vektor je $\\cvec{-2\\\\2}$."
   ]
  },
  {
   "cell_type": "markdown",
   "metadata": {},
   "source": [
    "# Rheology\n",
    "\n",
    "- Reologie se zabývá vlastnostmi materiálu zejména jeho plastického chování, pokud je vystaven napětí.\n",
    "\n",
    "## Fluids\n",
    "\n",
    "- Viskozita je veličina vyjadřující míru odporu tekutiny k tečení.\n",
    "\n",
    "$$ \\eta := [Pa.s] $$\n",
    "\n",
    "- Rychlostní profil Newtonovské tekutiny má tvar paraboly.\n",
    "- Rychlostní profil Binghamovské tekutiny je charakteritický čelní plošinou.\n",
    "\n",
    "## Solids"
   ]
  },
  {
   "cell_type": "markdown",
   "metadata": {},
   "source": [
    "# Odkazy\n",
    "\n",
    "- https://www.doitpoms.ac.uk/tlplib/dislocations/slip_via_dislocation.php"
   ]
  },
  {
   "cell_type": "markdown",
   "metadata": {},
   "source": [
    "\n",
    "# Deformation analysis quantitative methods\n",
    "\n",
    "1. Circle shaped objects\n",
    "2. Ellipse shaped objects\n",
    "3. Angle changes\n",
    "  - Wellman's method\n",
    "  - Wettsteon's equiations\n",
    "4. Fry's method (center-center)\n",
    "\n",
    "## Circle shaped objects analysis\n",
    "\n",
    "This method is based on assumption that objects had circle shape before they were deformed.\n",
    "\n",
    "$$\n",
    "S_{ellipse} = \\pi ab \\\\\n",
    "S_{circle} =  \\pi r^2 \n",
    "\\\\\\therefore\\\\\n",
    "r = \\sqrt{ab}\n",
    "$$\n"
   ]
  },
  {
   "cell_type": "code",
   "execution_count": null,
   "metadata": {},
   "outputs": [],
   "source": []
  }
 ],
 "metadata": {
  "kernelspec": {
   "display_name": "notes",
   "language": "python",
   "name": "notes"
  },
  "language_info": {
   "codemirror_mode": {
    "name": "ipython",
    "version": 3
   },
   "file_extension": ".py",
   "mimetype": "text/x-python",
   "name": "python",
   "nbconvert_exporter": "python",
   "pygments_lexer": "ipython3",
   "version": "3.7.3"
  }
 },
 "nbformat": 4,
 "nbformat_minor": 4
}
