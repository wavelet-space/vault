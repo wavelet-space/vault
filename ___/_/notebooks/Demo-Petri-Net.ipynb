{
 "metadata": {
  "language_info": {
   "codemirror_mode": {
    "name": "ipython",
    "version": 3
   },
   "file_extension": ".py",
   "mimetype": "text/x-python",
   "name": "python",
   "nbconvert_exporter": "python",
   "pygments_lexer": "ipython3",
   "version": "3.9.1"
  },
  "orig_nbformat": 2,
  "kernelspec": {
   "name": "python3",
   "display_name": "Python 3.9.1 64-bit",
   "metadata": {
    "interpreter": {
     "hash": "160f3226710bd06f16f90b12f08f30ec5f26859f74a917686de4d6eeab70b457"
    }
   }
  }
 },
 "nbformat": 4,
 "nbformat_minor": 2,
 "cells": [
  {
   "cell_type": "code",
   "execution_count": 6,
   "metadata": {},
   "outputs": [],
   "source": [
    "\n",
    "from uuid import uuid4\n",
    "from dataclasses import dataclass\n",
    "\n",
    "\n",
    "@dataclass(frozen=True)\n",
    "class Element:\n",
    "\n",
    "\n",
    "@dataclass(frozen=True)\n",
    "class Place:\n",
    "    id = uuid4()\n",
    "\n",
    "\n",
    "@dataclass(frozen=Tru)    \n",
    "class Transition:\n",
    "    id = uuid4()\n",
    "\n",
    "\n",
    "p1 = Place()"
   ]
  },
  {
   "cell_type": "code",
   "execution_count": null,
   "metadata": {},
   "outputs": [],
   "source": []
  }
 ]
}