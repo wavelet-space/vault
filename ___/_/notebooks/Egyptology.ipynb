{
 "cells": [
  {
   "cell_type": "markdown",
   "metadata": {},
   "source": [
    "# Egyptologie\n",
    "\n",
    "Zde se nachází osobní poznámky o egyptologii.\n",
    "\n",
    "## Chronologie\n",
    "\n",
    "...\n",
    "\n",
    "## Glosář\n",
    "\n",
    "> Namerova paleta (3200-3000 BC) obsahuje první hyeroglyfické znaky a výjevy představující sjednocení horního a dolního Egypta faraonem Namerem. Na každé straně je král zobrazen s korunou dané oblasti.\n",
    "\n",
    "> Nechen nebo Hierakonpolis bylo náboženské a politické centrum Horního Egypta na konci Předdynastického a začátku Raně dynastického období. \n",
    "\n",
    "> Nabta Playa\n"
   ]
  }
 ],
 "metadata": {
  "kernelspec": {
   "display_name": "notes",
   "language": "python",
   "name": "notes"
  },
  "language_info": {
   "codemirror_mode": {
    "name": "ipython",
    "version": 3
   },
   "file_extension": ".py",
   "mimetype": "text/x-python",
   "name": "python",
   "nbconvert_exporter": "python",
   "pygments_lexer": "ipython3",
   "version": "3.7.3"
  }
 },
 "nbformat": 4,
 "nbformat_minor": 4
}
