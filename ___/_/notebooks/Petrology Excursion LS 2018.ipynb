{
 "cells": [
  {
   "cell_type": "markdown",
   "metadata": {},
   "source": [
    "# Petrologická a Mineralogická exkurze\n",
    "\n",
    "Terénní exkurze z mineralogie a petrologie zahrnovala návštěvu mnoha lokalit na uzemí Českého masivu, kde jsme studovali magmatické, sedimentární a metamorfované horniny a také k nim přidružené minerály. Celý popis exkurze člením chronologicky, tak jak jsme jednotlivé lokality navštívili."
   ]
  },
  {
   "cell_type": "markdown",
   "metadata": {},
   "source": [
    "## 1. Den\n",
    " \n",
    "__(1)__ Jako první  jsme navštívili kamenolom *Bernartice*, jehož ložisko patří do Moldanubika a obsahuje biotitickou a migmatikou pararulu, serpentinit (hadec) s žilkami magnetitu či chrysolitu. Z minerálů se dal nalézt žíly magnezitu. __(2)__ Pak jsme pokračovali k ložisku *Magdaléna* v obci *Vlastějovice*, kde se nachází skarn, který je tvořen hlavně granátem a pyroxenem a dále je v něm v menší míře obsažen epidot, magnetit a amfibol a nakonec také ložisko obsahuje výrazné žíly pegmatitu. Stále se pohybujeme v horninách Moldanubika. __(3)__ Zámecká skála u města Ledeč nad Sázavou obsahuje přechod od metamorfovaných vápenců po erlány a dále páskovaný mramor. Horniny jsou výrazně zvrásněny. Tyto asymetrické vrásové struktury vznikly zřejmě různými změnami směru napětí. Nedaleko se nachází i vrch Melechov a tzv. Melechovský masiv. __(4)__ V Lokalitě *Lipnice nad Sázavou* se vyskytuje muskovito-bititický granit, který obsahuje také křemen, draselný živec a plagiokla a vznikl parciálním tavením  ve větších hloubkách a vznikl zřejmě pri Varijské orogenezi, protože obsahuje též xenolity rul. __(5)__ Jako poslední jsme tento den naštívili *Přibyslavskou mylonitovou zónu*, kde se nacházejí tmavé jemné zrnité mylonity (s porfyroklasty živce). Jejich mmatečnou horninou (protolytem) byl buď granit nebo pararula na které proběhla mylonitizace -- metamorfóza způsobena zejména orientovaným tlakem. Stáří této oblasti spadá do proterozoika."
   ]
  },
  {
   "cell_type": "markdown",
   "metadata": {},
   "source": [
    "## 2. Den\n",
    "\n",
    "__(6)__ Strážecné Moldanubikum u Nové Vsi, kde se nachází durbachit, která obsahuje větší množství amfibolu, biotitu, dále vyrostlice draselného živce s typickým karlovarským dvojčatěním a akcesorické minerály zirkon a titanit. __(7)__ V lomu Mirošov, kde se nachází tělesa amfibolu a biotitických pararul s výraznou migmatizací. Jsou zde také tělesa mramorů. __(8)__ Na lokalitě Heřmanov jsme mohli nalézt tzv. heřmanovské koule, což je směs flogopitu a antofylitu mající v ideálním případě kulový tvar. __(9)__ Lomu Dřinová u Tišnova je nalezištěm granitoidů (mylonitizované), brunidů a dolomitických vápenců. Jde o proterozoické horniny. __(10)__ V lokalitě Doubravník se nachází tzv. Bítešská ortorula s amfibol a epidotem. __(11)__  Lokalita Nedvědice se nachází v tzv. Svrateckém krystaliniku a nacházejí se zde namodralé krystalické vápence (mramory obsahující modrý kalcit) zasazené v rulách. N akontaktech s těmito horninami vzniká erlán obsahující minerály grossulár, diopsid a melastonit. Stáří těchto hornin je také proterozoické. __(12)__ V Rožné na vrchu Hradisko se nachází ložisko pegmatitů obsahující křemen, albit, lepidolit a vzácné lithium. Horniny jsou variského stáří. "
   ]
  },
  {
   "cell_type": "markdown",
   "metadata": {},
   "source": [
    "## 3. Den\n",
    "\n",
    "__(13)__ Horní Bory se také nachází ve Strážeckém moldanubiku a nachází se zde světlé granulity s granátem, střídají se s biotitickými granulity, které obsahují křemen, draselný živec, plagioklas, sillimanitu, kyanitu, granátu a biotit. __(14)__ Hrad s názvem Zkamenělý zámek je chráněnou oblastí spadající do oblasti Svrateckého krystalinika, kde se nachází ůžové metagranity a ortoruly s nižšim stupněm metamorfózy než v moldanubické zóně. Tyto horniny obsahují velké vyrostlice draselného živce, křemene a biotitu. Také se zde nachází biotitický migmatit. Stáří hornin je proterozoické. __(15)__ V lomu Budislav se nacházejí biotitické tonality až granodiority obsahující xenolity a dále žíly růžového zderazského granitu. __(16)__ Střemošická stráň obsahuje křídové sedimenty mořského původu, zejména prachové a pískové slínovce s otisky fosilií. Můžeme zde také najít jílový minerál glaukonit. __(17)__ V Lokalita Bošov se nachází tzv. Železnohosrský pluton s ložisky magmatických hornin, zejména granitů a dioritů. Stáří techto hornin spadá do mladšího variského období. "
   ]
  },
  {
   "cell_type": "markdown",
   "metadata": {},
   "source": [
    "## 4. Den\n",
    "\n",
    "__(18)__ Zatopený lom Borek je tořen eklogitem a serpentinitem, která vznikl metamorfózou bazaltu (subdukčně). Náleá se v nich granát, omfacit, titan, kyanit, rutil a křemen. __(19)__ V lokalitě Spačice se nachází granulit jehož protolitem je granit. __(20)__ V lokalitě Červené Pečky se nachází vápnité pískovce, slínovce a spraše. Celá lokalita spadá do České křídové pánve a ve stěnách lze nalézt mnoho schránek ústřic ze svrchni křídy. Silné schránky mlžů ukazují na to, že v oblasti byly silné příboje. __(21)__ V lomu Bořetice se nachází granátický serpentinit a žilky chrysolitu. Stáří lokality spadá do proterozoika. __(22)__ Jednou z posledních lokalit byl Kučov s permokarbonskými sedimenty a nakonec __(23)__ Památník svobody, který je tvořen mohutným tělesem granitu vyčnívajícího několik metrů nad zem.\n"
   ]
  },
  {
   "cell_type": "markdown",
   "metadata": {},
   "source": [
    "-- David Landa, GEOL"
   ]
  }
 ],
 "metadata": {
  "kernelspec": {
   "display_name": "Python 3",
   "language": "python",
   "name": "python3"
  },
  "language_info": {
   "codemirror_mode": {
    "name": "ipython",
    "version": 3
   },
   "file_extension": ".py",
   "mimetype": "text/x-python",
   "name": "python",
   "nbconvert_exporter": "python",
   "pygments_lexer": "ipython3",
   "version": "3.7.3"
  }
 },
 "nbformat": 4,
 "nbformat_minor": 4
}
