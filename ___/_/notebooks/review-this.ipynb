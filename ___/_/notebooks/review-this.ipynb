{
 "cells": [
  {
   "cell_type": "markdown",
   "metadata": {},
   "source": [
    "#  Chemie \n",
    "\n",
    "\n",
    "## Rychlost chemické reakce\n",
    "\n",
    "V chemii nás často zajímá rychlost reakce tj. jak rychle se reaktanty mění v produkty. Tato rzchlost obecně yáelží na mnoha faktorech jako je množství produktů, teplota atd. Rychlost reakce je tedy změna ubýtku koncetrace reaktantů respektive přírustku produktů s časem.\n",
    "\n",
    "Z matematického hlediska jde o diferenciální rovnice prvního řádu, kdy samotná se zárověŃ s časem mění vstupní parametry funkce tedy koncetrace.  \n",
    "\n",
    "## Odvození rovnic pro rychlost reakce\n",
    "\n",
    "\n",
    "### Reakce nultého řádu\n",
    "\n",
    "\n",
    "### Reakce prvního řádu\n",
    "\n",
    "při jednosměrné reakce prvního řádu se koncentrace mění exponencálně tzn. že rychlost této přeměnz je konstantní.\n",
    "\n",
    "\n",
    "Pokud máme pouze jediný reaktant A ze kterého vniká produkt B, případně více produktů C, D atd., mluvíme o chemické reakci prvního řádu. \n",
    "\n",
    "\n",
    "### Reakce druhého řádu\n",
    "\n",
    "\n",
    "elementární částice a jejich interakce\n",
    "jádro atomu a jeho stabulita\n",
    "přirozená radioakticita a jaderná reakce\n",
    "\n",
    "dualistický charakter elementárních částic\n",
    "zákaldy vlnové mechaniky\n",
    "vlnová funkce \n",
    "\n",
    "\n",
    "\n",
    "\n",
    "\n",
    "\n"
   ]
  },
  {
   "cell_type": "code",
   "execution_count": null,
   "metadata": {},
   "outputs": [],
   "source": []
  }
 ],
 "metadata": {
  "kernelspec": {
   "display_name": "uetoyo.github.io-SRku4Qxw",
   "language": "python",
   "name": "uetoyo.github.io-srku4qxw"
  },
  "language_info": {
   "codemirror_mode": {
    "name": "ipython",
    "version": 3
   },
   "file_extension": ".py",
   "mimetype": "text/x-python",
   "name": "python",
   "nbconvert_exporter": "python",
   "pygments_lexer": "ipython3",
   "version": "3.7.0"
  }
 },
 "nbformat": 4,
 "nbformat_minor": 2
}
