{
 "cells": [
  {
   "cell_type": "markdown",
   "metadata": {},
   "source": [
    "# Jupyer\n",
    "\n",
    "\n",
    "\n",
    "## Use virtualenv via Pipenv to create self-contained environment\n",
    "    \n",
    "Get the name of current virtual environment.\n",
    "\n",
    "    pipenv --venv\n",
    "\n",
    "Install a new kernel and run notebook.\n",
    "\n",
    "    ipython kernel install --user --name=some-NR2zPhVz\n",
    "    jupyter notebook\n",
    "\n",
    "## Remote Serving\n",
    "\n",
    "Run the kernel on a beefy server, view with a browser on your laptop. You can change the ports appropriately to something high and unused.\n",
    "\n",
    "- On laptop, initiate SSH with a tunnel ssh -L8888:localhost:12321 vlad@my-beefy-server.com\n",
    "- On server, launch tmux if you’d like to persist the Jupyter server (useful if you need to keep running stuff and reconnect notebook later).\n",
    "- On server, jupyter notebook --no-browser --port=12321\n",
    "- On laptop, navigate to localhost:8888 in-browser.\n",
    "\n",
    "\n",
    "## Other\n",
    "\n",
    "- Do all imports in the first cell\n",
    "- Keep your draft notebooks (vs Git?)\n",
    "- Wrap cell content in a function"
   ]
  },
  {
   "cell_type": "code",
   "execution_count": 1,
   "metadata": {},
   "outputs": [],
   "source": [
    "import pip\n",
    "#sorted([\"%s==%s\" % (i.key, i.version) for i in pip.get_installed_distributions()])"
   ]
  },
  {
   "cell_type": "markdown",
   "metadata": {},
   "source": [
    "# Algoritmy\n",
    "\n",
    "## Metrics (Distance)\n",
    "\n",
    "# Struktury\n",
    "\n",
    "## Graf\n",
    "\n",
    "### Acyclic Graph\n",
    "\n",
    "Acyklický Graf (neorientovaný) nemá cyklus.\n",
    "\n",
    "### Directed Acyclic Graph (DAG)\n",
    "\n",
    "Orientovaný Acyklický Graf.\n",
    "\n",
    "### Wait for Graph\n",
    "\n",
    "### Reprezentace\n",
    "\n",
    "$$\n",
    "\n",
    "\n",
    "// Reprezentuje uzel uchovávající generická data.\n",
    "Node<T>\n",
    "\n",
    "// Reprezentuje homohenní hranu, která spojuje dva uzly stejného typu bez udaného směru.\n",
    "Homogenous_Edge(node: Node<T>, node: Node<T>)\n",
    "\n",
    "// reprezentuje homogenní hranu, která spojuje dva uzly stejného typu v udaném směru.\n",
    "Homogenous_Directed_Edge(node, node)\n",
    "\n",
    "Graph<T>:\n",
    "    nodes<T>: \n",
    "    edges\n",
    "$$\n"
   ]
  }
 ],
 "metadata": {
  "kernelspec": {
   "display_name": "uetoyo.github.io-SRku4Qxw",
   "language": "python",
   "name": "uetoyo.github.io-srku4qxw"
  },
  "language_info": {
   "codemirror_mode": {
    "name": "ipython",
    "version": 3
   },
   "file_extension": ".py",
   "mimetype": "text/x-python",
   "name": "python",
   "nbconvert_exporter": "python",
   "pygments_lexer": "ipython3",
   "version": "3.7.0"
  }
 },
 "nbformat": 4,
 "nbformat_minor": 2
}
