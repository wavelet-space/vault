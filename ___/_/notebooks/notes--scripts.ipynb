{
 "cells": [
  {
   "cell_type": "markdown",
   "metadata": {},
   "source": [
    "##### Jak namapovat 2D pole na 1D\n",
    "    \n",
    "    |1|2|3|\n",
    "    |4|5|6| -> |1|2|3|4|5|6|7|8|9|\n",
    "    |7|8|9|\n",
    "\n",
    "```python\n",
    "values = [WIDTH * HEIGHT]\n",
    "\n",
    "def set_value(x, y, value):\n",
    "    value[x * WIDTH + y] = value\n",
    "\n",
    "def get_value(x, y):\n",
    "    return values[x * WIDTH + y]\n",
    "```\n",
    "\n",
    "#### transformers\n",
    "\n",
    "#### string"
   ]
  },
  {
   "cell_type": "code",
   "execution_count": 24,
   "metadata": {},
   "outputs": [],
   "source": [
    "def normalize(text: str) -> str:\n",
    "    import re\n",
    "    return re.sub(\"[\\r\\n\\t ]+\", \" \", text).strip()"
   ]
  },
  {
   "cell_type": "code",
   "execution_count": 25,
   "metadata": {},
   "outputs": [
    {
     "name": "stdout",
     "output_type": "stream",
     "text": [
      "0 [\t\ttext with multiple tabs\t\t] [ text with multiple tabs ]\n",
      "1 [text with multiple \n",
      "\n",
      " new lines] [text with multiple new lines]\n",
      "2 [text with multiple \n",
      "\n",
      " new spaces] [text with multiple new spaces]\n"
     ]
    }
   ],
   "source": [
    "texts = [\n",
    "    \"[\\t\\ttext with multiple tabs\\t\\t]\",\n",
    "    \"[text with multiple \\n\\n new lines]\",\n",
    "    \"[text with multiple \\n\\n new spaces]\"\n",
    "]\n",
    "\n",
    "for index, text in enumerate(texts):\n",
    "    print(index, text, normalize_text(text))"
   ]
  }
 ],
 "metadata": {
  "kernelspec": {
   "display_name": "uetoyo.github.io-SRku4Qxw",
   "language": "python",
   "name": "uetoyo.github.io-srku4qxw"
  },
  "language_info": {
   "codemirror_mode": {
    "name": "ipython",
    "version": 3
   },
   "file_extension": ".py",
   "mimetype": "text/x-python",
   "name": "python",
   "nbconvert_exporter": "python",
   "pygments_lexer": "ipython3",
   "version": "3.7.0"
  }
 },
 "nbformat": 4,
 "nbformat_minor": 2
}
