{
 "cells": [
  {
   "cell_type": "code",
   "execution_count": 9,
   "metadata": {},
   "outputs": [
    {
     "data": {
      "text/plain": [
       "<matplotlib.axes._subplots.AxesSubplot at 0x123800b8>"
      ]
     },
     "execution_count": 9,
     "metadata": {},
     "output_type": "execute_result"
    },
    {
     "data": {
      "image/png": "[encoded data removed]",
      "text/plain": [
       "<Figure size 432x288 with 1 Axes>"
      ]
     },
     "metadata": {
      "needs_background": "light"
     },
     "output_type": "display_data"
    }
   ],
   "source": [
    "import pandas as pd\n",
    "Fe_values = pd.DataFrame([1.08, 1.18, 2.06, 1.73, 1.06, 1.08, 0.93, 1.83 ,3.35, 1.51, 1.59, 2.59, 1.71, 2.71, 3.05, 1.43, 1.7, 1.28])\n",
    "\n",
    "mean = Fe_values.mean()\n",
    "median = Fe_values.median()\n",
    "\n",
    "# print(\"Mean\", mean)print(\"Median\", median)\n",
    "Fe_values.boxplot()\n"
   ]
  },
  {
   "cell_type": "code",
   "execution_count": 8,
   "metadata": {},
   "outputs": [
    {
     "data": {
      "text/plain": [
       "array([[<matplotlib.axes._subplots.AxesSubplot object at 0x0000000012138828>]],\n",
       "      dtype=object)"
      ]
     },
     "execution_count": 8,
     "metadata": {},
     "output_type": "execute_result"
    },
    {
     "data": {
      "image/png": "[encoded data removed]",
      "text/plain": [
       "<Figure size 432x288 with 1 Axes>"
      ]
     },
     "metadata": {
      "needs_background": "light"
     },
     "output_type": "display_data"
    }
   ],
   "source": [
    "Fe_values.hist(bins=range(0, 5))"
   ]
  },
  {
   "cell_type": "markdown",
   "metadata": {},
   "source": [
    "## Histrogram\n",
    "\n",
    "## Charakteristika polohy\n",
    "\n",
    "Cílem je pomocí jedinné hodnoty vystihnout nějakou reprezentativní charakteristiku datového souboru.\n",
    "Každá z hodnot datového souboru poskytuje určitou informaci.\n",
    "\n",
    "### Průměr *mean*, *average*\n",
    "\n",
    "\n",
    "\n",
    "\n",
    "\n",
    "### Percentil zejména Kvartil\n",
    "\n",
    "### Krabicový diagram *box plot*\n",
    "\n",
    "### Modus\n",
    "\n",
    "*Modus představuje nejčetnější hodnota souboru.*\n",
    "\n",
    "### Vážený průměr\n",
    "\n",
    "...\n",
    "\n",
    "## Opakované pokusy\n",
    "\n",
    "- Nezávislý pokus\n",
    "- Závislý pokus\n",
    "\n",
    "## Náhodná veličina\n",
    "\n",
    "## Distrubuční funkce\n"
   ]
  },
  {
   "cell_type": "markdown",
   "metadata": {},
   "source": [
    "## Testování hypotéz\n",
    "\n",
    "Statistický test\n",
    "\n",
    "- Hypotéza $H$\n",
    "- Alternativa $A$\n",
    "- testová statistika $T$\n",
    "- kritická hodnota (kvantil)\n",
    "\n",
    "\n",
    "- ($\\alpha$) Chyba prvního druhu = zamítnem správnou hypotézu (je důležitá)\n",
    "- ($\\beta$) Chyba druhého druhu = nezamítneme nesprávnou hypotézu\n",
    "\n",
    "## Jednovýběrový t-test\n",
    "\n",
    "Využití intervalu spolehlivosti k testování hypotéz\n",
    "\n",
    "## Dvouvýběrový t-test\n",
    "\n",
    "\n",
    "\n",
    "###  znaménkový test\n",
    "\n",
    "\n",
    "\n"
   ]
  },
  {
   "cell_type": "markdown",
   "metadata": {},
   "source": []
  }
 ],
 "metadata": {
  "kernel_info": {
   "name": "research-33bwxu6l"
  },
  "kernelspec": {
   "display_name": "research-33bwxU6l",
   "language": "python",
   "name": "research-33bwxu6l"
  },
  "language_info": {
   "codemirror_mode": {
    "name": "ipython",
    "version": 3
   },
   "file_extension": ".py",
   "mimetype": "text/x-python",
   "name": "python",
   "nbconvert_exporter": "python",
   "pygments_lexer": "ipython3",
   "version": "3.7.0"
  },
  "nteract": {
   "version": "0.12.3"
  }
 },
 "nbformat": 4,
 "nbformat_minor": 2
}
