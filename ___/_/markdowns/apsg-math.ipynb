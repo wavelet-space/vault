{
 "cells": [
  {
   "cell_type": "markdown",
   "metadata": {},
   "source": [
    "# APSG `math`\n",
    "\n",
    "As a scalar we mean a `float` or `int` type. \n",
    "For Python 3 it can be defined as union type.\n",
    "\n",
    "    Scalar = Union[int, float]\n"
   ]
  },
  {
   "cell_type": "code",
   "execution_count": null,
   "metadata": {},
   "outputs": [],
   "source": [
    "from apsg.math import Matrix2"
   ]
  },
  {
   "cell_type": "code",
   "execution_count": null,
   "metadata": {},
   "outputs": [],
   "source": [
    "m = Matrix2(1, 2)\n",
    "m.x"
   ]
  },
  {
   "cell_type": "markdown",
   "metadata": {},
   "source": [
    "### Module `matrix`\n",
    "\n",
    "Module `matrix` contains a class `Matrix`, `Matrix 2` \n"
   ]
  },
  {
   "cell_type": "markdown",
   "metadata": {},
   "source": [
    "###  Module `vector`\n",
    "\n",
    "Module `vector` contains the public (exported) types `Vector2` a `Vector3.`.\n",
    "\n",
    "#### `Vector` type\n",
    "\n",
    "The `Vector` type is a base class from which all other vectors are derived.\n",
    "\n",
    "##### Primary Functions\n",
    "\n",
    "###### Unary Operators\n",
    "\n",
    "- `- vector` viz `__neg__(self)`\n",
    "\n",
    "    Negate the vector by negating every component. \n",
    "\n",
    "    $v' = (-v_1, -v_2, ..., -v_n)$\n",
    "\n",
    "      Example:\n",
    "        >>> v = Vector(1.0, -1.0)\n",
    "        >>> -v\n",
    "        Vector(-1.0, 1.0)\n",
    "\n",
    "###### Binary Operators\n",
    "\n",
    "- `vector + vector` viz `__add__(self, other: Vector)`\n",
    "\n",
    "    Adds two vectors.\n",
    "    \n",
    "      Example:\n",
    "        >>> v1 = Vector(0.0, 1.0)\n",
    "        >>> v2 = Vector(0.0, 1.0)\n",
    "        >>> v1 + v2\n",
    "        Vector2(1.0, 1.0)\n",
    "\n",
    "\n",
    "- `scalar * vector` viz `__mul__(self, other: Vector)`\n",
    "\n",
    "    The left scalar multiplication of vector.\n",
    "\n",
    "    $v' = (s * v_1, s * v_2, ..., s * v_n)$\n",
    "\n",
    "      Example:\n",
    "        >>> s = 2.0\n",
    "        >>> v = Vector(1.0, 1.0)\n",
    "        >>> v' = s * v #> (2.0, 2.0)\n",
    "\n",
    "##### Derived methods and operators\n",
    "\n",
    "- `vector * scalar` viz `__rmul__(self, other)`\n",
    "\n",
    "    The right scalar multiplication of vector.\n",
    "    \n",
    "    Uses the `__mul__(self, scalar)` method.\n",
    "\n",
    "    $\\vec{v} - \\vec{u} = \\vec{v} + (-\\vec{u})$\n",
    "    \n",
    "    \n",
    "        def __rmul__(self, scalar: Scalar) -> Vector[T]:\n",
    "            return scalar * self "
   ]
  },
  {
   "cell_type": "code",
   "execution_count": null,
   "metadata": {},
   "outputs": [],
   "source": []
  }
 ],
 "metadata": {
  "kernelspec": {
   "display_name": "apsg-rb7ehhR6",
   "language": "python",
   "name": "apsg-rb7ehhr6"
  },
  "language_info": {
   "codemirror_mode": {
    "name": "ipython",
    "version": 3
   },
   "file_extension": ".py",
   "mimetype": "text/x-python",
   "name": "python",
   "nbconvert_exporter": "python",
   "pygments_lexer": "ipython3",
   "version": "3.6.6"
  }
 },
 "nbformat": 4,
 "nbformat_minor": 2
}
