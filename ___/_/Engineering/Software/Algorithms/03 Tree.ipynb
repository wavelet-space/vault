{
 "cells": [
  {
   "cell_type": "code",
   "execution_count": 19,
   "source": [
    "\r\n",
    "\r\n",
    "class Tree:\r\n",
    "    \"\"\"\r\n",
    "    A general n-ary tree data structure.\r\n",
    "    \r\n",
    "    create     tree\r\n",
    "    insert     node\r\n",
    "    update     node\r\n",
    "    remove     node\r\n",
    "    rotate     tree\r\n",
    "    delete     tree\r\n",
    "    find_first node\r\n",
    "    find_every node\r\n",
    "    render      \r\n",
    "    \"\"\"\r\n",
    "    def __init__(self, value, *nodes: 'Tree'):\r\n",
    "        \"\"\"\r\n",
    "        Create a new tree.\r\n",
    "        \"\"\"\r\n",
    "        self.value = value\r\n",
    "        self.nodes = nodes\r\n",
    "        \r\n",
    "    def insert(node):\r\n",
    "        pass\r\n",
    "        \r\n",
    "    def remove(node):\r\n",
    "        pass\r\n",
    "    \r\n",
    "\r\n"
   ],
   "outputs": [],
   "metadata": {}
  },
  {
   "cell_type": "code",
   "execution_count": 38,
   "source": [
    "class BinaryTree(Tree):\r\n",
    "    \"\"\"\r\n",
    "    A binary tree data structure.\r\n",
    "    \"\"\"\r\n",
    "    \r\n",
    "    def __init__(self, value, node1=None, node2=None) -> \"BinaryTree\":\r\n",
    "        super().__init__(value, node1, node2)\r\n",
    "    \r\n",
    "    def __repr__(self) -> str:\r\n",
    "        return f\"{self.__class__.__name__}({self.value}, {self.nodes[0]} , {self.nodes[1]})\"\r\n",
    "    \r\n",
    "    def __eq__(self) -> bool:\r\n",
    "        return NotImplemented\r\n",
    "    \r\n",
    "    "
   ],
   "outputs": [],
   "metadata": {}
  },
  {
   "cell_type": "code",
   "execution_count": 39,
   "source": [
    "btree = BinaryTree(1, BinaryTree(2), BinaryTree(3))"
   ],
   "outputs": [],
   "metadata": {}
  },
  {
   "cell_type": "code",
   "execution_count": 40,
   "source": [
    "btree"
   ],
   "outputs": [
    {
     "output_type": "execute_result",
     "data": {
      "text/plain": [
       "BinaryTree(1, BinaryTree(2, None , None) , BinaryTree(3, None , None))"
      ]
     },
     "metadata": {},
     "execution_count": 40
    }
   ],
   "metadata": {}
  },
  {
   "cell_type": "code",
   "execution_count": 41,
   "source": [
    "class UnaryTree(Tree):\r\n",
    "    \"\"\"\r\n",
    "    An unary tree data structure -- the list!\r\n",
    "    This is for education purpouse ONLY!\r\n",
    "    \"\"\""
   ],
   "outputs": [],
   "metadata": {}
  },
  {
   "cell_type": "code",
   "execution_count": null,
   "source": [],
   "outputs": [],
   "metadata": {}
  }
 ],
 "metadata": {
  "kernelspec": {
   "display_name": "notes",
   "language": "python",
   "name": "notes"
  },
  "language_info": {
   "codemirror_mode": {
    "name": "ipython",
    "version": 3
   },
   "file_extension": ".py",
   "mimetype": "text/x-python",
   "name": "python",
   "nbconvert_exporter": "python",
   "pygments_lexer": "ipython3",
   "version": "3.7.3"
  }
 },
 "nbformat": 4,
 "nbformat_minor": 4
}