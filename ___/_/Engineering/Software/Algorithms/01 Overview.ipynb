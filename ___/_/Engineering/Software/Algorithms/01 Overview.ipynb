{
 "cells": [
  {
   "cell_type": "markdown",
   "metadata": {},
   "source": [
    "# Data Structures and Algorithms \n",
    "\n",
    "## Array\n",
    "\n",
    "## Stack\n",
    "\n",
    "## Queue\n",
    "\n",
    "## List\n",
    "  - Singly Linked List\n",
    "  - Doubly linked List\n",
    "\n",
    "## Trees\n",
    "\n",
    "- General Tree\n",
    "- Binary Tree\n",
    "- N-nary Tree\n",
    "  \n",
    "### Binary Tree (btree)\n",
    "\n",
    "### Oct Tree (octree)\n",
    "\n",
    "### Quad Tree (quadtree)\n",
    "\n",
    "## Graphs\n",
    "\n",
    "Directed Graph    \n",
    "Weighthed Graph\n",
    "\n",
    "### Algorithms\n",
    "   \n",
    "- Depth First Search\n",
    "- Breadth First Search\n",
    "\n",
    "## Map (Hash Table)\n",
    "\n"
   ]
  },
  {
   "cell_type": "code",
   "execution_count": null,
   "metadata": {},
   "outputs": [],
   "source": [
    "\n",
    "https://www.interviewcake.com/"
   ]
  }
 ],
 "metadata": {
  "kernelspec": {
   "display_name": "notes",
   "language": "python",
   "name": "notes"
  },
  "language_info": {
   "codemirror_mode": {
    "name": "ipython",
    "version": 3
   },
   "file_extension": ".py",
   "mimetype": "text/x-python",
   "name": "python",
   "nbconvert_exporter": "python",
   "pygments_lexer": "ipython3",
   "version": "3.7.3"
  }
 },
 "nbformat": 4,
 "nbformat_minor": 4
}
