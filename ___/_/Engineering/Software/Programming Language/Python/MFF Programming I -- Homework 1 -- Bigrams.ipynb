{
 "cells": [
  {
   "cell_type": "markdown",
   "metadata": {},
   "source": [
    "Programming 1: Homework\n",
    "The examples are submited to https://recodex.mff.cuni.cz/"
   ]
  },
  {
   "cell_type": "markdown",
   "metadata": {},
   "source": [
    "# Bigram\n",
    "\n",
    "## Zadání\n",
    "\n",
    "Napište program, který zjistí počty výskytů (frekvenci) všech bigramů chapaných jako dvojice sousedních písmen.\n",
    "\n",
    "- Vstupní text načti ze souboru `vstup.txt` v kódování `utf-8`.\n",
    "- Výstupní text ulož do souboru `vystup.txt` v kódovaní `utf-8`.\n",
    "      Formát souboru  `bigram<mezera>frekvence`, např.:\n",
    "          ab 3\n",
    "          bb 1\n",
    "          ...\n",
    "- Tabulku setřiďte primárně podle frekvencí sestupně, případných více bigramů stejné frekvence třiďte lexikograficky.\n",
    "- Pro zjištění, zda znak je písmeno, použijte metodu `str::isalpha()`. \n",
    "- Písmena převádějte na malá metodou `str::lower()`.\n",
    "\n",
    "### Vstup\n",
    "```\n",
    "a AB abc\n",
    "\n",
    "abc ab a\n",
    "\n",
    "a1b;c3d\n",
    "\n",
    "ababab\n",
    "```\n",
    "### Výstup\n",
    "```\n",
    "ab 7\n",
    "ba 2\n",
    "bc 2\n",
    "```\n",
    "\n",
    "### Poznámky\n",
    "\n",
    "Rozdělení `re.split(r'[^a-zA-Z]+', word)` není povoleno.\n",
    "Musíme použít jinou metodu založenou na cyklu a ``isalpha()."
   ]
  },
  {
   "cell_type": "code",
   "execution_count": 36,
   "metadata": {},
   "outputs": [
    {
     "name": "stdout",
     "output_type": "stream",
     "text": [
      "ab 7\n",
      "ba 2\n",
      "bc 2\n"
     ]
    }
   ],
   "source": [
    "import re\n",
    "import itertools\n",
    "import logging\n",
    "\n",
    "from collections import Counter, OrderedDict\n",
    "from typing import Iterable, Tuple\n",
    "\n",
    "\n",
    "def read_words(path: str) -> Iterable[str]:\n",
    "    with open(path, encoding=\"utf8\") as file:\n",
    "        return list(itertools.chain(*(line.split() for line in file)))\n",
    "    \n",
    "    \n",
    "def clean_words(words: Iterable[str]) -> Iterable[str]:\n",
    "    result = []\n",
    "    for word in [x.lower() for x in words if len(x) > 1]:\n",
    "        buffer = []\n",
    "        for char in word:\n",
    "            if char.isalpha():\n",
    "                buffer.append(char)\n",
    "            else:\n",
    "                result.append(\"\".join(buffer))\n",
    "                buffer.clear()\n",
    "        if len(buffer) > 1:\n",
    "            result.append(\"\".join(buffer))\n",
    "   \n",
    "        # logging.warning(result)   \n",
    "                \n",
    "    return list(result)\n",
    "\n",
    "def make_bigrams(words: Iterable[str]) -> Tuple[str, str]:\n",
    "    for word in words:\n",
    "        for i, j in zip(word, word[1:]):\n",
    "            yield f\"{i}{j}\"\n",
    "\n",
    "def main():\n",
    "    words = clean_words(read_words(\"vstup.txt\"))\n",
    "    \n",
    "    # logging.warning(words)    \n",
    "    \n",
    "    # Keep dictionary ordered (not needed in Python 3.7+).\n",
    "    bigrams =  OrderedDict({ \n",
    "        k: v for k, v in sorted(\n",
    "            Counter(list(make_bigrams(words))).items(), \n",
    "            key=lambda x: (-x[1], x[0]), reverse=False)\n",
    "        })\n",
    "    \n",
    "    with open(\"vystup.txt\", mode=\"w\", encoding=\"utf8\") as file:\n",
    "        lines = \"\".join( [f'{\"\".join(bigram)} {frequency}\\n' for bigram, frequency in bigrams.items()]).rstrip()\n",
    "        file.write(lines)\n",
    "        # logging.warning(line) \n",
    "\n",
    "if __name__ == \"__main__\":        \n",
    "    main()"
   ]
  },
  {
   "cell_type": "code",
   "execution_count": null,
   "metadata": {},
   "outputs": [],
   "source": []
  }
 ],
 "metadata": {
  "kernelspec": {
   "display_name": "notes",
   "language": "python",
   "name": "notes"
  },
  "language_info": {
   "codemirror_mode": {
    "name": "ipython",
    "version": 3
   },
   "file_extension": ".py",
   "mimetype": "text/x-python",
   "name": "python",
   "nbconvert_exporter": "python",
   "pygments_lexer": "ipython3",
   "version": "3.7.3"
  }
 },
 "nbformat": 4,
 "nbformat_minor": 4
}
