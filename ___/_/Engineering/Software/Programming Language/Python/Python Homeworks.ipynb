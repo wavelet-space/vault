{
 "cells": [
  {
   "cell_type": "markdown",
   "metadata": {},
   "source": [
    "--- \n",
    "# HOMEWORK 1\n",
    "---"
   ]
  },
  {
   "cell_type": "markdown",
   "metadata": {},
   "source": [
    "## Problem\n",
    "\n",
    "Print the variable with the greatest value."
   ]
  },
  {
   "cell_type": "code",
   "execution_count": null,
   "metadata": {},
   "outputs": [],
   "source": [
    "from random import randint"
   ]
  },
  {
   "cell_type": "markdown",
   "metadata": {},
   "source": [
    "## Solution 1\n",
    "\n",
    "The example return the first variable which matches the criteria or last variable if the `last_match` parameter is set to `True`."
   ]
  },
  {
   "cell_type": "code",
   "execution_count": null,
   "metadata": {},
   "outputs": [],
   "source": [
    "def maximum(a: int, b: int, c: int, last_match: bool=False) -> str:\n",
    "    \n",
    "    result = a, \"a\"\n",
    "    \n",
    "    if last_match:\n",
    "        if b >= result[0]: \n",
    "            result = b, \"b\"\n",
    "        if c >= result[0]: \n",
    "            result = c, \"c\"\n",
    "    else:\n",
    "        if b > result[0]: \n",
    "            result = b, \"b\"\n",
    "        if c > result[0]: \n",
    "            result = c, \"c\"\n",
    "\n",
    "    return result[1]"
   ]
  },
  {
   "cell_type": "code",
   "execution_count": null,
   "metadata": {},
   "outputs": [],
   "source": [
    "a, b, c = randint(0, 100), randint(0, 100), randint(0, 100)\n",
    "print(f\"From the given numbers a={a}, b={b}, c={c} the greatest is `{ maximum(a, b, c) }`.\")"
   ]
  },
  {
   "cell_type": "code",
   "execution_count": null,
   "metadata": {},
   "outputs": [],
   "source": [
    "a, b, c = 1, 1, 1\n",
    "print(f\"From the given numbers a={a}, b={b}, c={c} the first greatest is `{ maximum(a, b, c) }`.\")"
   ]
  },
  {
   "cell_type": "code",
   "execution_count": null,
   "metadata": {},
   "outputs": [],
   "source": [
    "a, b, c = 1, 1, 1\n",
    "print(f\"From the given numbers a={a}, b={b}, c={c} the last greatest is `{ maximum(a, b, c, last_match = True) }`.\")"
   ]
  },
  {
   "cell_type": "markdown",
   "metadata": {},
   "source": [
    "## Solution 2"
   ]
  },
  {
   "cell_type": "markdown",
   "metadata": {},
   "source": [
    "#### Algorithm\n",
    "\n",
    "0. Read the values `a`, `b`, `c`.\n",
    "1. Store the value of the first argument `a` in the `result` variable. \n",
    "2. Compare the value of `result` with the value of second argument `b`: \n",
    "   If the value of `b` is greater then `result`, store that value in the `result`. \n",
    "2. Compare the value of `result` with the value of second argument `c`: \n",
    "   If the value of `c` is greater then `result`, store that value in the `result`. \n",
    "4. Return the value of `result`.\n",
    "\n",
    "__There is no need to use nested `if-elif` It only makes the algorithm and implementation harder to read.__\n",
    "\n",
    "#### Complexity\n",
    "\n",
    "The time complexity is $O(n)$. The space complexity is $O(1)$."
   ]
  },
  {
   "cell_type": "code",
   "execution_count": null,
   "metadata": {},
   "outputs": [],
   "source": [
    "def maximum(a: int, b: int, c: int) -> int:\n",
    "    result = a\n",
    "    \n",
    "    if b > result:\n",
    "        result = b\n",
    "    \n",
    "    if c > result:\n",
    "        result = c\n",
    "    \n",
    "    return result"
   ]
  },
  {
   "cell_type": "code",
   "execution_count": null,
   "metadata": {},
   "outputs": [],
   "source": [
    "a, b, c = randint(0, 100), randint(0, 100), randint(0, 100)\n",
    "print(f\"From the given numbers {a, b, c} the greatest is {maximum(a, b, c)}.\")"
   ]
  },
  {
   "cell_type": "markdown",
   "metadata": {},
   "source": [
    "The function `maximum` can be extended to arbitrary number of parameters where for every additional parameter there is a corepondent `if` statement block. See the example bellow with a new parameter `d`."
   ]
  },
  {
   "cell_type": "code",
   "execution_count": null,
   "metadata": {},
   "outputs": [],
   "source": [
    "def maximum(a: int, b: int, c: int, d: int) -> int:\n",
    "    result = a\n",
    "    \n",
    "    if b > result:\n",
    "        result = b\n",
    "    \n",
    "    if c > result:\n",
    "        result = c\n",
    "    \n",
    "    if d > result:\n",
    "        result = d\n",
    "    \n",
    "    return result"
   ]
  },
  {
   "cell_type": "code",
   "execution_count": null,
   "metadata": {},
   "outputs": [],
   "source": [
    "numbers = randint(0, 100), randint(0, 100), randint(0, 100), randint(0, 100)\n",
    "print(f\"From the given numbers {*numbers,} the greatest is {maximum(*numbers)}.\")"
   ]
  },
  {
   "cell_type": "markdown",
   "metadata": {},
   "source": [
    "One can see that with growing number of parameters the `for` cycle can be used."
   ]
  },
  {
   "cell_type": "code",
   "execution_count": null,
   "metadata": {},
   "outputs": [],
   "source": [
    "def maximum(*numbers: int):\n",
    "    \n",
    "    result = numbers[0]\n",
    "\n",
    "    for number in numbers[1:]:\n",
    "        if number > result:\n",
    "            result = number\n",
    "    \n",
    "    return result\n",
    "\n",
    "numbers = [randint(0, 100) for x in range(0, 10)]\n",
    "           \n",
    "print(f\"From the given numbers {*numbers,} the greatest is {maximum(*numbers)}.\")"
   ]
  },
  {
   "cell_type": "markdown",
   "metadata": {},
   "source": [
    "  It should be pointed out that Python is dynamically typed language. It means that we can pass any type of arguments -- not only `int` -- to our function which are *orderable* (https://stackoverflow.com/a/8796908). The semantics of `>` will vary depending on the type of the variable. What does it mean to compare persons e.g `Petr > Pavel`? Make it any sense? Think about it :)."
   ]
  },
  {
   "cell_type": "markdown",
   "metadata": {},
   "source": [
    "### Using the *built-in* functions\n",
    "\n",
    "For every problem there is a solution in the Python standard library or external package."
   ]
  },
  {
   "cell_type": "code",
   "execution_count": null,
   "metadata": {},
   "outputs": [],
   "source": [
    "a, b, c = randint(0, 100), randint(0, 100), randint(0, 100)\n",
    "print(f\"From the given numbers {a, b, c} the greatest is { max(a, b, c) }.\")"
   ]
  },
  {
   "cell_type": "code",
   "execution_count": null,
   "metadata": {},
   "outputs": [],
   "source": [
    "print(f\"From the given numbers {a, b, c} the greatest is { sorted([a, b, c])[-1] }.\")"
   ]
  },
  {
   "cell_type": "markdown",
   "metadata": {},
   "source": [
    "## Problem\n",
    "\n",
    "Given formula for vertical motion and initial values $v_0$, $g$ and $t$ compute the value $h(t=0.6)$.\n",
    "\n",
    "$$ h(h_0, v_0, t) = h_0 + v_0 t- \\frac{1}{2} g t^2 $$ where:\n",
    "\n",
    "* $h_0$ is the initial height at $t=0$\n",
    "* $v_0$ is the initial velocity at $t=0$\n",
    "* $g$ is the acceleration due to gravity\n"
   ]
  },
  {
   "cell_type": "markdown",
   "metadata": {},
   "source": [
    "## Solution"
   ]
  },
  {
   "cell_type": "code",
   "execution_count": null,
   "metadata": {},
   "outputs": [],
   "source": [
    "h0 = 0   # m\n",
    "v0 = 5   # m.s^{-1}\n",
    "g = 9.81 # m.s^{-2}\n",
    "t = 0.6  # s\n",
    "\n",
    "h = h0 + (v0 * t) - (0.5 * g) * t**2\n",
    "\n",
    "print(f\"The height of a ball after {t} seconds is {h} meters.\")"
   ]
  },
  {
   "cell_type": "markdown",
   "metadata": {},
   "source": [
    "## Problem\n",
    "\n",
    "$$ A = A_0\\left(1+\\frac{p}{100}\\right)^n$$"
   ]
  },
  {
   "cell_type": "markdown",
   "metadata": {},
   "source": [
    "## Solution"
   ]
  },
  {
   "cell_type": "code",
   "execution_count": null,
   "metadata": {},
   "outputs": [],
   "source": [
    "p  = 5    # Interest rate in percent per year.\n",
    "n  = 3    # Number of years since initial deposit.\n",
    "A0 = 1000 # Initial amount of money in euros.\n",
    "\n",
    "amount = A0 * (1 + p * 0.01)**n \n",
    "\n",
    "print(\"The amount of money in the account after {} years is: {:.2f} euros\".format(n, amount))"
   ]
  },
  {
   "cell_type": "markdown",
   "metadata": {},
   "source": [
    "## Problem\n",
    "\n",
    "$$t = \\frac{M^{2/3}c\\rho^{1/3}}{K\\pi^2(4\\pi/3)^{2/3}}\\ln\\left[0.76\\frac{T_o - T_w}{T_y - T_w}\\right]$$"
   ]
  },
  {
   "cell_type": "markdown",
   "metadata": {},
   "source": [
    "## Solution"
   ]
  },
  {
   "cell_type": "code",
   "execution_count": null,
   "metadata": {},
   "outputs": [],
   "source": [
    "from math import pi, log\n",
    "from itertools import product\n",
    "\n",
    "Tw = 100    # C Temperature of the water\n",
    "Ty = 70     # C Desired temperature of the yolk\n",
    "rho = 1.038 # g cm^{-3}\n",
    "M = 67      # g\n",
    "K = 5.4e-3  # W cm^{-1} K^{-1}\n",
    "c = 3.7     # J g^{-1} K^{-1}\n",
    "\n",
    "for T0, M in product([4, 20], [47, 67]):\n",
    "    t = (M **(2/3)) * c * rho**(1/3) /  K / pi**2 / (4 * pi / 3 )** (2/3) * log( 0.76  * (T0 - Tw) / (Ty - Tw))\n",
    "    print(f\"Time required for perfect {M} egg when To = {T0}°C is {t/60:.2f} minutes.\")"
   ]
  },
  {
   "cell_type": "markdown",
   "metadata": {},
   "source": [
    "--- \n",
    "# HOMEWORK 2\n",
    "---"
   ]
  },
  {
   "cell_type": "markdown",
   "metadata": {},
   "source": [
    "## Problem\n",
    "\n",
    "Correct all errors in the following program and write comments what is wrong in following cell.\n",
    "\n",
    "```\n",
    "from math import sin, cos\n",
    "x = pi / 4\n",
    "1_val = sin^2( x ) + cos^2( x )\n",
    "print 1_VAL\n",
    "```"
   ]
  },
  {
   "cell_type": "markdown",
   "metadata": {},
   "source": [
    "## Solution\n",
    "\n",
    "- The `pi` is not imported\n",
    "- The `1_val` is not a valid name\n",
    "- The `1_VAL` is not defined and is not a valid name either.\n",
    "- The `print` must be a function in Python 3.\n",
    "- The `sin^2(x)` and `cos^2( x )` are not correct expression.     "
   ]
  },
  {
   "cell_type": "code",
   "execution_count": null,
   "metadata": {},
   "outputs": [],
   "source": [
    "from math import sin, cos, pi\n",
    "x = pi / 4\n",
    "val = sin(x)**2 + cos(x)**2\n",
    "print(val)"
   ]
  },
  {
   "cell_type": "markdown",
   "metadata": {},
   "source": [
    "## Problem\n",
    "\n",
    "The Fibonacci sequence is an integer sequence of Fibonacci numbers $F_n$ is defined recursivelly as $\n",
    "F_{n}=F_{n - 1}+F_{n - 2}$ where $F_{0} = 1$ and $F_{1} = 1$.\n",
    "\n",
    "- Compute the value $F_{100}$ of Fibonacci sequence. \n",
    "- Validate the result with $F_{100} = 354224848179261915075$.\n",
    "\n",
    "For more information see https://mathworld.wolfram.com/FibonacciNumber.html."
   ]
  },
  {
   "cell_type": "markdown",
   "metadata": {},
   "source": [
    "## Solution 1\n",
    "\n",
    "The naive iterative version."
   ]
  },
  {
   "cell_type": "code",
   "execution_count": null,
   "metadata": {},
   "outputs": [],
   "source": [
    "F100 = 354224848179261915075 # For testing purpose."
   ]
  },
  {
   "cell_type": "code",
   "execution_count": null,
   "metadata": {},
   "outputs": [],
   "source": [
    "def fibonacci(n: int) -> int:\n",
    "    if n < 0: \n",
    "        raise ValueError\n",
    "    a, b = 0, 1 \n",
    "    for _ in range(n):\n",
    "        a, b = b, a + b\n",
    "    return a\n",
    "\n",
    "result = fibonacci(100)#; assert F100 == result\n",
    "\n",
    "print(f\"F100 = {result}\") "
   ]
  },
  {
   "cell_type": "code",
   "execution_count": null,
   "metadata": {},
   "outputs": [],
   "source": [
    "fibonacci(100)\n",
    "573147844013817084101"
   ]
  },
  {
   "cell_type": "markdown",
   "metadata": {},
   "source": [
    "## Solution 2\n",
    "\n",
    "The memoized version. Can raise `RecursionError: maximum recursion depth exceeded in comparison` for big $n$ ."
   ]
  },
  {
   "cell_type": "code",
   "execution_count": null,
   "metadata": {},
   "outputs": [],
   "source": [
    "def fibonacci(n: int, computed = {0: 0, 1: 1}) -> int:\n",
    "    if n < 0: \n",
    "        raise ValueError\n",
    "    \n",
    "    if n not in computed:\n",
    "        computed[n] = fibonacci(n - 1, computed) + fibonacci(n - 2, computed)\n",
    "    \n",
    "    return computed[n]"
   ]
  },
  {
   "cell_type": "code",
   "execution_count": null,
   "metadata": {},
   "outputs": [],
   "source": [
    "result = fibonacci(100); assert F100 == result\n",
    "\n",
    "print(f\"F100 = {result}\") "
   ]
  },
  {
   "cell_type": "markdown",
   "metadata": {},
   "source": [
    "## Problem\n",
    "\n",
    "Let's define function R based on Fibonacci sequence as $R(n) := \\frac{F_{n+1}}{F_n}$ for integer $n\\geqslant 0$.\n",
    "Write small program, which will print first 20 values in the form:\n",
    "```\n",
    "R(0)=1.0\n",
    "R(1)=2.0\n",
    "R(2)=1.5\n",
    "...\n",
    "```"
   ]
  },
  {
   "cell_type": "markdown",
   "metadata": {},
   "source": [
    "## Solution"
   ]
  },
  {
   "cell_type": "code",
   "execution_count": null,
   "metadata": {},
   "outputs": [],
   "source": [
    "def R(n):\n",
    "    return float(fibonacci(n + 2) / fibonacci(n + 1))\n",
    "\n",
    "for n in range(20):\n",
    "    print(f\"R({n})={R(n):.5}\")"
   ]
  },
  {
   "cell_type": "code",
   "execution_count": null,
   "metadata": {},
   "outputs": [],
   "source": [
    "import matplotlib.pyplot as plt\n",
    "\n",
    "xs = range(20)\n",
    "ys = [R(x) for x in xs]\n",
    "plt.plot(xs, ys, \"--b.\")"
   ]
  },
  {
   "cell_type": "markdown",
   "metadata": {},
   "source": [
    "## Problem\n",
    "\n",
    "Write a function to calculate the arithmetic mean (AM), geometric mean (GM) and harmonic mean (HM). The function accepts the list of numbers as input and returns tuple of three means as output.\n",
    "\n",
    "- Aritmetic Mean ${\\displaystyle {\\text{AM}} := {\\frac {1}{n}}\\sum _{i=1}^{n}a_{i}={\\frac {a_{1}+a_{2}+\\cdots +a_{n}}{n}}}$\n",
    "\n",
    "- Geometric Mean ${\\displaystyle {\\text{GM}} := {\\sqrt[{n}]{\\prod _{i=1}^{n}a_{i}}}={\\sqrt[{n}]{a_{1}a_{2}\\cdots a_{n}}}}$\n",
    "\n",
    "- Harmonic Mean ${\\displaystyle {\\text{HM}} := {\\frac {1}{{\\dfrac {1}{n}}\\displaystyle \\sum \\limits _{i=1}^{n}{\\frac {1}{a_{i}}}}}={\\frac {n}{{\\frac {1}{a_{1}}}+{\\frac {1}{a_{2}}}+\\cdots +{\\frac {1}{a_{n}}}}}}$\n",
    "\n",
    "__For production code use some numearically stable implementation:__ https://docs.python.org/3/library/statistics.html, https://docs.scipy.org/doc/scipy-0.7.x/reference/stats.html"
   ]
  },
  {
   "cell_type": "code",
   "execution_count": null,
   "metadata": {},
   "outputs": [],
   "source": [
    "import operator\n",
    "from typing import Tuple\n",
    "from functools import reduce\n",
    "\n",
    "def means(xs: int) -> Tuple[float]:\n",
    "    am = reduce(operator.add, xs) / len(xs)\n",
    "    gm = reduce(operator.mul, xs) ** (1.0 / len(xs))\n",
    "    hm = reduce(operator.add, (1.0 / x for x in xs)) ** -1 * len(xs)\n",
    "    \n",
    "    return am, gm, hm\n",
    "\n",
    "data = 20.6, 35.2, 16.2, 28.5, 25.0, 17.6, 8.2, 1.8, 15.3, 7.2\n",
    "\n",
    "am, gm, hm = means(data)\n",
    "\n",
    "print(f\"AM = {am}\")\n",
    "print(f\"GM = {gm}\")\n",
    "print(f\"HM = {hm}\")"
   ]
  },
  {
   "cell_type": "markdown",
   "metadata": {},
   "source": [
    "---\n",
    "# HOMEWORK 3\n",
    "---"
   ]
  },
  {
   "cell_type": "markdown",
   "metadata": {},
   "source": [
    "## Problem \n",
    "\n",
    "**(Chessboard) You have a 8x8 2D array Z. Using strides in indexes, fill it with a ones in che kerboard pattern, so the last comand will show a nice chess board image.**\n",
    "\n",
    "You will learn how to access and modify an elemets of 2D array (matrix). \n",
    "\n",
    "## Solution"
   ]
  },
  {
   "cell_type": "code",
   "execution_count": 2,
   "metadata": {},
   "outputs": [
    {
     "data": {
      "image/png": "[encoded data removed]",
      "text/plain": [
       "<Figure size 432x288 with 1 Axes>"
      ]
     },
     "metadata": {
      "needs_background": "light"
     },
     "output_type": "display_data"
    }
   ],
   "source": [
    "import numpy as np\n",
    "import matplotlib.pyplot as pt\n",
    "\n",
    "# Fill the 8x8 array with zeros.\n",
    "Z = np.zeros((8, 8), dtype=int)\n",
    "\n",
    "# Set the value to one in even and odd rows.\n",
    "Z[1::2, ::2] = 1 # even rows, odd columns\n",
    "Z[::2, 1::2] = 1 # odd rows, even columns\n",
    "\n",
    "pt.imshow(Z, cmap=\"binary\");"
   ]
  },
  {
   "cell_type": "code",
   "execution_count": null,
   "metadata": {},
   "outputs": [],
   "source": [
    "# Z[::2,:]    #odd rows\n",
    "# Z[1::2,:]   #even rows\n",
    "# Z[:,::2]    #odd cols\n",
    "# Z[:,1::2]   #even cols"
   ]
  },
  {
   "cell_type": "markdown",
   "metadata": {},
   "source": [
    "## Problem\n",
    "\n",
    "(One sigma range) Create numpy array `x` of 200 evenly spaced numbers over a interval \\[-10, 10\\] raised to 3rd power. Find out how many numbers in `x` array are within 1σ range, i.e $-\\sigma < x < \\sigma$. Store result into variable `n`.\n",
    "\n",
    "## Solution\n",
    "\n"
   ]
  },
  {
   "cell_type": "code",
   "execution_count": 3,
   "metadata": {},
   "outputs": [],
   "source": [
    "ns = np.linspace(start=-10, stop=10, num=200, endpoint=True)\n",
    "xs = np.linspace(start=-10, stop=10, num=200, endpoint=True) ** 3"
   ]
  },
  {
   "attachments": {
    "1a8b4563-127d-42fa-8acb-9ac09f9dc4ae.png": {
     "image/png": "[encoded data removed]"
    }
   },
   "cell_type": "markdown",
   "metadata": {},
   "source": [
    "In numpy the $\\sigma$ is calculated with `numpy.std()` function. \n",
    "\n",
    "> The standard deviation $std$ is the square root of the average of the squared deviations from the mean, i.e.,\n",
    ">\n",
    "> `std = sqrt(mean(abs(x - x.mean())^2))`.\n",
    "\n",
    "![obrazek.png](attachment:1a8b4563-127d-42fa-8acb-9ac09f9dc4ae.png)"
   ]
  },
  {
   "cell_type": "code",
   "execution_count": 4,
   "metadata": {},
   "outputs": [],
   "source": [
    "σ = xs.std()\n",
    "m = xs.mean()\n",
    "σ_range = xs[(xs > m - σ ) & (xs < m + σ)]"
   ]
  },
  {
   "cell_type": "code",
   "execution_count": 5,
   "metadata": {},
   "outputs": [
    {
     "name": "stdout",
     "output_type": "stream",
     "text": [
      "-371.0640523645475 371.0640523645475\n"
     ]
    },
    {
     "data": {
      "text/plain": [
       "[<matplotlib.lines.Line2D at 0x1388e641eb8>,\n",
       " <matplotlib.lines.Line2D at 0x1388e693588>]"
      ]
     },
     "execution_count": 5,
     "metadata": {},
     "output_type": "execute_result"
    },
    {
     "data": {
      "image/png": "[encoded data removed]",
      "text/plain": [
       "<Figure size 432x288 with 1 Axes>"
      ]
     },
     "metadata": {
      "needs_background": "light"
     },
     "output_type": "display_data"
    }
   ],
   "source": [
    "import matplotlib.pyplot as plt\n",
    "_, ax = plt.subplots()\n",
    "\n",
    "σ_min, σ_max = σ_range.min(),  σ_range.max()\n",
    "\n",
    "print(σ_min, σ_max)\n",
    "\n",
    "inside = np.ma.masked_outside(xs, σ_min, σ_max)\n",
    "outside = np.ma.masked_inside(xs, σ_min, σ_max)\n",
    "\n",
    "ax.plot(0, xs.mean(), \"bo\")\n",
    "ax.plot(ns, inside, \"b\", ns, outside, \"r\")"
   ]
  },
  {
   "cell_type": "code",
   "execution_count": 10,
   "metadata": {},
   "outputs": [
    {
     "name": "stdout",
     "output_type": "stream",
     "text": [
      "There is 144 numbers within one sigma range\n"
     ]
    }
   ],
   "source": [
    "print(f'There is {σ_range.size} numbers within one sigma range')"
   ]
  },
  {
   "cell_type": "markdown",
   "metadata": {},
   "source": [
    "## Problem\n",
    "\n",
    "(Array manipulation) Given a 1D array `Z`, negate all elements which are greater than 3 and smaller than 8.\n",
    "\n",
    "## Solution"
   ]
  },
  {
   "cell_type": "code",
   "execution_count": null,
   "metadata": {},
   "outputs": [],
   "source": [
    "Z = np.arange(11)"
   ]
  },
  {
   "cell_type": "code",
   "execution_count": null,
   "metadata": {},
   "outputs": [],
   "source": [
    "Z[(Z > 3) & (Z < 8)] *= -1\n",
    "Z"
   ]
  },
  {
   "cell_type": "markdown",
   "metadata": {},
   "source": [
    "## Problem"
   ]
  },
  {
   "cell_type": "code",
   "execution_count": null,
   "metadata": {},
   "outputs": [],
   "source": [
    "# Read the CSV data to the numpy array and skip the first header row.\n",
    "data = np.loadtxt('./clementinum.csv', skiprows=1, delimiter=',')\n",
    "\n",
    "year, month, day = data[:, :3].T.astype(int)\n",
    "\n",
    "# Vyber všechny hodnoty (sloupce) od indexu 3 dále (převeď) \n",
    "temp_avg, temp_max, temp_min, prec = data[:, 3:].T"
   ]
  },
  {
   "cell_type": "code",
   "execution_count": null,
   "metadata": {},
   "outputs": [],
   "source": [
    "for y in range(1920, 2020):\n",
    "    # Calculate mean from t_avg values for year y and store into yat variable\n",
    "    yat = temp_avg[year == y].mean()\n",
    "    print(f'Average annual temperature in {y} was {yat:5.2f}°C')"
   ]
  },
  {
   "cell_type": "code",
   "execution_count": null,
   "metadata": {},
   "outputs": [],
   "source": [
    "names = {\n",
    "    1:'Jan', 2:'Feb', 3:'Mar',  4:'Apr',  5:'May',  6:'Jun',\n",
    "    7:'Jul', 8:'Aug', 9:'Sep', 10:'Oct', 11:'Nov', 12:'Dec'\n",
    "    }\n",
    "\n",
    "for m in range(1, 13):\n",
    "    # Calculate mean from temp_avg values for month m and store into mat variable\n",
    "    mat =  temp_avg[month == m].mean()\n",
    "    print(f'Average  temperature in {names[m]} during last 100 years was {mat:5.2f}°C')"
   ]
  },
  {
   "cell_type": "markdown",
   "metadata": {},
   "source": [
    "## Problem\n",
    "\n",
    "Try to find out what the following code do.\n",
    "\n",
    "- What are the resulting numbers?\n",
    "- Do you know the name of this algorithm?\n",
    " "
   ]
  },
  {
   "cell_type": "code",
   "execution_count": 11,
   "metadata": {},
   "outputs": [],
   "source": [
    "N, V = 1000, 1\n",
    "\n",
    "# Create an array `A` of integers in range [2, 1000)\n",
    "A = np.arange(2, N) \n",
    "\n",
    "# Loop until `V` is greater then sqrt(1000) == 31.622776601683793\n",
    "while V < np.sqrt(N):\n",
    "    \n",
    "    # Select from `A` values greater then current `V` value,\n",
    "    # then get the first value from that array and assign to the `V`.\n",
    "    V = A[A > V][0]\n",
    "    \n",
    "    # Create a new array in the range [2, N/V].\n",
    "    T = V * np.arange(2, N / V)\n",
    "    \n",
    "    # Iterate over the `T` array and assign `0` to values from `A` equal to `t`\n",
    "    for t in T:\n",
    "        A[A == t] = 0"
   ]
  },
  {
   "cell_type": "markdown",
   "metadata": {},
   "source": [
    "## Solution"
   ]
  },
  {
   "cell_type": "code",
   "execution_count": 12,
   "metadata": {},
   "outputs": [
    {
     "name": "stdout",
     "output_type": "stream",
     "text": [
      "This is an algorithm for finding a prime numbers: [  2   3   5   7  11  13  17  19  23  29  31  37  41  43  47  53  59  61\n",
      "  67  71  73  79  83  89  97 101 103 107 109 113 127 131 137 139 149 151\n",
      " 157 163 167 173 179 181 191 193 197 199 211 223 227 229 233 239 241 251\n",
      " 257 263 269 271 277 281 283 293 307 311 313 317 331 337 347 349 353 359\n",
      " 367 373 379 383 389 397 401 409 419 421 431 433 439 443 449 457 461 463\n",
      " 467 479 487 491 499 503 509 521 523 541 547 557 563 569 571 577 587 593\n",
      " 599 601 607 613 617 619 631 641 643 647 653 659 661 673 677 683 691 701\n",
      " 709 719 727 733 739 743 751 757 761 769 773 787 797 809 811 821 823 827\n",
      " 829 839 853 857 859 863 877 881 883 887 907 911 919 929 937 941 947 953\n",
      " 967 971 977 983 991 997]\n"
     ]
    }
   ],
   "source": [
    "print(f\"This is an algorithm for finding a prime numbers: {A[A > 0]}\")"
   ]
  },
  {
   "cell_type": "code",
   "execution_count": 13,
   "metadata": {},
   "outputs": [],
   "source": [
    "# Another solution\n",
    "prime = 2 # The first known prime.\n",
    "numbers = [_ for _ in range(2, 1000)]\n"
   ]
  },
  {
   "cell_type": "code",
   "execution_count": null,
   "metadata": {},
   "outputs": [],
   "source": []
  }
 ],
 "metadata": {
  "kernelspec": {
   "display_name": "notes",
   "language": "python",
   "name": "notes"
  },
  "language_info": {
   "codemirror_mode": {
    "name": "ipython",
    "version": 3
   },
   "file_extension": ".py",
   "mimetype": "text/x-python",
   "name": "python",
   "nbconvert_exporter": "python",
   "pygments_lexer": "ipython3",
   "version": "3.7.3"
  }
 },
 "nbformat": 4,
 "nbformat_minor": 4
}
