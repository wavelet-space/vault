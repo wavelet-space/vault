{
 "cells": [
  {
   "cell_type": "markdown",
   "metadata": {},
   "source": [
    "# Linear algebra\n",
    "\n",
    "$$ \n",
    "\\renewcommand{\\vec}[1]{\\mathbf{#1}} \n",
    "$$\n",
    "\n",
    "This document shows how to translate the language of algebra to Python with help of NumPy library."
   ]
  },
  {
   "cell_type": "code",
   "execution_count": 51,
   "metadata": {},
   "outputs": [],
   "source": [
    "import numpy as np\n",
    "\n",
    "# Modify the settings of interactove shell to show all expression outputs (not only the last one).\n",
    "from IPython.core.interactiveshell import InteractiveShell\n",
    "InteractiveShell.ast_node_interactivity = \"all\""
   ]
  },
  {
   "cell_type": "markdown",
   "metadata": {},
   "source": [
    "## Axiomatická definice vektorového prostoru\n",
    "\n",
    "Jako lineární nebo vektorvý prostor označujem množinu prvků (vektorů) s operacemi `+`, `.` které splňují podmínky:\n",
    "\n",
    "1. $ \\vec{u} + \\vec{v} = \\vec{v} + \\vec{u} $ (komutativita sčítaní vektorů)\n",
    "2. $\\alpha (\\vec{u} + \\vec{v}) = \\alpha \\vec{u} + \\alpha \\vec{v}$ (asociativita)\n",
    "3. existuje nulový prvek $\\vec{0}$.\n",
    "4. existuje opačný prvek $-\\vec{u}$.\n"
   ]
  },
  {
   "cell_type": "markdown",
   "metadata": {},
   "source": [
    "## Vektorový prostor $E^3$\n",
    "\n",
    "Bázi vektorového prostoru v $E^3$ tvoří tři ortonormální vektory označované jako $i$, $j$, $k$ nebo $e_i$, kde $i \\in {1, 2, 3}$.  "
   ]
  },
  {
   "cell_type": "markdown",
   "metadata": {},
   "source": [
    "Definice bázových vektorů $E^3$ pomocí *NumPy*. "
   ]
  },
  {
   "cell_type": "code",
   "execution_count": 52,
   "metadata": {},
   "outputs": [],
   "source": [
    "e1 = np.array([1, 0, 0], dtype=np.float) # Explicitní zadání typu provede konverzi z int na float.\n",
    "e2 = np.array([0, 1, 0])\n",
    "e3 = np.array([0, 0, 1])"
   ]
  },
  {
   "cell_type": "markdown",
   "metadata": {},
   "source": [
    "Nyní jsou e1, e2 a e3 instancemi třídy `ndarray` s čásleným typen float.\n",
    "\n",
    "Definice pomocí standardního Pythonu."
   ]
  },
  {
   "cell_type": "code",
   "execution_count": 37,
   "metadata": {},
   "outputs": [
    {
     "data": {
      "text/plain": [
       "numpy.ndarray"
      ]
     },
     "execution_count": 37,
     "metadata": {},
     "output_type": "execute_result"
    }
   ],
   "source": [
    "type(e1)"
   ]
  },
  {
   "cell_type": "code",
   "execution_count": 38,
   "metadata": {},
   "outputs": [
    {
     "data": {
      "text/plain": [
       "dtype('float64')"
      ]
     },
     "execution_count": 38,
     "metadata": {},
     "output_type": "execute_result"
    }
   ],
   "source": [
    "e1.dtype"
   ]
  },
  {
   "cell_type": "markdown",
   "metadata": {},
   "source": [
    "Pro další práce si nadefinujem dva vektory $\\vec{u}$ a $\\vec{v}$. "
   ]
  },
  {
   "cell_type": "code",
   "execution_count": 39,
   "metadata": {},
   "outputs": [],
   "source": [
    "u = e1\n",
    "v = e2"
   ]
  },
  {
   "cell_type": "markdown",
   "metadata": {},
   "source": [
    "# Operations"
   ]
  },
  {
   "cell_type": "markdown",
   "metadata": {},
   "source": [
    "## Vector addition"
   ]
  },
  {
   "cell_type": "markdown",
   "metadata": {},
   "source": [
    "$\\vec{u} + \\vec{v} = \\vec{v} + \\vec{u} $"
   ]
  },
  {
   "cell_type": "code",
   "execution_count": 46,
   "metadata": {},
   "outputs": [
    {
     "data": {
      "text/plain": [
       "array([1., 1., 0.])"
      ]
     },
     "execution_count": 46,
     "metadata": {},
     "output_type": "execute_result"
    },
    {
     "data": {
      "text/plain": [
       "True"
      ]
     },
     "execution_count": 46,
     "metadata": {},
     "output_type": "execute_result"
    }
   ],
   "source": [
    "(u + v)\n",
    "((u + v) == (v + u)).all()"
   ]
  },
  {
   "cell_type": "markdown",
   "metadata": {},
   "source": [
    "## Vector subtraction\n",
    "\n",
    "$ \\vec{u} - \\vec{v} = \\vec{v} - \\vec{u} $"
   ]
  },
  {
   "cell_type": "markdown",
   "metadata": {},
   "source": [
    "## Multiplication of vector by scalar\n",
    "\n",
    "$ \\lambda \\vec{u} = \\vec{u}\\lambda$"
   ]
  },
  {
   "cell_type": "code",
   "execution_count": 47,
   "metadata": {},
   "outputs": [
    {
     "data": {
      "text/plain": [
       "array([2., 0., 0.])"
      ]
     },
     "execution_count": 47,
     "metadata": {},
     "output_type": "execute_result"
    },
    {
     "data": {
      "text/plain": [
       "array([2., 0., 0.])"
      ]
     },
     "execution_count": 47,
     "metadata": {},
     "output_type": "execute_result"
    }
   ],
   "source": [
    "2.0 * u\n",
    "u * 2.0"
   ]
  },
  {
   "cell_type": "markdown",
   "metadata": {},
   "source": [
    "## Vector space with scalar product\n",
    "\n",
    "The scalar product or *inner product* can be computed with the `numpy.dot()` which is a free function in the `numpy` namespace or `ndarray.dot()` whoc is the method of `ndarray` class instance.\n",
    "\n",
    "Documentation [`dot`](https://numpy.org/doc/stable/reference/generated/numpy.dot.html)\n",
    "\n",
    "`a` a `b` pole dimenze jedna (1D), pak `dot(a, b)` vrací *inner procuct* tj. skalární součin dvou vektorů."
   ]
  },
  {
   "cell_type": "code",
   "execution_count": 53,
   "metadata": {},
   "outputs": [
    {
     "data": {
      "text/plain": [
       "0.0"
      ]
     },
     "execution_count": 53,
     "metadata": {},
     "output_type": "execute_result"
    }
   ],
   "source": [
    "np.dot(e1, e2)"
   ]
  },
  {
   "cell_type": "markdown",
   "metadata": {},
   "source": [
    "Pokud jem `a` instancí `ndarray` můžeme použít jeho metody `dot`."
   ]
  },
  {
   "cell_type": "code",
   "execution_count": 8,
   "metadata": {},
   "outputs": [
    {
     "data": {
      "text/plain": [
       "0.0"
      ]
     },
     "execution_count": 8,
     "metadata": {},
     "output_type": "execute_result"
    }
   ],
   "source": [
    "e1.dot(e2)"
   ]
  },
  {
   "cell_type": "markdown",
   "metadata": {},
   "source": [
    "## Klíčové koncepty\n",
    "\n",
    "- báze, bázový vektor\n",
    "- jednotkový vektor\n",
    "- nulový vektor\n",
    "- ortogonalita \n",
    "- ortonormalita\n",
    "- skalární součin\n",
    "- vektorový součin \n",
    "- smíšený součin"
   ]
  },
  {
   "cell_type": "markdown",
   "metadata": {},
   "source": [
    "$$ \n",
    "\\begin{equation} \n",
    "e = mc^2 \n",
    "\\end{equation} \n",
    "$$ "
   ]
  },
  {
   "cell_type": "code",
   "execution_count": null,
   "metadata": {},
   "outputs": [],
   "source": []
  }
 ],
 "metadata": {
  "kernelspec": {
   "display_name": "notes",
   "language": "python",
   "name": "notes"
  },
  "language_info": {
   "codemirror_mode": {
    "name": "ipython",
    "version": 3
   },
   "file_extension": ".py",
   "mimetype": "text/x-python",
   "name": "python",
   "nbconvert_exporter": "python",
   "pygments_lexer": "ipython3",
   "version": "3.7.3"
  }
 },
 "nbformat": 4,
 "nbformat_minor": 4
}
