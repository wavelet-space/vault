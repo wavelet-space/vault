{
 "cells": [
  {
   "cell_type": "markdown",
   "metadata": {},
   "source": [
    "# Simple mathematical library in pure Python\n",
    "\n",
    "## What we will do? \n",
    "\n",
    "We will build a simple  package with classes and functions for linear algebra.\n",
    "\n",
    "## Why to do it?\n",
    "\n",
    "...\n",
    "\n",
    "## Before we start\n",
    "\n",
    "Before we start we should think about waht we want to write. So what we want to write? We want to write a package possibly with classes, functions and constatnt which could help as write our programs in more consise and readable way. There is one mantra on softtware development which says: __Don't repeat yourself!__ "
   ]
  },
  {
   "cell_type": "code",
   "execution_count": 62,
   "metadata": {},
   "outputs": [],
   "source": [
    "from typing import List\n",
    "\n",
    "class Vector:\n",
    "    def __init__(self, values: List[float]):\n",
    "        self._values = values\n",
    "    \n",
    "    @property\n",
    "    def values(self):\n",
    "        return list(self._values)\n",
    "    \n",
    "    def __repr__(self) -> str:\n",
    "        return f\"{self.__class__.__name__}\"\n",
    "    \n",
    "    __str__ = __repr__\n",
    "    \n",
    "    def __add__(self, other):\n",
    "        # (Vector) -> Vector\n",
    "        return type(self)([a + b for a, b in zip(self.values, other.values)])\n",
    "    \n",
    "    def __sub__(self, other):\n",
    "        pass\n",
    "    \n",
    "    def __mul__(self, scalar):\n",
    "        pass"
   ]
  },
  {
   "cell_type": "markdown",
   "metadata": {},
   "source": [
    "## Overriding `__str__` and/or `__repr__` methods"
   ]
  },
  {
   "cell_type": "code",
   "execution_count": 63,
   "metadata": {},
   "outputs": [],
   "source": [
    "e1 = Vector([1, 0, 0])\n",
    "e2 = Vector([0, 1, 0])\n",
    "e3 = Vector([0, 0, 1])"
   ]
  },
  {
   "cell_type": "code",
   "execution_count": 64,
   "metadata": {},
   "outputs": [
    {
     "data": {
      "text/plain": [
       "Vector"
      ]
     },
     "execution_count": 64,
     "metadata": {},
     "output_type": "execute_result"
    }
   ],
   "source": [
    "(e1 + e2)"
   ]
  },
  {
   "cell_type": "markdown",
   "metadata": {},
   "source": [
    "## Implementing `+` operator"
   ]
  },
  {
   "cell_type": "markdown",
   "metadata": {},
   "source": [
    "## Implementing `-` operator"
   ]
  },
  {
   "cell_type": "markdown",
   "metadata": {},
   "source": [
    "## Implementing `*` operator"
   ]
  },
  {
   "cell_type": "markdown",
   "metadata": {},
   "source": [
    "## `Matrix` class\n",
    "\n",
    "Linear algebra defines a rectangular array of values called a *matrix*.  What are the fundamental operations which we can do with matrices?\n",
    "\n",
    "$$\n",
    "A + B := \\begin{pmatrix} a_{11} & a_{12} \\\\  a_{21} & a_{22} \\end{pmatrix} + \\begin{pmatrix} b_{11} & b_{12} \\\\ b_{21} & b_{22} \\end{pmatrix}\n",
    "$$"
   ]
  },
  {
   "cell_type": "code",
   "execution_count": null,
   "metadata": {},
   "outputs": [],
   "source": []
  },
  {
   "cell_type": "code",
   "execution_count": 65,
   "metadata": {},
   "outputs": [],
   "source": [
    "class DeformationGradient:\n",
    "    def __init__(self):\n",
    "        pass"
   ]
  },
  {
   "cell_type": "code",
   "execution_count": null,
   "metadata": {},
   "outputs": [],
   "source": []
  }
 ],
 "metadata": {
  "kernelspec": {
   "display_name": "notes",
   "language": "python",
   "name": "notes"
  },
  "language_info": {
   "codemirror_mode": {
    "name": "ipython",
    "version": 3
   },
   "file_extension": ".py",
   "mimetype": "text/x-python",
   "name": "python",
   "nbconvert_exporter": "python",
   "pygments_lexer": "ipython3",
   "version": "3.7.3"
  }
 },
 "nbformat": 4,
 "nbformat_minor": 4
}
