{
 "cells": [
  {
   "cell_type": "markdown",
   "metadata": {},
   "source": [
    "# A Tie in Noughts and Crosses I\n",
    "\n",
    "##  Zadání\n",
    "\n",
    "Na vstupu je řádek se dvěma čísly R a S.\n",
    "\n",
    "Vyplňte šachovnici o R řádcích a S sloupcích křížky (X) a kolečky (O) tak, aby se v žádném řádku, sloupci ani úhlopříčce nevyskytovalo 5 stejných symbolů po sobě.\n",
    "\n",
    "Prozradíme, že pro velikosti, na kterých úlohu testujeme, náhodné vyplnění šachovnice má požadovanou vlastnost s netriviální pravděpodobností.\n",
    "\n",
    "### Vstup\n",
    "\n",
    "    5 6\n",
    "\n",
    "### Výstup\n",
    "\n",
    "    OXXXXO\n",
    "    OOXOOX\n",
    "    XXOOXX\n",
    "    XOOXXX\n",
    "    XXOXXO\n",
    "\n",
    "Hráči mohou podváděť, takže se počty symbolů mohou lišit o více než 1."
   ]
  },
  {
   "cell_type": "code",
   "execution_count": null,
   "metadata": {},
   "outputs": [],
   "source": [
    "# import sys\n",
    "\n",
    "# # Read two positive numbers.\n",
    "\n",
    "# m, n = [int(x) for x in input().split()]\n",
    "# if m <= 0 or n <= 0:\n",
    "#     raise ValueError(\"The input must be positive number.\")\n"
   ]
  },
  {
   "cell_type": "code",
   "execution_count": 22,
   "metadata": {},
   "outputs": [],
   "source": [
    "M, N = 5, 6 \n",
    "X, O = \"X\", \"O\"\n",
    "\n",
    "board  = [[None for n in range(N)] for m in range(M)]\n",
    "\n",
    "# Board genration algortim.\n",
    "for m in range(M):\n",
    "    for n in range(N):\n",
    "        # print(m, n, board[m][n])\n",
    "        # Place \"X\" or \"O\"\n",
    "        if m % 2: board[m][n] = X \n",
    "        else: board[m][n] = O"
   ]
  },
  {
   "cell_type": "code",
   "execution_count": 21,
   "metadata": {},
   "outputs": [
    {
     "data": {
      "text/plain": [
       "[['O', 'O', 'O', 'O', 'O', 'O'],\n",
       " ['X', 'X', 'X', 'X', 'X', 'X'],\n",
       " ['O', 'O', 'O', 'O', 'O', 'O'],\n",
       " ['X', 'X', 'X', 'X', 'X', 'X'],\n",
       " ['O', 'O', 'O', 'O', 'O', 'O']]"
      ]
     },
     "execution_count": 21,
     "metadata": {},
     "output_type": "execute_result"
    }
   ],
   "source": [
    "board"
   ]
  },
  {
   "cell_type": "code",
   "execution_count": null,
   "metadata": {},
   "outputs": [],
   "source": []
  }
 ],
 "metadata": {
  "kernelspec": {
   "display_name": "notes",
   "language": "python",
   "name": "notes"
  },
  "language_info": {
   "codemirror_mode": {
    "name": "ipython",
    "version": 3
   },
   "file_extension": ".py",
   "mimetype": "text/x-python",
   "name": "python",
   "nbconvert_exporter": "python",
   "pygments_lexer": "ipython3",
   "version": "3.7.3"
  }
 },
 "nbformat": 4,
 "nbformat_minor": 4
}
