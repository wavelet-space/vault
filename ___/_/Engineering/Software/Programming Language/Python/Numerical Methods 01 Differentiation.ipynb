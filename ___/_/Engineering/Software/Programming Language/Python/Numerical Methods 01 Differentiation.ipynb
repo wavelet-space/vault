{
 "cells": [
  {
   "cell_type": "markdown",
   "metadata": {},
   "source": [
    "# Differentiation"
   ]
  },
  {
   "cell_type": "markdown",
   "metadata": {},
   "source": [
    "# Taylor series\n",
    "\n",
    "> __Taylor theorem__ or __Taylor series expansion__  Let $f$ be a $(n + 1)$ differentiable fucntion, then the $f^(n)$ (n-th derivative) can be written as\n",
    "\n",
    "$$\n",
    "f^{n} = \\frac {f^{(0)}} {0!} + \\frac{f^{(1)}} {1!} + \\frac{f^{(2)}} {2!} + \\cdots O(n) \n",
    "$$\n",
    "\n"
   ]
  },
  {
   "cell_type": "markdown",
   "metadata": {},
   "source": [
    "## The first order forward difference\n",
    "\n",
    "## The first order backward difference\n",
    "\n",
    "## The first order central difference\n",
    "\n",
    "## The second order forward difference\n",
    "\n",
    "## The second order backward difference\n",
    "\n",
    "## The second order central difference"
   ]
  },
  {
   "cell_type": "code",
   "execution_count": null,
   "metadata": {},
   "outputs": [],
   "source": []
  }
 ],
 "metadata": {
  "kernelspec": {
   "display_name": "main",
   "language": "python",
   "name": "main"
  },
  "language_info": {
   "codemirror_mode": {
    "name": "ipython",
    "version": 3
   },
   "file_extension": ".py",
   "mimetype": "text/x-python",
   "name": "python",
   "nbconvert_exporter": "python",
   "pygments_lexer": "ipython3",
   "version": "3.7.3"
  }
 },
 "nbformat": 4,
 "nbformat_minor": 4
}
