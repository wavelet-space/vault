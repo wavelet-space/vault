{
 "cells": [
  {
   "cell_type": "code",
   "execution_count": 11,
   "metadata": {},
   "outputs": [],
   "source": [
    "import numpy as np\n",
    "import scipy as sp "
   ]
  },
  {
   "cell_type": "markdown",
   "metadata": {},
   "source": [
    "## Úloha 1\n",
    "\n",
    "Doplňte následující rovnice a popište slovy jejich význam:\n",
    "\n",
    "$$\n",
    "    \\mathrm{d} \\vec{u}= (\\nabla \\mathbf{u}) \\mathrm{d}\\vec{X} \\\\\n",
    "     \\mathrm{d} \\vec{x} = \\mathbf{F} \\mathrm{d}\\vec{X}\n",
    "$$\n",
    "\n",
    "1. Lokální změna vektoru (pole) přemístění se spočte jako působení gradientu přemístění na referenční pozici.\n",
    "2. Lokální změna vektoru (pole) deformace se spočte jako působení gradientu deformace na na referenční pozici."
   ]
  },
  {
   "cell_type": "markdown",
   "metadata": {},
   "source": [
    "## Úloha 2\n",
    "\n",
    "### Řešení"
   ]
  },
  {
   "cell_type": "code",
   "execution_count": 12,
   "metadata": {},
   "outputs": [
    {
     "name": "stdout",
     "output_type": "stream",
     "text": [
      "Matice deformačního gradientu F = [[ 1.         -0.4330127 ]\n",
      " [ 1.73205081  0.25      ]].\n"
     ]
    }
   ],
   "source": [
    "# Z teorie víme, že deformační gradient F lze pomocí polární dekompozice rozložit na rotační matici R a *right stretch* tenzor U.\n",
    "\n",
    "# Rotační matici lze zapsat pomocí úhlu (radiány) otočení jako:\n",
    "theta =  np.radians(60)\n",
    "\n",
    "R = np.array([\n",
    "    [np.cos(theta), -np.sin(theta)], \n",
    "    [np.sin(theta),  np.cos(theta)]\n",
    "])\n",
    "\n",
    "# *Right stretch* tenzor definovaný pomocí osního poměru:\n",
    "e = 4 \n",
    "\n",
    "U = np.array([\n",
    "    [np.sqrt(e), 0.0], \n",
    "    [0.0, 1.0/np.sqrt(e)]\n",
    "])\n",
    "\n",
    "F = np.dot(R, U)\n",
    "\n",
    "print(f\"Matice deformačního gradientu F = {F}.\")"
   ]
  },
  {
   "cell_type": "markdown",
   "metadata": {},
   "source": [
    "## Úloha 3\n",
    "\n",
    "### Řešení\n"
   ]
  },
  {
   "cell_type": "code",
   "execution_count": 16,
   "metadata": {},
   "outputs": [
    {
     "name": "stdout",
     "output_type": "stream",
     "text": [
      "Protažení je 2.2980970388562794 a 1.346291201783626 [m].\n",
      "Úhel před deformací je 71.57 stupňů.\n",
      "Úhle po deformací je 17.86 stupňů.\n"
     ]
    }
   ],
   "source": [
    "# Deformační gradient.\n",
    "F = np.array([\n",
    "    [2.0, 1.0], \n",
    "    [0.5, 0.75]\n",
    "])\n",
    "\n",
    "# Vektory `a` a `b`.\n",
    "a = np.array((1.0, 1.0))\n",
    "b = np.array((2.0, -1.0))\n",
    "\n",
    "# Použijeme Greenův tenzor.\n",
    "C = np.dot(F.T, F)\n",
    "\n",
    "s_a = np.sqrt( a @ C @ a ) / np.linalg.norm(a)\n",
    "s_b = np.sqrt( b @ C @ b )/ np.linalg.norm(b)\n",
    "\n",
    "print(f\"Protažení je {s_a:.2f} a {s_b:.2f} [m].\")\n",
    "\n"
   ]
  },
  {
   "cell_type": "code",
   "execution_count": 22,
   "metadata": {},
   "outputs": [
    {
     "name": "stdout",
     "output_type": "stream",
     "text": [
      "Úhel před deformací je 71.57 stupňů.\n",
      "Úhel po deformací je 17.86 stupňů.\n"
     ]
    }
   ],
   "source": [
    "angle_before_cos = np.dot(a, b) / (np.linalg.norm(a) * np.linalg.norm(b))\n",
    "angle_before_rad = np.arccos(angle_before_cos)\n",
    "angle_before_deg = np.degrees(angle_before_rad)  \n",
    "\n",
    "print(f\"Úhel před deformací je {angle_before_deg:.2f} stupňů.\")\n",
    "\n",
    "S_X1, S_X2 = np.sqrt(a @ C @ a), np.sqrt(b @ C @ b) \n",
    "\n",
    "angle_after_cos = (a @ C @ b) /  (S_X1 * S_X2) \n",
    "angle_after_rad = np.arccos(angle_after_cos)\n",
    "angle_after_deg = np.degrees(angle_after_rad)\n",
    "\n",
    "print(f\"Úhel po deformaci je {angle_after_deg:.2f} stupňů.\")"
   ]
  },
  {
   "cell_type": "markdown",
   "metadata": {},
   "source": [
    "## Úloha 4\n",
    "\n",
    "\n",
    "### Řešení"
   ]
  },
  {
   "cell_type": "code",
   "execution_count": 5,
   "metadata": {},
   "outputs": [],
   "source": [
    "# Deformační gradient F (výsledná matice deformace).\n",
    "F  = np.array(\n",
    "    [[2, 4], \n",
    "    [0, 0.5]\n",
    "])\n",
    "\n",
    "# Deformační gradient F1 (první matice deformace).\n",
    "F1 = np.array([\n",
    "    [1.0, 2], \n",
    "    [0, 1]\n",
    "])"
   ]
  },
  {
   "cell_type": "markdown",
   "metadata": {},
   "source": [
    "Víme, že $\\mathbf{F} = \\mathbf{F_1} \\cdot \\mathbf{F_2}$ (superpozice) a z toho je $\\mathbf{F_2} = \\mathbf{F} \\cdot \\mathbf{F_1}^{-1}$"
   ]
  },
  {
   "cell_type": "code",
   "execution_count": 6,
   "metadata": {},
   "outputs": [
    {
     "name": "stdout",
     "output_type": "stream",
     "text": [
      "Deformační gradient F2 = [[2.  0. ]\n",
      " [0.  0.5]].\n"
     ]
    }
   ],
   "source": [
    "# Deformační gradient F2 (druhá matice deformace).\n",
    "F2 = np.dot(F, np.linalg.inv(F1))\n",
    "\n",
    "print(f\"Deformační gradient F2 = {F2}.\")"
   ]
  },
  {
   "cell_type": "markdown",
   "metadata": {},
   "source": [
    "## Uloha 5\n",
    "\n",
    "### Řešení"
   ]
  },
  {
   "cell_type": "code",
   "execution_count": 7,
   "metadata": {},
   "outputs": [
    {
     "name": "stdout",
     "output_type": "stream",
     "text": [
      "Poměr os deformační elipsy je 4.617408964017123.\n"
     ]
    }
   ],
   "source": [
    "# Použijeme singulární rozklad F (SVD).\n",
    "\n",
    "t = 365 * 24 * 3600 * 1e6   # milion years in seconds \n",
    "\n",
    "# Spatial velocity gradient.\n",
    "L = np.array([\n",
    "    [2e-14, 3e-14],\n",
    "    [0.0, -2e-14]\n",
    "])\n",
    "\n",
    "# Deformační gradient spočteme maticovým umocněním L @ L t-krát. \n",
    "F = sp.linalg.expm(L * t)\n",
    "\n",
    "U, S, V = sp.linalg.svd(F)\n",
    "\n",
    "ellipse_axis_ratio = S[0] / S[1] \n",
    "\n",
    "print(f\"Poměr os deformační elipsy je {ellipse_axis_ratio}.\")"
   ]
  },
  {
   "cell_type": "markdown",
   "metadata": {},
   "source": [
    "## Úloha 6\n",
    "\n",
    "## Řešení"
   ]
  },
  {
   "cell_type": "code",
   "execution_count": 9,
   "metadata": {},
   "outputs": [
    {
     "name": "stdout",
     "output_type": "stream",
     "text": [
      "Poměr os je 0.1353352832366121 a orientace je 135.0 stupňů.\n"
     ]
    }
   ],
   "source": [
    "\n",
    "F1 = np.array([\n",
    "    [1.0, 1.0],\n",
    "    [0.0, 1.0],\n",
    "])\n",
    "\n",
    "F2 = np.array([\n",
    "    [1.0, 0.0],\n",
    "    [1.0, 1.0],\n",
    "])\n",
    "\n",
    "# Deforamční tenzor.\n",
    "F  = sp.linalg.expm( sp.linalg.logm(F1) + sp.linalg.logm(F2))\n",
    "#F  = F1 @ F2\n",
    "\n",
    "# Fingerův tenzor.\n",
    "B = np.dot(F, F.T)\n",
    "\n",
    "S, U = np.linalg.eig(B)\n",
    "\n",
    "axis_ratio = np.sqrt(S[1]/S[0])\n",
    "orientation = np.degrees(np.arctan2(\n",
    "    U[1, 1], \n",
    "    U[0, 1]\n",
    "))\n",
    "\n",
    "print(f\"Poměr os je {axis_ratio} a orientace je {orientation} stupňů.\")\n"
   ]
  },
  {
   "cell_type": "markdown",
   "metadata": {},
   "source": [
    "## Úloha 7\n",
    "\n",
    "## Řešení\n",
    "\n"
   ]
  },
  {
   "cell_type": "code",
   "execution_count": 36,
   "metadata": {},
   "outputs": [
    {
     "name": "stdout",
     "output_type": "stream",
     "text": [
      "Napěťový vektor T = [-65.78427125 -30.78427125 -59.74873734].\n",
      "Normlévé napětí je 91.7830085889911 a střižné je 20.519080097733035 [MPa].\n"
     ]
    }
   ],
   "source": [
    "sigma = np.array([\n",
    "    [-40, -40, -35],\n",
    "    [-40, 45, -50],\n",
    "    [-35, -50, -20],\n",
    "])\n",
    "\n",
    "normal = np.cos(np.radians([\n",
    "    45, 60, 60\n",
    "]))\n",
    "\n",
    "T = np.dot(sigma, normal)\n",
    "\n",
    "sigma_n = np.abs(np.dot(T, normal)) \n",
    "tau = np.sqrt(\n",
    "    np.linalg.norm(T) ** 2 - sigma_n ** 2\n",
    ")\n",
    "\n",
    "print(f\"Napěťový vektor T = {T}.\")\n",
    "print(f\"Normlévé napětí je {sigma_n} a střižné je {tau} [MPa].\")\n"
   ]
  },
  {
   "cell_type": "markdown",
   "metadata": {},
   "source": []
  },
  {
   "cell_type": "markdown",
   "metadata": {},
   "source": []
  }
 ],
 "metadata": {
  "interpreter": {
   "hash": "ec0851b1858513cf509368568e33e57d618011e4ad3c2bd91d2f54c234f98712"
  },
  "kernelspec": {
   "display_name": "Python 3.10.0 64-bit (system)",
   "name": "python3"
  },
  "language_info": {
   "codemirror_mode": {
    "name": "ipython",
    "version": 3
   },
   "file_extension": ".py",
   "mimetype": "text/x-python",
   "name": "python",
   "nbconvert_exporter": "python",
   "pygments_lexer": "ipython3",
   "version": "3.10.0"
  },
  "orig_nbformat": 4
 },
 "nbformat": 4,
 "nbformat_minor": 2
}
