{
 "cells": [
  {
   "cell_type": "markdown",
   "id": "d2b13ca5-0892-49e2-a59e-6018f844ddde",
   "metadata": {},
   "source": [
    "# Exercise 2"
   ]
  },
  {
   "cell_type": "code",
   "execution_count": 1,
   "id": "9604f2a1-0878-40f4-80ba-d6c44cb52e99",
   "metadata": {},
   "outputs": [
    {
     "name": "stdout",
     "output_type": "stream",
     "text": [
      "Populating the interactive namespace from numpy and matplotlib\n"
     ]
    }
   ],
   "source": [
    "%pylab inline"
   ]
  },
  {
   "cell_type": "markdown",
   "id": "825c9429-6ca6-4ee2-81d1-d5866afa0afc",
   "metadata": {},
   "source": []
  },
  {
   "cell_type": "code",
   "execution_count": 2,
   "id": "8fe351af-b814-4334-91d6-dc5b817f742e",
   "metadata": {
    "tags": []
   },
   "outputs": [
    {
     "data": {
      "text/plain": [
       "array([[1, 2],\n",
       "       [3, 4]])"
      ]
     },
     "execution_count": 2,
     "metadata": {},
     "output_type": "execute_result"
    }
   ],
   "source": [
    "v = array ([1,2])\n",
    "u = array ([3,4])\n",
    "array ([v,u])"
   ]
  },
  {
   "cell_type": "code",
   "execution_count": 3,
   "id": "3869baf0-ab3b-41d7-a713-8187a1186bf0",
   "metadata": {},
   "outputs": [
    {
     "data": {
      "text/plain": [
       "array([[ -5,   0],\n",
       "       [  0, -10]])"
      ]
     },
     "execution_count": 3,
     "metadata": {},
     "output_type": "execute_result"
    }
   ],
   "source": [
    "S = array ([[-5,0],[0,-10]])\n",
    "S"
   ]
  },
  {
   "cell_type": "code",
   "execution_count": 5,
   "id": "4223495a-3e48-4623-98ac-7597a5c6edc4",
   "metadata": {},
   "outputs": [
    {
     "data": {
      "text/plain": [
       "1.0"
      ]
     },
     "execution_count": 5,
     "metadata": {},
     "output_type": "execute_result"
    }
   ],
   "source": [
    "theta = deg2rad (90) \n",
    "n1 = array ([sin(theta), cos (theta)])\n",
    "norm (n1)"
   ]
  },
  {
   "cell_type": "code",
   "execution_count": 6,
   "id": "1b4d4f3d-2491-4754-aa31-5471262178b5",
   "metadata": {},
   "outputs": [
    {
     "data": {
      "text/plain": [
       "array([-5.000000e+00, -6.123234e-16])"
      ]
     },
     "execution_count": 6,
     "metadata": {},
     "output_type": "execute_result"
    }
   ],
   "source": [
    "T1 = S @ n1   #identické s T = dot (S, n)\n",
    "T1"
   ]
  },
  {
   "cell_type": "markdown",
   "id": "1a3eefd5-e613-446e-9736-0273786c24cf",
   "metadata": {},
   "source": [
    "Je tu problém s desetinnými čísly - zaokrouhlování - numerická chyba (výsledek něco moc moc malého téměř = 0); Řešení? Ignorujeme to"
   ]
  },
  {
   "cell_type": "code",
   "execution_count": 7,
   "id": "857d1759-dc05-43d6-91be-f45c374c0b5a",
   "metadata": {},
   "outputs": [
    {
     "data": {
      "text/plain": [
       "array([ 5.000000e+00, -6.123234e-16])"
      ]
     },
     "execution_count": 7,
     "metadata": {},
     "output_type": "execute_result"
    }
   ],
   "source": [
    "n2 = ([-sin(theta), cos (theta)])\n",
    "T2 = S @ n2\n",
    "T2"
   ]
  },
  {
   "cell_type": "code",
   "execution_count": 8,
   "id": "1431896d-b711-49d8-823d-a9531c1da6a5",
   "metadata": {},
   "outputs": [
    {
     "data": {
      "text/plain": [
       "5.0"
      ]
     },
     "execution_count": 8,
     "metadata": {},
     "output_type": "execute_result"
    }
   ],
   "source": [
    "norm (T1)"
   ]
  },
  {
   "cell_type": "code",
   "execution_count": 9,
   "id": "8de8e8e4-bc85-41c9-bfeb-a630a2901edf",
   "metadata": {
    "tags": []
   },
   "outputs": [
    {
     "data": {
      "text/plain": [
       "5.0"
      ]
     },
     "execution_count": 9,
     "metadata": {},
     "output_type": "execute_result"
    }
   ],
   "source": [
    "norm (T2)"
   ]
  },
  {
   "cell_type": "markdown",
   "id": "dff3900b-bf99-4e57-a43a-5fccf232706a",
   "metadata": {},
   "source": [
    "Pokus o výpočet střižné komponenty"
   ]
  },
  {
   "cell_type": "code",
   "execution_count": 10,
   "id": "20740349-6c59-4b0b-9e54-5440c471de9f",
   "metadata": {},
   "outputs": [
    {
     "data": {
      "text/plain": [
       "array([-5.000000e+00, -3.061617e-16])"
      ]
     },
     "execution_count": 10,
     "metadata": {},
     "output_type": "execute_result"
    }
   ],
   "source": [
    "dot (T1, n1) * n1"
   ]
  },
  {
   "cell_type": "code",
   "execution_count": 13,
   "id": "e54944d0-86d2-4c4c-88f7-2c5484941a42",
   "metadata": {},
   "outputs": [
    {
     "data": {
      "text/plain": [
       "5.0"
      ]
     },
     "execution_count": 13,
     "metadata": {},
     "output_type": "execute_result"
    }
   ],
   "source": [
    "norm (dot (T1, n1) * n1)"
   ]
  },
  {
   "cell_type": "markdown",
   "id": "5ab5b21a-ca0d-429d-aab7-cb545143fdd5",
   "metadata": {},
   "source": [
    "# Exercise 3"
   ]
  },
  {
   "cell_type": "markdown",
   "id": "83cd7ea1-f8c0-4bfa-bfd4-d41d7f7049f8",
   "metadata": {},
   "source": [
    "Zareslení vektorů napětí"
   ]
  },
  {
   "cell_type": "code",
   "execution_count": 15,
   "id": "62443a7f-f8c5-466a-b3ab-463222a192a0",
   "metadata": {},
   "outputs": [
    {
     "data": {
      "text/plain": [
       "(10.0, -10.0, 10.0, -10.0)"
      ]
     },
     "execution_count": 15,
     "metadata": {},
     "output_type": "execute_result"
    },
    {
     "data": {
      "image/png": "[encoded data removed]",
      "text/plain": [
       "<Figure size 432x288 with 1 Axes>"
      ]
     },
     "metadata": {
      "needs_background": "light"
     },
     "output_type": "display_data"
    }
   ],
   "source": [
    "quiver (0,0,1,-4, units='xy', scale=1)\n",
    "quiver (0,0,1,4, units='xy', scale=1)\n",
    "axis ('equal')\n",
    "axis ((10,-10,10,-10))"
   ]
  },
  {
   "cell_type": "markdown",
   "id": "2db81cd7-eee3-4687-bd7f-915c83a6da6a",
   "metadata": {},
   "source": [
    "Pro všechny - napěťová elipsa"
   ]
  },
  {
   "cell_type": "code",
   "execution_count": 43,
   "id": "995a4190-b712-4b97-be59-5d4f99129dd5",
   "metadata": {},
   "outputs": [
    {
     "data": {
      "image/png": "[encoded data removed]",
      "text/plain": [
       "<Figure size 432x288 with 1 Axes>"
      ]
     },
     "metadata": {
      "needs_background": "light"
     },
     "output_type": "display_data"
    }
   ],
   "source": [
    "thetas = deg2rad (linspace (0,360,30))\n",
    "for theta in thetas : \n",
    "    n = array ([sin (theta), cos (theta)])\n",
    "    T = S @ n \n",
    "    quiver (0,0,*T, units='xy', scale=1)\n",
    "    axis ('equal')\n",
    "    axis ((20,-20,20,-20))"
   ]
  },
  {
   "cell_type": "markdown",
   "id": "4693bfd1-504e-4166-8a4e-6415716ad76f",
   "metadata": {},
   "source": [
    "Velikost napětí pro všechny úhly"
   ]
  }
 ],
 "metadata": {
  "kernelspec": {
   "display_name": "Python 3 (ipykernel)",
   "language": "python",
   "name": "python3"
  },
  "language_info": {
   "codemirror_mode": {
    "name": "ipython",
    "version": 3
   },
   "file_extension": ".py",
   "mimetype": "text/x-python",
   "name": "python",
   "nbconvert_exporter": "python",
   "pygments_lexer": "ipython3",
   "version": "3.9.5"
  }
 },
 "nbformat": 4,
 "nbformat_minor": 5
}
