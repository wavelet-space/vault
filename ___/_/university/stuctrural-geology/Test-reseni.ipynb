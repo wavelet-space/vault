{
 "cells": [
  {
   "cell_type": "markdown",
   "metadata": {},
   "source": [
    "# Test I. - vzorové řešení"
   ]
  },
  {
   "cell_type": "code",
   "execution_count": 1,
   "metadata": {
    "collapsed": false,
    "jupyter": {
     "outputs_hidden": false
    }
   },
   "outputs": [
    {
     "name": "stdout",
     "output_type": "stream",
     "text": [
      "%pylab is deprecated, use %matplotlib inline and import the required libraries.\n",
      "Populating the interactive namespace from numpy and matplotlib\n"
     ]
    }
   ],
   "source": [
    "%pylab inline\n",
    "from scipy.linalg import expm, logm"
   ]
  },
  {
   "cell_type": "markdown",
   "metadata": {},
   "source": [
    "## 2.\n",
    "Z polární dekompozice víme že $\\mathbf{F} = \\mathbf{R}\\cdot\\mathbf{U}$"
   ]
  },
  {
   "cell_type": "code",
   "execution_count": 2,
   "metadata": {
    "collapsed": false,
    "jupyter": {
     "outputs_hidden": false
    }
   },
   "outputs": [
    {
     "name": "stdout",
     "output_type": "stream",
     "text": [
      "Matice gradientu deformace\n",
      "[[ 1.         -0.4330127 ]\n",
      " [ 1.73205081  0.25      ]]\n"
     ]
    }
   ],
   "source": [
    "S = 4\n",
    "U = array([[sqrt(S), 0], [0, 1/sqrt(S)]])\n",
    "theta = radians(60)\n",
    "R = array([[cos(theta), -sin(theta)], [sin(theta), cos(theta)]])\n",
    "F = dot(R, U)\n",
    "print('Matice gradientu deformace')\n",
    "print(F)"
   ]
  },
  {
   "cell_type": "markdown",
   "metadata": {},
   "source": [
    "## 3."
   ]
  },
  {
   "cell_type": "code",
   "execution_count": 3,
   "metadata": {},
   "outputs": [],
   "source": [
    "F = array([[2, 1], [0.5, 0.75]])\n",
    "a = array((1, 1))\n",
    "b = array((2, -1))"
   ]
  },
  {
   "cell_type": "code",
   "execution_count": 4,
   "metadata": {},
   "outputs": [
    {
     "name": "stdout",
     "output_type": "stream",
     "text": [
      "Protazeni ve smeru A: 2.2980970388562794  Protazeni ve smeru B: 1.346291201783626\n"
     ]
    }
   ],
   "source": [
    "# A\n",
    "C = dot(F.T, F)\n",
    "Sa = sqrt(a @ C @ a)/norm(a)\n",
    "Sb = sqrt(b @ C @ b)/norm(b)\n",
    "print(f'Protazeni ve smeru A: {Sa}  Protazeni ve smeru B: {Sb}')"
   ]
  },
  {
   "cell_type": "code",
   "execution_count": 5,
   "metadata": {},
   "outputs": [
    {
     "name": "stdout",
     "output_type": "stream",
     "text": [
      "Uhel mezi a a b pred 71.56505117707799 a po 17.856223257314255 deformaci\n"
     ]
    }
   ],
   "source": [
    "# B\n",
    "pred = degrees(arccos(dot(a, b)/(norm(a) * norm(b))))\n",
    "po = degrees(arccos( (a @ C @ b)/(sqrt(a @ C @ a) * sqrt(b @ C @ b)) ))\n",
    "print(f'Uhel mezi a a b pred {pred} a po {po} deformaci')"
   ]
  },
  {
   "cell_type": "markdown",
   "metadata": {},
   "source": [
    "## 4.\n",
    "$$\\mathbf{F} = \\mathbf{F_2}\\cdot \\mathbf{F_1} \\Rightarrow \\mathbf{F_2}=\\mathbf{F}\\cdot \\mathbf{F_1}^{-1}$$"
   ]
  },
  {
   "cell_type": "code",
   "execution_count": 6,
   "metadata": {
    "collapsed": false,
    "jupyter": {
     "outputs_hidden": false
    }
   },
   "outputs": [
    {
     "name": "stdout",
     "output_type": "stream",
     "text": [
      "Matice gradientu deformace F2\n",
      "[[2.  0. ]\n",
      " [0.  0.5]]\n"
     ]
    }
   ],
   "source": [
    "F1 = array([[1, 2], [0, 1]])\n",
    "F = array([[2, 4], [0, 0.5]])\n",
    "F2 = dot(F, inv(F1))\n",
    "print('Matice gradientu deformace F2')\n",
    "print(F2)"
   ]
  },
  {
   "cell_type": "markdown",
   "metadata": {},
   "source": [
    "## 5."
   ]
  },
  {
   "cell_type": "code",
   "execution_count": 7,
   "metadata": {
    "collapsed": false,
    "jupyter": {
     "outputs_hidden": false
    }
   },
   "outputs": [
    {
     "name": "stdout",
     "output_type": "stream",
     "text": [
      "Osni pomer elipsy konecne deformace je 4.62201\n"
     ]
    }
   ],
   "source": [
    "gdot = 3e-14\n",
    "edot = 2e-14\n",
    "t = 1e6*365.25*24*3600\n",
    "L = array([[edot, gdot], [0, -edot]])\n",
    "F = expm(L*t)\n",
    "u,s,v = svd(F)\n",
    "ar = s[0]/s[1]\n",
    "print('Osni pomer elipsy konecne deformace je {:g}'.format(ar))"
   ]
  },
  {
   "cell_type": "markdown",
   "metadata": {},
   "source": [
    "## 6."
   ]
  },
  {
   "cell_type": "code",
   "execution_count": 8,
   "metadata": {
    "collapsed": false,
    "jupyter": {
     "outputs_hidden": false
    }
   },
   "outputs": [
    {
     "name": "stdout",
     "output_type": "stream",
     "text": [
      "Matice simultanni deformace\n",
      "[[1.54308063 1.17520119]\n",
      " [1.17520119 1.54308063]]\n",
      "Ar:7.38906 Ori:-135\n"
     ]
    }
   ],
   "source": [
    "F1 = array([[1, 1],[0, 1]])\n",
    "F2 = array([[1, 0],[1, 1]])\n",
    "F = expm(logm(F1) + logm(F2))\n",
    "B = dot(F, F.T)\n",
    "s, u = eig(B)\n",
    "ar = sqrt(s[1]/s[0])\n",
    "ori = degrees(arctan2(u[1, 1], u[0, 1]))\n",
    "print('Matice simultanni deformace')\n",
    "print(F)\n",
    "print(f'Ar:{ar:g} Ori:{ori:g}')"
   ]
  },
  {
   "cell_type": "markdown",
   "metadata": {},
   "source": [
    "## 7."
   ]
  },
  {
   "cell_type": "code",
   "execution_count": 9,
   "metadata": {
    "collapsed": false,
    "jupyter": {
     "outputs_hidden": false
    }
   },
   "outputs": [
    {
     "name": "stdout",
     "output_type": "stream",
     "text": [
      "Napetovy vektor T: [-65.78427125 -30.78427125 -59.74873734]\n",
      "Normalove: 91.783MPa Strizne:20.5191MPa\n"
     ]
    }
   ],
   "source": [
    "s = array([[-40, -40, -35], [-40, 45, -50], [-35, -50, -20]])\n",
    "n = cos(radians([45, 60, 60]))\n",
    "T = dot(s, n)\n",
    "print(f'Napetovy vektor T: {T}')\n",
    "sn = abs(dot(T, n))\n",
    "tau = sqrt(norm(T)**2 - sn**2)\n",
    "print(f'Normalove: {sn:g}MPa Strizne:{tau:g}MPa')"
   ]
  }
 ],
 "metadata": {
  "kernelspec": {
   "display_name": "Python 3 (ipykernel)",
   "language": "python",
   "name": "python3"
  },
  "language_info": {
   "codemirror_mode": {
    "name": "ipython",
    "version": 3
   },
   "file_extension": ".py",
   "mimetype": "text/x-python",
   "name": "python",
   "nbconvert_exporter": "python",
   "pygments_lexer": "ipython3",
   "version": "3.9.5"
  }
 },
 "nbformat": 4,
 "nbformat_minor": 4
}
