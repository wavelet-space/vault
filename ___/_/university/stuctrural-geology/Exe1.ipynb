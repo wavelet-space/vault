{
 "cells": [
  {
   "cell_type": "markdown",
   "id": "2d538515-e133-4020-8c45-9fb81e86a0fe",
   "metadata": {},
   "source": [
    "# Intro"
   ]
  },
  {
   "cell_type": "code",
   "execution_count": 18,
   "id": "14eac1ab-3ac3-47a3-895e-2bd8b1510f6a",
   "metadata": {
    "tags": []
   },
   "outputs": [],
   "source": [
    "%matplotlib inline\n",
    "from pylab import *"
   ]
  },
  {
   "cell_type": "markdown",
   "id": "83a6faba-11a8-4664-82d4-4f4cada39259",
   "metadata": {},
   "source": [
    "-- VEKTORY --"
   ]
  },
  {
   "cell_type": "code",
   "execution_count": 20,
   "id": "81cbb622-beff-46d9-aa69-15026633cad6",
   "metadata": {},
   "outputs": [
    {
     "data": {
      "text/plain": [
       "3.7416573867739413"
      ]
     },
     "execution_count": 20,
     "metadata": {},
     "output_type": "execute_result"
    }
   ],
   "source": [
    "v = array((1,2,3)) #Zápis vektoru a spočtení jeho velikosti (magnitudy)\n",
    "norm(v)"
   ]
  },
  {
   "cell_type": "code",
   "execution_count": 22,
   "id": "6e79902b-4bee-489c-a755-b60a1c63d78e",
   "metadata": {},
   "outputs": [
    {
     "data": {
      "text/plain": [
       "1.0"
      ]
     },
     "execution_count": 22,
     "metadata": {},
     "output_type": "execute_result"
    }
   ],
   "source": [
    "n = v / norm(v) #Výpočet normály vektoru\n",
    "norm(n)"
   ]
  },
  {
   "cell_type": "code",
   "execution_count": 23,
   "id": "92d20119-ad29-4cbf-9f71-6ea9a856a0ea",
   "metadata": {},
   "outputs": [],
   "source": [
    "T = array([-2,1,4,])"
   ]
  },
  {
   "cell_type": "code",
   "execution_count": 24,
   "id": "30afcc25-1460-4d37-ac08-331a94117123",
   "metadata": {},
   "outputs": [
    {
     "data": {
      "text/plain": [
       "array([0.85714286, 1.71428571, 2.57142857])"
      ]
     },
     "execution_count": 24,
     "metadata": {},
     "output_type": "execute_result"
    }
   ],
   "source": [
    "sig = dot (T,n)*n   #Vektorový součin\n",
    "sig"
   ]
  },
  {
   "cell_type": "code",
   "execution_count": 11,
   "id": "8cd0760b-2530-4241-b501-aeef41077689",
   "metadata": {
    "tags": []
   },
   "outputs": [
    {
     "data": {
      "text/plain": [
       "array([-2.85714286, -0.71428571,  1.42857143])"
      ]
     },
     "execution_count": 11,
     "metadata": {},
     "output_type": "execute_result"
    }
   ],
   "source": [
    "tau = T - sig\n",
    "tau"
   ]
  },
  {
   "cell_type": "code",
   "execution_count": 28,
   "id": "d72d122a-f012-493a-8d63-7055bbeba817",
   "metadata": {},
   "outputs": [],
   "source": [
    "# Vygenerování náhodných, rovnoměrně rozmístěných argumentů v daném intervalu"
   ]
  },
  {
   "cell_type": "code",
   "execution_count": 29,
   "id": "a2f37db5-f0fb-47d1-8c78-3f53afee66af",
   "metadata": {
    "tags": []
   },
   "outputs": [],
   "source": [
    "tetha = linspace (0, 2*pi, 30)"
   ]
  },
  {
   "cell_type": "code",
   "execution_count": 30,
   "id": "45d7a364-eabc-4884-84da-0986f74eb93b",
   "metadata": {
    "tags": []
   },
   "outputs": [
    {
     "data": {
      "text/plain": [
       "(-1.0938448550120776,\n",
       " 1.099706897857718,\n",
       " -1.0983867552362363,\n",
       " 1.0983867552362363)"
      ]
     },
     "execution_count": 30,
     "metadata": {},
     "output_type": "execute_result"
    },
    {
     "data": {
      "image/png": "[encoded data removed]",
      "text/plain": [
       "<Figure size 432x288 with 1 Axes>"
      ]
     },
     "metadata": {
      "needs_background": "light"
     },
     "output_type": "display_data"
    }
   ],
   "source": [
    "x= cos (tetha)\n",
    "y= sin (tetha)\n",
    "\n",
    "plot (x,y)  # Vykreslení grafu\n",
    "axis ('equal')"
   ]
  },
  {
   "cell_type": "markdown",
   "id": "97dd11b1-66b8-4938-a55f-e5ab8da42f75",
   "metadata": {},
   "source": [
    "# Exercise 1"
   ]
  },
  {
   "cell_type": "markdown",
   "id": "75533a3e-9380-4aa8-ac0e-74eba90c4058",
   "metadata": {},
   "source": [
    "Máme těleso na jehož plochu A0 působí síla F. Jaké zde bude působit napětí T, když bude plocha A zkosená o úhel theta? ---> chceme normálovou i střižnou komponentu napětí "
   ]
  },
  {
   "cell_type": "code",
   "execution_count": 32,
   "id": "aab5f1f7-2708-48f8-9823-89877622e7cb",
   "metadata": {},
   "outputs": [],
   "source": [
    "F = array ([0,-5])\n",
    "A0 = 1\n",
    "thetas = linspace ( 0, pi/2, 100)"
   ]
  },
  {
   "cell_type": "markdown",
   "id": "b2d70d57-dc7f-4aff-9212-d79811a82474",
   "metadata": {},
   "source": [
    "T = F/A \n",
    "A theta = a / ( cos(theta) * a ) = A0/ cos(theta)\n",
    "\n",
    "---> T = F * cos(theta) / A0"
   ]
  },
  {
   "cell_type": "markdown",
   "id": "6917f0c6-5c07-4f96-a857-6394ceb829bf",
   "metadata": {},
   "source": [
    "Normálové napětí"
   ]
  },
  {
   "cell_type": "code",
   "execution_count": 34,
   "id": "c1f7eee0-7d61-48c4-af65-bbf196556c8b",
   "metadata": {},
   "outputs": [],
   "source": [
    "sign = []\n",
    "for theta in thetas: \n",
    "    n = array ([sin (theta), cos (theta)]) #Vektor napětí spočten pomocí směrových cosinů, resp. sinů\n",
    "    T = F * cos (theta) / A0\n",
    "    sign.append ( abs (dot (T, n)) ) ; #Pro magnitudu je třeba užít absolutní hodnotu"
   ]
  },
  {
   "cell_type": "code",
   "execution_count": 35,
   "id": "1d6244e0-4f35-4d3b-8529-f662fadb95da",
   "metadata": {},
   "outputs": [
    {
     "data": {
      "text/plain": [
       "[<matplotlib.lines.Line2D at 0x1d702c82820>]"
      ]
     },
     "execution_count": 35,
     "metadata": {},
     "output_type": "execute_result"
    },
    {
     "data": {
      "image/png": "[encoded data removed]",
      "text/plain": [
       "<Figure size 432x288 with 1 Axes>"
      ]
     },
     "metadata": {
      "needs_background": "light"
     },
     "output_type": "display_data"
    }
   ],
   "source": [
    "plot (thetas, sign)"
   ]
  },
  {
   "cell_type": "markdown",
   "id": "b94f56e2-00cf-4c00-b1eb-0db90f346c8c",
   "metadata": {},
   "source": [
    "Normálové a Střižné napětí"
   ]
  },
  {
   "cell_type": "code",
   "execution_count": 16,
   "id": "75bcb12e-ea10-4d14-ac83-77ef831b072c",
   "metadata": {},
   "outputs": [],
   "source": [
    "sn_val = []\n",
    "tau_val = []\n",
    "for theta in thetas: \n",
    "    n = array ([sin (theta), cos (theta)])\n",
    "    T = F * cos (theta) / A0\n",
    "    sn = dot (T, n) * n\n",
    "    tau = T - sn\n",
    "    sn_val.append (norm (sn)) \n",
    "    tau_val.append (norm (tau))"
   ]
  },
  {
   "cell_type": "code",
   "execution_count": 17,
   "id": "8e4341aa-68dd-45c4-bd89-f6511e8287b6",
   "metadata": {},
   "outputs": [
    {
     "data": {
      "image/png": "[encoded data removed]",
      "text/plain": [
       "<Figure size 432x288 with 1 Axes>"
      ]
     },
     "metadata": {
      "needs_background": "light"
     },
     "output_type": "display_data"
    }
   ],
   "source": [
    "plot(rad2deg(thetas), sn_val, label='normalove')\n",
    "plot(rad2deg(thetas), tau_val, label= 'strizne');"
   ]
  }
 ],
 "metadata": {
  "kernelspec": {
   "display_name": "Python 3 (ipykernel)",
   "language": "python",
   "name": "python3"
  },
  "language_info": {
   "codemirror_mode": {
    "name": "ipython",
    "version": 3
   },
   "file_extension": ".py",
   "mimetype": "text/x-python",
   "name": "python",
   "nbconvert_exporter": "python",
   "pygments_lexer": "ipython3",
   "version": "3.9.5"
  }
 },
 "nbformat": 4,
 "nbformat_minor": 5
}
