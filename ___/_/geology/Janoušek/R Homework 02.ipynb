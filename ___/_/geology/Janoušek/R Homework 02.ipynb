{
 "cells": [
  {
   "cell_type": "markdown",
   "metadata": {},
   "source": [
    "# Homework 2 (R)\n",
    "\n",
    "_Data anlysis in R and Python_\n",
    "\n",
    "\n",
    "\n",
    "## Installation of kernel for JuputerLab in virtualenv\n",
    "\n",
    "__Here are my notes my future *self*.__\n",
    "\n",
    "The IRKernel documentation can be found [here] (https://irkernel.github.io/docs/IRkernel/), but I wanted to install the kernel withouc conda and place it   in my own virtual anevironemnt. The reason is I dont have jupyterlab installed in globally but I install it individually per virtual environment.\n",
    "My main virtual environment which I use for writing notes and experimantation is located in `C:/Users/dlanda/Projects/Personal/.venv/`\n",
    "Open the R console in RStudio or terminal and run these commands:\n",
    "\n",
    "- `install.packages('IRkernel')`\n",
    "- `setwd(\"C:/Users/dlanda/Projects/Personal/.venv/Scripts\")`\n",
    "- `IRkernel::installspec(user = FALSE)` -> `[InstallKernelSpec] Installed kernelspec ir in C:\\ProgramData\\jupyter\\kernels\\ir`\n",
    "\n",
    "Anyway kernels and settings for JupyterLab are installed gloally in `C:\\ProgramData\\jupyter` so it is  accesibble for all jupyterlabs installed in virtual environments. \n",
    "\n",
    "The kernel should be visible in the menu:\n",
    "\n",
    "\n"
   ]
  },
  {
   "cell_type": "markdown",
   "metadata": {},
   "source": [
    "## Problem\n",
    "\n",
    "The file `sazava.data` contains whole-rock major- and trace-element analyses for granitoid rocks from the Variscan Sázava suite of the Central Bohemian Plutonic Complex.sazava.data \n",
    "\n",
    "Solve the following steps:"
   ]
  },
  {
   "cell_type": "markdown",
   "metadata": {},
   "source": [
    "1. Read into matrix `WR` analyses stored in tab delimited data file `sazava.tsv`. \n",
    "\n",
    "2. Display a table with three columns: SiO<sub>2</sub>, MgO and Na<sub>2</sub>O/K<sub>2</sub>O. Use the function `cbind` with the right column names.\n",
    "\n",
    "3. Display a binary plot with for all the combinations of the following oxides: \n",
    "  SiO<sub>2</sub>, MgO, FeO, Fe<sub>2</sub>O<sub>3</sub>, CaO, P<sub>2</sub>O<sub>5</sub> \n",
    "\n",
    "4. Display a binary plot SiO<sub>2</sub>–CaO\n",
    "  choose suitable ranges for the x and y axes, label them and annotate plotted data points by sample names. \n",
    "  \n",
    "  Plot two versions, in one all the data points as dark blue squares, in the second assign the plotting symbols according to individual rock types (utilizing the data in the column `WR[,”Symbol”]`). Plot the line SiO<sub>2</sub>/CaO = 10 passing through the origin.\n",
    "\n",
    "5. Display box plot denoting distribution of strontium, and find out all the main statistical parameters characterizing its distribution (the range, median, number of observations and not determined cases, …). Plot the Sr data also as a frequency histogram.\n",
    "\n",
    "6. Create a matrix `x` containing only samples whose SiO<sub>2</sub> > 55 \n",
    "\n",
    "7. Display a binary plot SiO<sub>2</sub>–CaO for these samples \n",
    "\n",
    "  (set double size of the plotting symbols) and fit the data points by a straight line using the least squares linear regression."
   ]
  },
  {
   "cell_type": "markdown",
   "metadata": {},
   "source": [
    "*NB* Setting the final size of the graphical window to 5 by 5 in Jupyter notebook for aesthetics sake:"
   ]
  },
  {
   "cell_type": "code",
   "execution_count": 81,
   "metadata": {},
   "outputs": [],
   "source": [
    "options(repr.plot.width=10, repr.plot.height=10)"
   ]
  },
  {
   "cell_type": "markdown",
   "metadata": {},
   "source": [
    "## Solution"
   ]
  },
  {
   "cell_type": "code",
   "execution_count": 114,
   "metadata": {},
   "outputs": [],
   "source": [
    "# 1\n",
    "data <- read.table(\"./sazava.data\", sep=\"\\t\")"
   ]
  },
  {
   "cell_type": "code",
   "execution_count": 115,
   "metadata": {},
   "outputs": [],
   "source": [
    "# 2 \n",
    "# Select the columns and give them names with basic `cbind` function.\n",
    "cols <- cbind(SiO2 = data$SiO2, MgO = data$MgO, NaO = data$Na2O, K2O = data$K2O)"
   ]
  },
  {
   "cell_type": "code",
   "execution_count": 117,
   "metadata": {},
   "outputs": [
    {
     "data": {
      "text/html": [
       "<table>\n",
       "<caption>A matrix: 14 × 4 of type dbl</caption>\n",
       "<thead>\n",
       "\t<tr><th scope=col>SiO2</th><th scope=col>MgO</th><th scope=col>NaO</th><th scope=col>K2O</th></tr>\n",
       "</thead>\n",
       "<tbody>\n",
       "\t<tr><td>59.98</td><td>3.21</td><td>2.52</td><td>2.50</td></tr>\n",
       "\t<tr><td>55.17</td><td>3.67</td><td>3.36</td><td>1.70</td></tr>\n",
       "\t<tr><td>55.09</td><td>3.52</td><td>2.83</td><td>2.04</td></tr>\n",
       "\t<tr><td>50.72</td><td>5.18</td><td>2.83</td><td>1.60</td></tr>\n",
       "\t<tr><td>57.73</td><td>2.82</td><td>2.54</td><td>1.67</td></tr>\n",
       "\t<tr><td>52.90</td><td>3.89</td><td>2.76</td><td>1.45</td></tr>\n",
       "\t<tr><td>49.63</td><td>8.59</td><td>1.67</td><td>1.07</td></tr>\n",
       "\t<tr><td>51.72</td><td>7.47</td><td>1.97</td><td>1.38</td></tr>\n",
       "\t<tr><td>48.84</td><td>5.11</td><td>1.78</td><td>0.83</td></tr>\n",
       "\t<tr><td>55.80</td><td>3.16</td><td>3.07</td><td>1.45</td></tr>\n",
       "\t<tr><td>62.95</td><td>0.55</td><td>3.91</td><td>1.99</td></tr>\n",
       "\t<tr><td>68.30</td><td>1.77</td><td>3.63</td><td>1.95</td></tr>\n",
       "\t<tr><td>71.09</td><td>0.52</td><td>3.68</td><td>1.87</td></tr>\n",
       "\t<tr><td>71.42</td><td>0.52</td><td>2.58</td><td>1.79</td></tr>\n",
       "</tbody>\n",
       "</table>\n"
      ],
      "text/latex": [
       "A matrix: 14 × 4 of type dbl\n",
       "\\begin{tabular}{llll}\n",
       " SiO2 & MgO & NaO & K2O\\\\\n",
       "\\hline\n",
       "\t 59.98 & 3.21 & 2.52 & 2.50\\\\\n",
       "\t 55.17 & 3.67 & 3.36 & 1.70\\\\\n",
       "\t 55.09 & 3.52 & 2.83 & 2.04\\\\\n",
       "\t 50.72 & 5.18 & 2.83 & 1.60\\\\\n",
       "\t 57.73 & 2.82 & 2.54 & 1.67\\\\\n",
       "\t 52.90 & 3.89 & 2.76 & 1.45\\\\\n",
       "\t 49.63 & 8.59 & 1.67 & 1.07\\\\\n",
       "\t 51.72 & 7.47 & 1.97 & 1.38\\\\\n",
       "\t 48.84 & 5.11 & 1.78 & 0.83\\\\\n",
       "\t 55.80 & 3.16 & 3.07 & 1.45\\\\\n",
       "\t 62.95 & 0.55 & 3.91 & 1.99\\\\\n",
       "\t 68.30 & 1.77 & 3.63 & 1.95\\\\\n",
       "\t 71.09 & 0.52 & 3.68 & 1.87\\\\\n",
       "\t 71.42 & 0.52 & 2.58 & 1.79\\\\\n",
       "\\end{tabular}\n"
      ],
      "text/markdown": [
       "\n",
       "A matrix: 14 × 4 of type dbl\n",
       "\n",
       "| SiO2 | MgO | NaO | K2O |\n",
       "|---|---|---|---|\n",
       "| 59.98 | 3.21 | 2.52 | 2.50 |\n",
       "| 55.17 | 3.67 | 3.36 | 1.70 |\n",
       "| 55.09 | 3.52 | 2.83 | 2.04 |\n",
       "| 50.72 | 5.18 | 2.83 | 1.60 |\n",
       "| 57.73 | 2.82 | 2.54 | 1.67 |\n",
       "| 52.90 | 3.89 | 2.76 | 1.45 |\n",
       "| 49.63 | 8.59 | 1.67 | 1.07 |\n",
       "| 51.72 | 7.47 | 1.97 | 1.38 |\n",
       "| 48.84 | 5.11 | 1.78 | 0.83 |\n",
       "| 55.80 | 3.16 | 3.07 | 1.45 |\n",
       "| 62.95 | 0.55 | 3.91 | 1.99 |\n",
       "| 68.30 | 1.77 | 3.63 | 1.95 |\n",
       "| 71.09 | 0.52 | 3.68 | 1.87 |\n",
       "| 71.42 | 0.52 | 2.58 | 1.79 |\n",
       "\n"
      ],
      "text/plain": [
       "      SiO2  MgO  NaO  K2O \n",
       " [1,] 59.98 3.21 2.52 2.50\n",
       " [2,] 55.17 3.67 3.36 1.70\n",
       " [3,] 55.09 3.52 2.83 2.04\n",
       " [4,] 50.72 5.18 2.83 1.60\n",
       " [5,] 57.73 2.82 2.54 1.67\n",
       " [6,] 52.90 3.89 2.76 1.45\n",
       " [7,] 49.63 8.59 1.67 1.07\n",
       " [8,] 51.72 7.47 1.97 1.38\n",
       " [9,] 48.84 5.11 1.78 0.83\n",
       "[10,] 55.80 3.16 3.07 1.45\n",
       "[11,] 62.95 0.55 3.91 1.99\n",
       "[12,] 68.30 1.77 3.63 1.95\n",
       "[13,] 71.09 0.52 3.68 1.87\n",
       "[14,] 71.42 0.52 2.58 1.79"
      ]
     },
     "metadata": {},
     "output_type": "display_data"
    }
   ],
   "source": [
    "# Show the table (print).\n",
    "cols"
   ]
  },
  {
   "cell_type": "code",
   "execution_count": 118,
   "metadata": {},
   "outputs": [
    {
     "data": {
      "text/html": [
       "<table>\n",
       "<caption>A matrix: 14 × 49 of type chr</caption>\n",
       "<thead>\n",
       "\t<tr><th></th><th scope=col>Intrusion</th><th scope=col>Locality</th><th scope=col>Petrology</th><th scope=col>Outcrop</th><th scope=col>Symbol</th><th scope=col>Colour</th><th scope=col>SiO2</th><th scope=col>TiO2</th><th scope=col>Al2O3</th><th scope=col>FeO</th><th scope=col>...</th><th scope=col>Dy</th><th scope=col>Ho</th><th scope=col>Er</th><th scope=col>Tm</th><th scope=col>Yb</th><th scope=col>Lu</th><th scope=col>Y</th><th scope=col>Cs</th><th scope=col>Ta</th><th scope=col>Hf</th></tr>\n",
       "</thead>\n",
       "<tbody>\n",
       "\t<tr><th scope=row>Sa-1</th><td>Sazava</td><td>Mrac      </td><td>bi-amph quartz diorite   </td><td>working quarry      </td><td>10</td><td>4</td><td>59.98</td><td>0.63</td><td>16.42</td><td>5.46</td><td>...</td><td>NA  </td><td>NA  </td><td>NA  </td><td>NA  </td><td>NA  </td><td>NA  </td><td>25</td><td>NA </td><td>NA </td><td>NA </td></tr>\n",
       "\t<tr><th scope=row>Sa-2</th><td>Sazava</td><td>Mrac      </td><td>bi-amph quartz diorite   </td><td>working quarry      </td><td>10</td><td>4</td><td>55.17</td><td>0.71</td><td>17.00</td><td>5.26</td><td>...</td><td>NA  </td><td>NA  </td><td>NA  </td><td>NA  </td><td>NA  </td><td>NA  </td><td>30</td><td>NA </td><td>NA </td><td>NA </td></tr>\n",
       "\t<tr><th scope=row>Sa-3</th><td>Sazava</td><td>Mrac      </td><td>bi-amph quartz diorite   </td><td>working quarry      </td><td>10</td><td>4</td><td>55.09</td><td>0.75</td><td>17.59</td><td>5.81</td><td>...</td><td>NA  </td><td>NA  </td><td>NA  </td><td>NA  </td><td>NA  </td><td>NA  </td><td>30</td><td>NA </td><td>NA </td><td>NA </td></tr>\n",
       "\t<tr><th scope=row>Sa-4</th><td>Sazava</td><td>Mrac      </td><td>bi-amph quartz diorite   </td><td>working quarry      </td><td>10</td><td>4</td><td>50.72</td><td>0.83</td><td>17.57</td><td>7.65</td><td>...</td><td>5.80</td><td>1.03</td><td>2.80</td><td>0.43</td><td>2.88</td><td>0.43</td><td>38</td><td>5.7</td><td>0.5</td><td>2.5</td></tr>\n",
       "\t<tr><th scope=row>Sa-7</th><td>Sazava</td><td>Teletín   </td><td>bi-amph tonalite         </td><td>disused quarry      </td><td>10</td><td>1</td><td>57.73</td><td>0.95</td><td>18.82</td><td>5.43</td><td>...</td><td>2.70</td><td>0.56</td><td>1.64</td><td>0.24</td><td>1.52</td><td>0.25</td><td>24</td><td>6.6</td><td>0.6</td><td>3.6</td></tr>\n",
       "\t<tr><th scope=row>SaD-1</th><td>basic </td><td>Teletín   </td><td>bi-amph quartz diorite   </td><td>disused quarry      </td><td> 8</td><td>1</td><td>52.90</td><td>1.35</td><td>18.23</td><td>7.24</td><td>...</td><td>NA  </td><td>NA  </td><td>NA  </td><td>NA  </td><td>NA  </td><td>NA  </td><td>36</td><td>2.3</td><td>1.1</td><td>1.8</td></tr>\n",
       "\t<tr><th scope=row>Gbs-1</th><td>basic </td><td>Pecerady  </td><td>px-amph gabbro           </td><td>disused quarry      </td><td>19</td><td>1</td><td>49.63</td><td>0.76</td><td>13.34</td><td>5.69</td><td>...</td><td>NA  </td><td>NA  </td><td>NA  </td><td>NA  </td><td>NA  </td><td>NA  </td><td>20</td><td>NA </td><td>NA </td><td>NA </td></tr>\n",
       "\t<tr><th scope=row>Gbs-20</th><td>basic </td><td>Pecerady  </td><td>px-amph gabbro           </td><td>disused quarry      </td><td>19</td><td>1</td><td>51.72</td><td>0.67</td><td>14.17</td><td>6.43</td><td>...</td><td>NA  </td><td>NA  </td><td>NA  </td><td>NA  </td><td>NA  </td><td>NA  </td><td>19</td><td>NA </td><td>NA </td><td>NA </td></tr>\n",
       "\t<tr><th scope=row>Gbs-2</th><td>basic </td><td>Vavretice </td><td>amph-bi qtz gabbrodiorite</td><td>disused quarry      </td><td>19</td><td>1</td><td>48.84</td><td>0.34</td><td>21.64</td><td>2.74</td><td>...</td><td>NA  </td><td>NA  </td><td>NA  </td><td>NA  </td><td>NA  </td><td>NA  </td><td>10</td><td>NA </td><td>NA </td><td>NA </td></tr>\n",
       "\t<tr><th scope=row>Gbs-3</th><td>basic </td><td>Brtnice   </td><td>amph-bi qtz gabbrodiorite</td><td>water supply gallery</td><td>19</td><td>1</td><td>55.80</td><td>0.80</td><td>16.98</td><td>6.22</td><td>...</td><td>NA  </td><td>NA  </td><td>NA  </td><td>NA  </td><td>NA  </td><td>NA  </td><td>42</td><td>NA </td><td>NA </td><td>NA </td></tr>\n",
       "\t<tr><th scope=row>Po-1</th><td>Pozary</td><td>Krhanice  </td><td>bi trondhjemite          </td><td>working quarry      </td><td> 1</td><td>2</td><td>62.95</td><td>0.28</td><td>20.02</td><td>1.65</td><td>...</td><td>0.64</td><td>0.11</td><td>0.37</td><td>0.06</td><td>0.51</td><td>0.08</td><td>11</td><td>3.0</td><td>0.3</td><td>4.2</td></tr>\n",
       "\t<tr><th scope=row>Po-3</th><td>Pozary</td><td>Prosecnice</td><td>bi trondhjemite          </td><td>working quarry      </td><td> 1</td><td>2</td><td>68.30</td><td>0.28</td><td>15.29</td><td>2.12</td><td>...</td><td>NA  </td><td>NA  </td><td>NA  </td><td>NA  </td><td>NA  </td><td>NA  </td><td> 8</td><td>NA </td><td>NA </td><td>NA </td></tr>\n",
       "\t<tr><th scope=row>Po-4</th><td>Pozary</td><td>Prosecnice</td><td>bi trondhjemite          </td><td>working quarry      </td><td> 1</td><td>2</td><td>71.09</td><td>0.30</td><td>15.09</td><td>2.12</td><td>...</td><td>0.80</td><td>0.14</td><td>0.50</td><td>0.09</td><td>0.61</td><td>0.10</td><td> 7</td><td>3.0</td><td>0.2</td><td>5.4</td></tr>\n",
       "\t<tr><th scope=row>Po-5</th><td>Pozary</td><td>Prosecnice</td><td>bi trondhjemite          </td><td>working quarry      </td><td> 1</td><td>2</td><td>71.42</td><td>0.30</td><td>15.04</td><td>2.41</td><td>...</td><td>NA  </td><td>NA  </td><td>NA  </td><td>NA  </td><td>NA  </td><td>NA  </td><td> 5</td><td>NA </td><td>NA </td><td>NA </td></tr>\n",
       "</tbody>\n",
       "</table>\n"
      ],
      "text/latex": [
       "A matrix: 14 × 49 of type chr\n",
       "\\begin{tabular}{r|lllllllllllllllllllll}\n",
       "  & Intrusion & Locality & Petrology & Outcrop & Symbol & Colour & SiO2 & TiO2 & Al2O3 & FeO & ... & Dy & Ho & Er & Tm & Yb & Lu & Y & Cs & Ta & Hf\\\\\n",
       "\\hline\n",
       "\tSa-1 & Sazava & Mrac       & bi-amph quartz diorite    & working quarry       & 10 & 4 & 59.98 & 0.63 & 16.42 & 5.46 & ... & NA   & NA   & NA   & NA   & NA   & NA   & 25 & NA  & NA  & NA \\\\\n",
       "\tSa-2 & Sazava & Mrac       & bi-amph quartz diorite    & working quarry       & 10 & 4 & 55.17 & 0.71 & 17.00 & 5.26 & ... & NA   & NA   & NA   & NA   & NA   & NA   & 30 & NA  & NA  & NA \\\\\n",
       "\tSa-3 & Sazava & Mrac       & bi-amph quartz diorite    & working quarry       & 10 & 4 & 55.09 & 0.75 & 17.59 & 5.81 & ... & NA   & NA   & NA   & NA   & NA   & NA   & 30 & NA  & NA  & NA \\\\\n",
       "\tSa-4 & Sazava & Mrac       & bi-amph quartz diorite    & working quarry       & 10 & 4 & 50.72 & 0.83 & 17.57 & 7.65 & ... & 5.80 & 1.03 & 2.80 & 0.43 & 2.88 & 0.43 & 38 & 5.7 & 0.5 & 2.5\\\\\n",
       "\tSa-7 & Sazava & Teletín    & bi-amph tonalite          & disused quarry       & 10 & 1 & 57.73 & 0.95 & 18.82 & 5.43 & ... & 2.70 & 0.56 & 1.64 & 0.24 & 1.52 & 0.25 & 24 & 6.6 & 0.6 & 3.6\\\\\n",
       "\tSaD-1 & basic  & Teletín    & bi-amph quartz diorite    & disused quarry       &  8 & 1 & 52.90 & 1.35 & 18.23 & 7.24 & ... & NA   & NA   & NA   & NA   & NA   & NA   & 36 & 2.3 & 1.1 & 1.8\\\\\n",
       "\tGbs-1 & basic  & Pecerady   & px-amph gabbro            & disused quarry       & 19 & 1 & 49.63 & 0.76 & 13.34 & 5.69 & ... & NA   & NA   & NA   & NA   & NA   & NA   & 20 & NA  & NA  & NA \\\\\n",
       "\tGbs-20 & basic  & Pecerady   & px-amph gabbro            & disused quarry       & 19 & 1 & 51.72 & 0.67 & 14.17 & 6.43 & ... & NA   & NA   & NA   & NA   & NA   & NA   & 19 & NA  & NA  & NA \\\\\n",
       "\tGbs-2 & basic  & Vavretice  & amph-bi qtz gabbrodiorite & disused quarry       & 19 & 1 & 48.84 & 0.34 & 21.64 & 2.74 & ... & NA   & NA   & NA   & NA   & NA   & NA   & 10 & NA  & NA  & NA \\\\\n",
       "\tGbs-3 & basic  & Brtnice    & amph-bi qtz gabbrodiorite & water supply gallery & 19 & 1 & 55.80 & 0.80 & 16.98 & 6.22 & ... & NA   & NA   & NA   & NA   & NA   & NA   & 42 & NA  & NA  & NA \\\\\n",
       "\tPo-1 & Pozary & Krhanice   & bi trondhjemite           & working quarry       &  1 & 2 & 62.95 & 0.28 & 20.02 & 1.65 & ... & 0.64 & 0.11 & 0.37 & 0.06 & 0.51 & 0.08 & 11 & 3.0 & 0.3 & 4.2\\\\\n",
       "\tPo-3 & Pozary & Prosecnice & bi trondhjemite           & working quarry       &  1 & 2 & 68.30 & 0.28 & 15.29 & 2.12 & ... & NA   & NA   & NA   & NA   & NA   & NA   &  8 & NA  & NA  & NA \\\\\n",
       "\tPo-4 & Pozary & Prosecnice & bi trondhjemite           & working quarry       &  1 & 2 & 71.09 & 0.30 & 15.09 & 2.12 & ... & 0.80 & 0.14 & 0.50 & 0.09 & 0.61 & 0.10 &  7 & 3.0 & 0.2 & 5.4\\\\\n",
       "\tPo-5 & Pozary & Prosecnice & bi trondhjemite           & working quarry       &  1 & 2 & 71.42 & 0.30 & 15.04 & 2.41 & ... & NA   & NA   & NA   & NA   & NA   & NA   &  5 & NA  & NA  & NA \\\\\n",
       "\\end{tabular}\n"
      ],
      "text/markdown": [
       "\n",
       "A matrix: 14 × 49 of type chr\n",
       "\n",
       "| <!--/--> | Intrusion | Locality | Petrology | Outcrop | Symbol | Colour | SiO2 | TiO2 | Al2O3 | FeO | ... | Dy | Ho | Er | Tm | Yb | Lu | Y | Cs | Ta | Hf |\n",
       "|---|---|---|---|---|---|---|---|---|---|---|---|---|---|---|---|---|---|---|---|---|---|\n",
       "| Sa-1 | Sazava | Mrac       | bi-amph quartz diorite    | working quarry       | 10 | 4 | 59.98 | 0.63 | 16.42 | 5.46 | ... | NA   | NA   | NA   | NA   | NA   | NA   | 25 | NA  | NA  | NA  |\n",
       "| Sa-2 | Sazava | Mrac       | bi-amph quartz diorite    | working quarry       | 10 | 4 | 55.17 | 0.71 | 17.00 | 5.26 | ... | NA   | NA   | NA   | NA   | NA   | NA   | 30 | NA  | NA  | NA  |\n",
       "| Sa-3 | Sazava | Mrac       | bi-amph quartz diorite    | working quarry       | 10 | 4 | 55.09 | 0.75 | 17.59 | 5.81 | ... | NA   | NA   | NA   | NA   | NA   | NA   | 30 | NA  | NA  | NA  |\n",
       "| Sa-4 | Sazava | Mrac       | bi-amph quartz diorite    | working quarry       | 10 | 4 | 50.72 | 0.83 | 17.57 | 7.65 | ... | 5.80 | 1.03 | 2.80 | 0.43 | 2.88 | 0.43 | 38 | 5.7 | 0.5 | 2.5 |\n",
       "| Sa-7 | Sazava | Teletín    | bi-amph tonalite          | disused quarry       | 10 | 1 | 57.73 | 0.95 | 18.82 | 5.43 | ... | 2.70 | 0.56 | 1.64 | 0.24 | 1.52 | 0.25 | 24 | 6.6 | 0.6 | 3.6 |\n",
       "| SaD-1 | basic  | Teletín    | bi-amph quartz diorite    | disused quarry       |  8 | 1 | 52.90 | 1.35 | 18.23 | 7.24 | ... | NA   | NA   | NA   | NA   | NA   | NA   | 36 | 2.3 | 1.1 | 1.8 |\n",
       "| Gbs-1 | basic  | Pecerady   | px-amph gabbro            | disused quarry       | 19 | 1 | 49.63 | 0.76 | 13.34 | 5.69 | ... | NA   | NA   | NA   | NA   | NA   | NA   | 20 | NA  | NA  | NA  |\n",
       "| Gbs-20 | basic  | Pecerady   | px-amph gabbro            | disused quarry       | 19 | 1 | 51.72 | 0.67 | 14.17 | 6.43 | ... | NA   | NA   | NA   | NA   | NA   | NA   | 19 | NA  | NA  | NA  |\n",
       "| Gbs-2 | basic  | Vavretice  | amph-bi qtz gabbrodiorite | disused quarry       | 19 | 1 | 48.84 | 0.34 | 21.64 | 2.74 | ... | NA   | NA   | NA   | NA   | NA   | NA   | 10 | NA  | NA  | NA  |\n",
       "| Gbs-3 | basic  | Brtnice    | amph-bi qtz gabbrodiorite | water supply gallery | 19 | 1 | 55.80 | 0.80 | 16.98 | 6.22 | ... | NA   | NA   | NA   | NA   | NA   | NA   | 42 | NA  | NA  | NA  |\n",
       "| Po-1 | Pozary | Krhanice   | bi trondhjemite           | working quarry       |  1 | 2 | 62.95 | 0.28 | 20.02 | 1.65 | ... | 0.64 | 0.11 | 0.37 | 0.06 | 0.51 | 0.08 | 11 | 3.0 | 0.3 | 4.2 |\n",
       "| Po-3 | Pozary | Prosecnice | bi trondhjemite           | working quarry       |  1 | 2 | 68.30 | 0.28 | 15.29 | 2.12 | ... | NA   | NA   | NA   | NA   | NA   | NA   |  8 | NA  | NA  | NA  |\n",
       "| Po-4 | Pozary | Prosecnice | bi trondhjemite           | working quarry       |  1 | 2 | 71.09 | 0.30 | 15.09 | 2.12 | ... | 0.80 | 0.14 | 0.50 | 0.09 | 0.61 | 0.10 |  7 | 3.0 | 0.2 | 5.4 |\n",
       "| Po-5 | Pozary | Prosecnice | bi trondhjemite           | working quarry       |  1 | 2 | 71.42 | 0.30 | 15.04 | 2.41 | ... | NA   | NA   | NA   | NA   | NA   | NA   |  5 | NA  | NA  | NA  |\n",
       "\n"
      ],
      "text/plain": [
       "       Intrusion Locality   Petrology                 Outcrop             \n",
       "Sa-1   Sazava    Mrac       bi-amph quartz diorite    working quarry      \n",
       "Sa-2   Sazava    Mrac       bi-amph quartz diorite    working quarry      \n",
       "Sa-3   Sazava    Mrac       bi-amph quartz diorite    working quarry      \n",
       "Sa-4   Sazava    Mrac       bi-amph quartz diorite    working quarry      \n",
       "Sa-7   Sazava    Teletín    bi-amph tonalite          disused quarry      \n",
       "SaD-1  basic     Teletín    bi-amph quartz diorite    disused quarry      \n",
       "Gbs-1  basic     Pecerady   px-amph gabbro            disused quarry      \n",
       "Gbs-20 basic     Pecerady   px-amph gabbro            disused quarry      \n",
       "Gbs-2  basic     Vavretice  amph-bi qtz gabbrodiorite disused quarry      \n",
       "Gbs-3  basic     Brtnice    amph-bi qtz gabbrodiorite water supply gallery\n",
       "Po-1   Pozary    Krhanice   bi trondhjemite           working quarry      \n",
       "Po-3   Pozary    Prosecnice bi trondhjemite           working quarry      \n",
       "Po-4   Pozary    Prosecnice bi trondhjemite           working quarry      \n",
       "Po-5   Pozary    Prosecnice bi trondhjemite           working quarry      \n",
       "       Symbol Colour SiO2  TiO2 Al2O3 FeO  ... Dy   Ho   Er   Tm   Yb   Lu   Y \n",
       "Sa-1   10     4      59.98 0.63 16.42 5.46 ... NA   NA   NA   NA   NA   NA   25\n",
       "Sa-2   10     4      55.17 0.71 17.00 5.26 ... NA   NA   NA   NA   NA   NA   30\n",
       "Sa-3   10     4      55.09 0.75 17.59 5.81 ... NA   NA   NA   NA   NA   NA   30\n",
       "Sa-4   10     4      50.72 0.83 17.57 7.65 ... 5.80 1.03 2.80 0.43 2.88 0.43 38\n",
       "Sa-7   10     1      57.73 0.95 18.82 5.43 ... 2.70 0.56 1.64 0.24 1.52 0.25 24\n",
       "SaD-1   8     1      52.90 1.35 18.23 7.24 ... NA   NA   NA   NA   NA   NA   36\n",
       "Gbs-1  19     1      49.63 0.76 13.34 5.69 ... NA   NA   NA   NA   NA   NA   20\n",
       "Gbs-20 19     1      51.72 0.67 14.17 6.43 ... NA   NA   NA   NA   NA   NA   19\n",
       "Gbs-2  19     1      48.84 0.34 21.64 2.74 ... NA   NA   NA   NA   NA   NA   10\n",
       "Gbs-3  19     1      55.80 0.80 16.98 6.22 ... NA   NA   NA   NA   NA   NA   42\n",
       "Po-1    1     2      62.95 0.28 20.02 1.65 ... 0.64 0.11 0.37 0.06 0.51 0.08 11\n",
       "Po-3    1     2      68.30 0.28 15.29 2.12 ... NA   NA   NA   NA   NA   NA    8\n",
       "Po-4    1     2      71.09 0.30 15.09 2.12 ... 0.80 0.14 0.50 0.09 0.61 0.10  7\n",
       "Po-5    1     2      71.42 0.30 15.04 2.41 ... NA   NA   NA   NA   NA   NA    5\n",
       "       Cs  Ta  Hf \n",
       "Sa-1   NA  NA  NA \n",
       "Sa-2   NA  NA  NA \n",
       "Sa-3   NA  NA  NA \n",
       "Sa-4   5.7 0.5 2.5\n",
       "Sa-7   6.6 0.6 3.6\n",
       "SaD-1  2.3 1.1 1.8\n",
       "Gbs-1  NA  NA  NA \n",
       "Gbs-20 NA  NA  NA \n",
       "Gbs-2  NA  NA  NA \n",
       "Gbs-3  NA  NA  NA \n",
       "Po-1   3.0 0.3 4.2\n",
       "Po-3   NA  NA  NA \n",
       "Po-4   3.0 0.2 5.4\n",
       "Po-5   NA  NA  NA "
      ]
     },
     "metadata": {},
     "output_type": "display_data"
    }
   ],
   "source": [
    "as.matrix(data)"
   ]
  },
  {
   "cell_type": "code",
   "execution_count": 106,
   "metadata": {},
   "outputs": [
    {
     "data": {
      "image/png": "[encoded data removed]",
      "text/plain": [
       "plot without title"
      ]
     },
     "metadata": {
      "image/png": {
       "height": 600,
       "width": 600
      }
     },
     "output_type": "display_data"
    }
   ],
   "source": [
    "# 3\n",
    "pairs(cbind(SiO2 = df$SiO2, MgO = df$MgO , FeO = df$FeO, Fe2O3 = df$Fe2O3, CaO = df$CaO, P2O5 = df$P2O5))"
   ]
  },
  {
   "cell_type": "code",
   "execution_count": 87,
   "metadata": {},
   "outputs": [
    {
     "data": {
      "image/png": "[encoded data removed]",
      "text/plain": [
       "plot without title"
      ]
     },
     "metadata": {
      "image/png": {
       "height": 600,
       "width": 600
      }
     },
     "output_type": "display_data"
    }
   ],
   "source": [
    "# 4\n",
    "plot(data$SiO2, data$CaO, xlab=\"SiO2 w%\", ylab=\"CaO w%\")"
   ]
  }
 ],
 "metadata": {
  "kernelspec": {
   "display_name": "R",
   "language": "R",
   "name": "ir"
  },
  "language_info": {
   "codemirror_mode": "r",
   "file_extension": ".r",
   "mimetype": "text/x-r-source",
   "name": "R",
   "pygments_lexer": "r",
   "version": "4.0.3"
  }
 },
 "nbformat": 4,
 "nbformat_minor": 4
}
