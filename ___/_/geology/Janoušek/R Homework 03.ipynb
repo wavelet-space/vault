{
 "cells": [
  {
   "cell_type": "markdown",
   "metadata": {},
   "source": [
    "# Homework 03 (R)\n",
    "\n",
    "## Problem\n",
    "\n",
    "<img src=\"images/exercise-icon.png\" style=\"float:left;width:40px;height:40px;\">\n",
    "\n",
    "In some Anglo–Saxon countries the temperature is still expressed in degrees of Fahrenheit. Their relation to the Centigrade is illustrated in the following figure.\n",
    "\n",
    "<img src=\"images/F-C.png\" style=\"width:338px;height:96px;\">\n",
    "\n",
    "- Define a function converting degrees of Fahrenheit to Centigrade and test the function using the values –40, 98.6 and 212 °F.\n",
    "- Create a conversion table Fahrenheit to Celsius for 0, 10, …220 °F and plot the data into a binary diagram.\n",
    "\n",
    "For more information see https://en.wikipedia.org/wiki/Fahrenheit"
   ]
  },
  {
   "cell_type": "markdown",
   "metadata": {},
   "source": [
    "## Solution"
   ]
  },
  {
   "cell_type": "code",
   "execution_count": 7,
   "metadata": {},
   "outputs": [
    {
     "name": "stderr",
     "output_type": "stream",
     "text": [
      "Warning message:\n",
      "\"package 'testit' is in use and will not be installed\"\n"
     ]
    }
   ],
   "source": [
    "install.packages(\"testit\")"
   ]
  },
  {
   "cell_type": "code",
   "execution_count": 8,
   "metadata": {},
   "outputs": [],
   "source": [
    "library(testit)"
   ]
  },
  {
   "cell_type": "code",
   "execution_count": 9,
   "metadata": {},
   "outputs": [],
   "source": [
    "#' Convert a temperature in degrees of Fahrenheit to degrees of Celsius.\n",
    "#' \n",
    "#' @param fahrenheits A temperature in degrees of Fahrenheit.\n",
    "#' @return The temperature in degress of Celsius.\n",
    "#' @examples\n",
    "#' celsius(-20) -> 0 (°C)\n",
    "#' celsius(212) -> 100 (°C)\n",
    "to_celsius <- function(fahrenheits) {\n",
    "   (fahrenheits - 32.0) / 1.8\n",
    "}\n",
    "\n",
    "# Quick tests\n",
    "\n",
    "# Here it would be better to use `almost equal` strategy. \n",
    "# I dont know R ecosystem enough to be sure what should I use. \n",
    "assert('These numbers are equal', { \n",
    "    (to_celsius(fahrenheits=-40) == -40)\n",
    "    (to_celsius(fahrenheits=98.6) == 36.99999999999999) # should be 37\n",
    "    (to_celsius(fahrenheits=212) == 100) \n",
    "})"
   ]
  },
  {
   "cell_type": "code",
   "execution_count": 10,
   "metadata": {},
   "outputs": [
    {
     "data": {
      "image/png": "[encoded data removed]",
      "text/plain": [
       "plot without title"
      ]
     },
     "metadata": {
      "image/png": {
       "height": 420,
       "width": 420
      }
     },
     "output_type": "display_data"
    }
   ],
   "source": [
    "fahrenheits <- seq(from = 0, to = 220, by = 10)\n",
    "centigrades <- sapply(fahrenheits, to_celsius)\n",
    "\n",
    "plot(data.frame(fahrenheits, centigrades), xlab = \"°F\", ylab = \"°C\", pch = 16, col = \"blue\")"
   ]
  },
  {
   "cell_type": "code",
   "execution_count": null,
   "metadata": {},
   "outputs": [],
   "source": []
  }
 ],
 "metadata": {
  "kernelspec": {
   "display_name": "R",
   "language": "R",
   "name": "ir"
  },
  "language_info": {
   "codemirror_mode": "r",
   "file_extension": ".r",
   "mimetype": "text/x-r-source",
   "name": "R",
   "pygments_lexer": "r",
   "version": "4.0.3"
  }
 },
 "nbformat": 4,
 "nbformat_minor": 4
}
