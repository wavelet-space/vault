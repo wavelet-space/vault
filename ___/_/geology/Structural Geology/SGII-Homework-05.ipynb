{
 "cells": [
  {
   "cell_type": "code",
   "execution_count": 1,
   "metadata": {},
   "outputs": [
    {
     "name": "stdout",
     "output_type": "stream",
     "text": [
      "Populating the interactive namespace from numpy and matplotlib\n"
     ]
    }
   ],
   "source": [
    "%pylab inline"
   ]
  },
  {
   "cell_type": "markdown",
   "metadata": {},
   "source": [
    "### Experiment"
   ]
  },
  {
   "cell_type": "markdown",
   "metadata": {},
   "source": [
    "An axial deviatoric test was performed in an organic-rich Mancos shale sample. The sample was cored in the direction of bedding. The sample diameter was $D = 0.0254$ m and the sample length was $L = 0.051054$ m. The test was conducted in “as received conditions”. The data is available in `Mancos_Unconf100_PL7.csv` file. The data contains Time [s], Axial Force [N], axial displacement $\\Delta L$ [m], and total radial displacement $\\Delta D$ [m].\n",
    " - Calculate the axial stress as a function of axial force for each time step.\n",
    " - Calculate axial and radial strains $\\varepsilon_a$ and $\\varepsilon_r$ utilizing the displacements $\\Delta L$ and $\\Delta D$.\n",
    " - Calculate the volumetric strain $\\varepsilon_V = \\varepsilon_a + 2\\varepsilon_r$.\n",
    " - Make combined plot of (i) axial stress versus axial strain, (ii) axial stress versus radial strain, and (iii) axial stress versus volumetric strain.\n",
    " - Make plot of radial strain versus axial strain to calculate the Poisson's ratio.\n",
    " - Utilizing linear curve fitting, compute Young's modulus and Poisson's ratio in the interval of times between 1580 s and 1890 s. Check example below how to do simple linear regression."
   ]
  },
  {
   "cell_type": "markdown",
   "metadata": {},
   "source": [
    "#### Example of linear fit to x, y data"
   ]
  },
  {
   "cell_type": "code",
   "execution_count": 2,
   "metadata": {},
   "outputs": [
    {
     "data": {
      "image/png": "[encoded data removed]",
      "text/plain": [
       "<Figure size 432x288 with 1 Axes>"
      ]
     },
     "metadata": {
      "needs_background": "light"
     },
     "output_type": "display_data"
    }
   ],
   "source": [
    "# Define noisy x, y points\n",
    "x = linspace(0, 10, 25)\n",
    "y = 3*x + 5\n",
    "y += randn(len(x))\n",
    "\n",
    "# Calculate linear fit\n",
    "p = polyfit(x, y, deg=1)\n",
    "plot(x, y, '.', label='data')\n",
    "plot(x, polyval(p, x), label='linear fit')\n",
    "title(f'Linear fit y = {p[0]:.2f}x + {p[1]:.2f}');"
   ]
  },
  {
   "cell_type": "markdown",
   "metadata": {},
   "source": [
    "Here we define experiment related variables and we will read experimental data into numpy arrays"
   ]
  },
  {
   "cell_type": "code",
   "execution_count": 3,
   "metadata": {},
   "outputs": [],
   "source": [
    "D = 0.0254    # original diameter\n",
    "L = 0.051054  # original length of sample\n",
    "\n",
    "# tms - time, F - axial force, dx - axial displacement, dd - radial displacement\n",
    "tms, F, dx, dd = loadtxt('Mancos_Unconf100_PL7.csv', delimiter=',', skiprows=1).T"
   ]
  },
  {
   "cell_type": "code",
   "execution_count": 4,
   "metadata": {},
   "outputs": [],
   "source": [
    "# your code here"
   ]
  }
 ],
 "metadata": {
  "kernelspec": {
   "display_name": "Python 3",
   "language": "python",
   "name": "python3"
  },
  "language_info": {
   "codemirror_mode": {
    "name": "ipython",
    "version": 3
   },
   "file_extension": ".py",
   "mimetype": "text/x-python",
   "name": "python",
   "nbconvert_exporter": "python",
   "pygments_lexer": "ipython3",
   "version": "3.7.9"
  }
 },
 "nbformat": 4,
 "nbformat_minor": 4
}
