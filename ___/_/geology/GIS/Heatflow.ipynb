{
 "cells": [
  {
   "cell_type": "markdown",
   "metadata": {},
   "source": [
    "# Mapa izolinií tepelného toku\n",
    "\n",
    "Vytvořte mapu izolinií tepelného toku pro vybraný stát (Bulharsko, Francie, Německo, Švýcarsko, Rumunsko, Polsko)\n",
    "a spočtěte průměrný tepelný tok. "
   ]
  },
  {
   "cell_type": "markdown",
   "metadata": {},
   "source": [
    "## Úprava dat v prostředí Jupyter\n",
    "\n",
    "Jako zdroj data byl použit internetový zdroj https://ihfc-iugg.org/products/global-heat-flow-database/data. Na uvedené internetové stránce jsou ve formátu XML dostupná data pro vybrané státy. Po stažení byla data uložena do formátu `xlsx` pro tabulkový procesor Excel. Následně byla data upravena pomocí programovacího jazyka Python a knihovny Pandas v prostředí Jupyter."
   ]
  },
  {
   "cell_type": "code",
   "execution_count": 47,
   "metadata": {},
   "outputs": [],
   "source": [
    "import pandas as pd"
   ]
  },
  {
   "cell_type": "code",
   "execution_count": 60,
   "metadata": {},
   "outputs": [
    {
     "data": {
      "text/plain": [
       "1127"
      ]
     },
     "execution_count": 60,
     "metadata": {},
     "output_type": "execute_result"
    }
   ],
   "source": [
    "hf = pd.concat(pd.read_excel(\"heatflow.xlsx\", sheet_name=None), ignore_index=True)\n",
    "\n",
    "len(hf)"
   ]
  },
  {
   "cell_type": "code",
   "execution_count": 61,
   "metadata": {},
   "outputs": [],
   "source": [
    "hf[\"Data Number\"] = hf[\"Data Number\"].apply(lambda x: str(x)[:-2].strip())\n",
    "hf = hf[[\"Data Number\", \"Latitude\", \"Longitude\", \"Heat Flow\"]]\n",
    "hf = hf.rename(columns={\"Data Number\": \"Code\", \"Heat Flow\": \"Flow\"})\n",
    "hf.dropna(inplace=True)"
   ]
  },
  {
   "cell_type": "code",
   "execution_count": 62,
   "metadata": {},
   "outputs": [],
   "source": [
    "hf.to_csv(\"heatflow.csv\", sep=\"\\t\",  encoding='utf-8', index=False)"
   ]
  },
  {
   "cell_type": "markdown",
   "metadata": {},
   "source": [
    "## Tvorba mapy v programu QGIS\n",
    "\n",
    "Takto upravená data byla dále zpracována v programu QGIS následujícím postupem.\n",
    "\n",
    "1. Importuj data `Europe.shp` s hranicemi evropských států.\n",
    "2. Importuj data `Heatflow.csv` s hodnotami tepelného toku pro jednotlivé státy a ulož jako vrstvu.\n",
    "4. Projektuj vrstvu `Heatflow` do zobrazení zachovávajíc vzdálenosti (Europe equidistant conic).\n",
    "5. Interpoluj vrstvu `Reprojected` a ulož jako vrstvu `Interpolated`.\n",
    "6. Konturuj vrstvu `Interpolated` a ulož jako vrstvu `Contours` .\n",
    "7. Zobraz hranice Švýcarska.\n"
   ]
  },
  {
   "cell_type": "markdown",
   "metadata": {},
   "source": [
    "## Výsledná mapa\n",
    "![Heatflow.png](Heatflow.png)"
   ]
  },
  {
   "cell_type": "markdown",
   "metadata": {},
   "source": [
    "## Zdroje\n",
    "\n",
    "- https://jupyter.org/\n",
    "- https://www.python.org/\n",
    "- https://pandas.pydata.org/\n",
    "- https://www.qgis.org/en/site/"
   ]
  }
 ],
 "metadata": {
  "kernelspec": {
   "display_name": "notes",
   "language": "python",
   "name": "notes"
  },
  "language_info": {
   "codemirror_mode": {
    "name": "ipython",
    "version": 3
   },
   "file_extension": ".py",
   "mimetype": "text/x-python",
   "name": "python",
   "nbconvert_exporter": "python",
   "pygments_lexer": "ipython3",
   "version": "3.7.3"
  }
 },
 "nbformat": 4,
 "nbformat_minor": 4
}
