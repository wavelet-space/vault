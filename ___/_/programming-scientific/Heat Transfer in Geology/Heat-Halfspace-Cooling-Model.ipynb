{
 "metadata": {
  "language_info": {
   "codemirror_mode": {
    "name": "ipython",
    "version": 3
   },
   "file_extension": ".py",
   "mimetype": "text/x-python",
   "name": "python",
   "nbconvert_exporter": "python",
   "pygments_lexer": "ipython3",
   "version": "3.9.1"
  },
  "orig_nbformat": 2,
  "kernelspec": {
   "name": "python391jvsc74a57bd0993309eea27adeeeb2deb8f83f7bb18b2006cdb04c57e96dfaa5909b0bf530df",
   "display_name": "Python 3.9.1 64-bit ('.venv': venv)"
  },
  "metadata": {
   "interpreter": {
    "hash": "160f3226710bd06f16f90b12f08f30ec5f26859f74a917686de4d6eeab70b457"
   }
  }
 },
 "nbformat": 4,
 "nbformat_minor": 2,
 "cells": [
  {
   "source": [
    "# Model chladnutí oceánského dna\n",
    "\n",
    "## Úvod\n",
    "\n",
    "# ![Midocean Ridge](MidoceanRidge.png)\n",
    "\n",
    "Jako model chladnutí oceánskéo (středooceánského hřbetu) použijeme tzv. *half space model* v 1D. Toje model, kdy jeden konec domény je udržován na stále teplotě, kdy oceán představuje výměník tepla, který neustále ochlazuje oceánskou litosféru.  \n",
    "\n",
    "Parciální diferenciální rovnice vedení tepla má tvar\n",
    "\n",
    "$$\n",
    "    \\frac{\\partial T}{\\partial t} = \\kappa \\nabla^2 T + H \n",
    "$$ \n",
    "\n",
    "kde $\\kappa$ je termální difuzivita. \n",
    "\n",
    "\n",
    "Protože oceánská litosféra neobsahuje výrazný podíl radioaktivních izotopů jako uran, draslík, thorium, není v ní výrazná produkce tepla vlivem radioaktivního rozpadu, a z rovnice tepla tak můžeme vypustit člen $H$. \n",
    "\n",
    "$$\n",
    "    \\frac{\\partial T}{\\partial t} = \\kappa \\nabla^2 T\n",
    "$$ \n",
    "\n",
    "\n",
    "Rovnice difuzního chladnutí\n",
    "\n",
    "\n",
    "$$\n",
    "\n",
    "    T(z, t) \\equiv T_z(t) = T_s + (T_m - Ts) erf\\Bigl(\\frac{z}{2\\sqrt{\\kappa t}}\\Bigr) \n",
    "\n",
    "$$\n",
    "\n",
    "kde $erf$ je tzv. erro funkce, kterou dostaneme integrací normální distribuce.\n",
    "\n",
    "\n",
    "## Numerický model\n",
    " \n",
    "Pro simulaci distribuce tepla v 2D doméně použijeme metodu konečných diferencí."
   ],
   "cell_type": "markdown",
   "metadata": {}
  },
  {
   "cell_type": "code",
   "execution_count": 1,
   "metadata": {},
   "outputs": [],
   "source": [
    "import numpy as np\n",
    "import scipy as sp\n",
    "\n",
    "import matplotlib.pyplot as plt"
   ]
  },
  {
   "cell_type": "code",
   "execution_count": null,
   "metadata": {},
   "outputs": [],
   "source": [
    "# Inicializace\n",
    "\n",
    "T = 1200\n"
   ]
  },
  {
   "source": [],
   "cell_type": "markdown",
   "metadata": {}
  }
 ]
}