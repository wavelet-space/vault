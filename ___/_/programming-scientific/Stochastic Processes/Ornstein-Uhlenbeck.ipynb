{
 "metadata": {
  "language_info": {
   "codemirror_mode": {
    "name": "ipython",
    "version": 3
   },
   "file_extension": ".py",
   "mimetype": "text/x-python",
   "name": "python",
   "nbconvert_exporter": "python",
   "pygments_lexer": "ipython3",
   "version": "3.9.1"
  },
  "orig_nbformat": 2,
  "kernelspec": {
   "name": "python391jvsc74a57bd0902ae41cec27511ebbcc782f7d56e4d6f5c18b8de5b61a89e574d21ce491403b",
   "display_name": "Python 3.9.1 64-bit"
  }
 },
 "nbformat": 4,
 "nbformat_minor": 2,
 "cells": [
  {
   "cell_type": "code",
   "execution_count": 2,
   "metadata": {},
   "outputs": [],
   "source": [
    "import numpy as np\n",
    "import matplotlib.pyplot as plt"
   ]
  },
  {
   "source": [
    "$$\n",
    "    d X_t = \n",
    "$$"
   ],
   "cell_type": "markdown",
   "metadata": {}
  },
  {
   "source": [
    "Imlementace založená na třídě `OrnstteinUhlenbeck` která představuje stochastickou diferenciální rovnici, kterou řešíme pomocí Euler-Murayamovi metody.\n",
    "Důvodem pro vytvoření třídy je možnost uchovávát parametry, které změnou můžeme modfikovat úlohu.   "
   ],
   "cell_type": "markdown",
   "metadata": {}
  },
  {
   "cell_type": "code",
   "execution_count": 5,
   "metadata": {},
   "outputs": [],
   "source": [
    "from typing import Protocol\n",
    "\n",
    "\n",
    "class Solvable(Protocol):\n",
    "    def solve(self, *args, **kwargs):\n",
    "        pass\n",
    "\n",
    "\n",
    "class StochasticDifferentialEquation(Solvable):\n",
    "    pass\n",
    "\n",
    "\n",
    "class OrnsteinUhlenbeck(StochasticDifferential):\n",
    "    \"\"\"\n",
    "    ns - počet kroků\n",
    "    ti - počáteční čas\n",
    "    tf - konečný čas\n",
    "    \n",
    "    mu - \n",
    "    sigma - \n",
    "    theta - \n",
    "    \"\"\"\n",
    "    def __init__(self, theta, mu, sigma, ti, tf, ns, y0):\n",
    "        self.ns = ns\n",
    "        self.ti = ti\n",
    "        self.tf = tf\n",
    "\n",
    "        self.ts = np.linspace(self.ti, self.ts, self.ns)\n",
    "        self.dt = np.mean(np.diff(ts))\n",
    "\n",
    "        self.ys = np.zeros(self.ns)\n",
    "        \n",
    "        self.theta = theta\n",
    "        self.mu = mu\n",
    "        self.sigma = sigma\n",
    "        \n",
    "    def drift(self, y, t):\n",
    "        # Ornstein–Uhlenbeck mu aka drift term.\n",
    "        return self.theta * (self.mu - y)    \n",
    "\n",
    "    def diffusion(self, y, t):\n",
    "        # Ornstein–Uhlenbeck suígma aka diffusion term.\n",
    "        return sigma            \n",
    "    \n",
    "    def noise(self): \n",
    "        # Noise terms aka Wiener process dW.\n",
    "        return np.random.normal(loc=0.0, scale=1.0, size=self.n) * np.sqrt(self.dt)\n",
    "\n",
    "    def solve(self):\n",
    "        # Solve stochastic differential equation with Euler–Maruyama method.\n",
    "        for i in range(1, self.ts):\n",
    "            self.ys[i] = self.ys[i-1] \\\n",
    "                  + self.drift( self.ys[i-1], i * self.dt) * self.dt \\\n",
    "                  + self.diffusion(self.ys[i-1], i * self.dt) * self.noise[i]\n",
    "\n",
    "\n",
    "dt = np.mean(np.diff(t))\n",
    "ys = np.random.normal(loc=0.0,scale=1.0)\n",
    "\n",
    "\n",
    "# plt.plot(t,y)\n",
    "# plt.show()"
   ]
  }
 ]
}