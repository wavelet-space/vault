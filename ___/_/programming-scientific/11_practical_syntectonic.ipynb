{
  "nbformat": 4,
  "nbformat_minor": 0,
  "metadata": {
    "kernelspec": {
      "display_name": "Python 3",
      "language": "python",
      "name": "python3"
    },
    "language_info": {
      "codemirror_mode": {
        "name": "ipython",
        "version": 3
      },
      "file_extension": ".py",
      "mimetype": "text/x-python",
      "name": "python",
      "nbconvert_exporter": "python",
      "pygments_lexer": "ipython3",
      "version": "3.7.7"
    },
    "colab": {
      "name": "11-practical-syntectonic.ipynb",
      "provenance": []
    }
  },
  "cells": [
    {
      "cell_type": "code",
      "metadata": {
        "id": "rVmq0btnZs65",
        "outputId": "d4ed4598-9fec-4ad2-90cf-cac8f788144c"
      },
      "source": [
        "%pylab inline"
      ],
      "execution_count": null,
      "outputs": [
        {
          "output_type": "stream",
          "text": [
            "Populating the interactive namespace from numpy and matplotlib\n"
          ],
          "name": "stdout"
        }
      ]
    },
    {
      "cell_type": "markdown",
      "metadata": {
        "id": "JkH0XoBbZs7G"
      },
      "source": [
        "We will need ``sparse`` library"
      ]
    },
    {
      "cell_type": "code",
      "metadata": {
        "id": "P_STU_OJZs7H"
      },
      "source": [
        "from scipy.sparse import spdiags\n",
        "from scipy.sparse.linalg import spsolve"
      ],
      "execution_count": null,
      "outputs": []
    },
    {
      "cell_type": "markdown",
      "metadata": {
        "id": "Zat63AYTZs7I"
      },
      "source": [
        "# Heat equation in 1D with variable conductivity and grid size\n",
        "\n",
        "In this example we will examine lateral distribution of deformation around cooling intrusion in ambient temperature. We will introduce new type of boundary condition called symmetrical boundary. It is used for problems which have by definition symmetrical solution, so it is enough to calculate only half of the domain.\n",
        "\n",
        "<img src=\"https://github.com/ondrolexa/heat/raw/master/images/symmetryBC.png\" alt=\"Domain symmetry\" width=\"600\" align=\"center\"/>\n",
        "\n",
        "As $T_L = T_R$, there is no thermal gradient and therefore no heat flux accross symmetry boundary. It means that boundary condition is identical to no heat flux i.e. zero Neumann BC.\n",
        "\n",
        "The width of simulated halfdomain is 20 km (keep in mind that due to symmetry, the width of intrusion in calculation will be only half of the real width). In this model, we will not calculate initial conditions as a result of steady-state solution, but we will prescribe it. Imagine, that we will simulate situation in depth where for steady-state temperature is 350°C. So, before intrusion, temperature is constant in all calculated domain. We instantaneously emplace vertical pluton (or dyke) with thickness 1500 m and temperature 800°C.\n",
        "\n",
        "<img src=\"https://github.com/ondrolexa/heat/raw/master/images/intrusion.png\" alt=\"Domain symmetry\" width=\"600\" align=\"center\"/>\n",
        "\n",
        "We will use in our model temperature-dependent thermal properties (*Nabelek, 2010*):\n",
        "thermal diffusivity:\n",
        "\n",
        "$$\\kappa(T)=1.214\\cdot 10^{-6}\\times \\exp \\left ( \\frac{-T}{285.2} \\right )+3.19\\cdot 10^{-7}$$\n",
        "\n",
        "Heat capacity (*Whittington, 2009*):\n",
        "\n",
        "$$c(T)=726+1.53\\times T-1.6\\cdot 10^{-3}\\times T^2+6.64\\cdot 10^{-7}\\times T^3$$\n",
        "\n",
        "Thermal conductivity:\n",
        "\n",
        "$$\\lambda(T)=\\rho \\cdot c(T) \\cdot \\kappa(T)$$\n",
        "\n",
        "where for density $\\rho$ we will use value 2750 $kgm^{-3}$. We will use zero heat production in this model (it has no impact on short timed models).\n",
        "\n",
        "### Deformation of the domain\n",
        "\n",
        "Both intrusion and host-rock will be deformed during cooling under constant differential stress $\\sigma_D$ = 20 MPa. For the dislocation creep of a polycrystal aggregate, the traditional ﬂow law (referred to as ﬂow law 1 below) is:\n",
        "\n",
        "$$\\dot\\epsilon = \\sigma_D^n\\cdot A\\cdot\\exp\\left(\\frac{-Q}{R\\cdot(T + 273.15)}\\right)$$\n",
        "\n",
        "where $\\dot\\epsilon$ is the strain rate, $A$ the preexponential parameter, $Q$ the activation energy, $R$ the universal gas constant, $T$ the temperature in degrees, $\\sigma_D$ the differential stress (in MPa), and $n$ the stress exponent. The parameters ($A$, $Q$ and $n$) for intrusion and host-rock are listed in following table:\n",
        "\n",
        "| Rock      | preexponential parameter A<br>[$Mpa^{-n}$] | activation energy Q<br>[$J/Mol$] | stress exponent n  |\n",
        "|-----------|--------------------------------------------|----------------------------------|--------------------|\n",
        "| Intrusion | $3.89\\cdot 10^{-13}$                       | $68000$                          | $2$                |\n",
        "| host-rock | $3.981\\cdot 10^{-11}$                      | $115000$                         | $4$                |\n",
        "\n",
        "For any given time step the incremental stretching of grid cell is:\n",
        "\n",
        "$$ S_{i} = \\exp(-\\dot\\epsilon\\cdot\\Delta t)$$\n",
        "\n",
        "**Your task is to create model, which solve cooling of the dyke domain with simultaneous contractional deformation for 1 Ma. The model should also calculate finite (accumulated) deformation for each grid cell (variable to store finite strain will have same size as material properties).**\n",
        "\n",
        "  1. You should plot distribution of deformation expressed as natural deformation i.e. natural logarithm of finite stretch versus position for intrusion and for host-rock.\n",
        "  2. What will be final width of the intrusion?\n",
        "  3. What will be final width of the domain?\n",
        "\n",
        "The finite stretch is product of incremental stretches:\n",
        "\n",
        "$$S = \\prod_{i=1}^{n}S_i$$\n",
        "\n",
        "and natural deformation is:\n",
        "\n",
        "$$\\varepsilon = \\ln(S)$$"
      ]
    },
    {
      "cell_type": "code",
      "metadata": {
        "id": "Ft-8kEsKZs7J"
      },
      "source": [
        "# Model definition\n",
        "Ta = 350                                # ambient temperature\n",
        "Ti = 800                                # intrusion temperature\n",
        "model_width = 20000                     # width of the model\n",
        "intrusion_width = 1500                  # width of the intrusion\n",
        "n = 351                                 # number of nodes\n",
        "x = linspace(0, model_width, n)         # calculation grid positions\n",
        "xm = (x[1:] + x[:-1])/2                 # material grid positions\n",
        "mask_i = xm <= intrusion_width / 2      # logical index for intrusion\n",
        "mask_h = xm > intrusion_width / 2       # logical index for host-rock\n",
        "\n",
        "# Deformation parameters for host-rock\n",
        "rA = 3.981e-11 * ones_like(xm)\n",
        "rQ = 115000 * ones_like(xm)\n",
        "rn = 4 * ones_like(xm)\n",
        "# Deformation parameters for intrusion\n",
        "rA[mask_i] = 3.89e-13\n",
        "rQ[mask_i] = 68000\n",
        "rn[mask_i] = 2\n",
        "\n",
        "R = 8.31446261815324                    # universal gas constant\n",
        "sig = 20                                # differential stress\n",
        "\n",
        "# helpers functions\n",
        "\n",
        "# temperature-dependent strain rate\n",
        "edot_fun = lambda T: sig**rn*rA*exp(-rQ/(R*(T + 273.15)))\n",
        "\n",
        "# temperature-dependent thermal properties\n",
        "rho_fun = lambda T: ones_like(T) * 2750\n",
        "kappa_fun = lambda T: 1.214e-6 * exp(-T / 285.2) + 3.19e-7\n",
        "c_fun = lambda T: 726 + 1.53 * T - 1.6e-3 * T**2 + 6.64e-7 * T**3\n",
        "k_fun = lambda T: rho_fun(T) * c_fun(T) * kappa_fun(T)"
      ],
      "execution_count": null,
      "outputs": []
    },
    {
      "cell_type": "code",
      "metadata": {
        "id": "5g81WZzQZs7L"
      },
      "source": [
        "#Initial state\n",
        "# temperature\n",
        "T = Ta * ones_like(x)\n",
        "T[x <= intrusion_width / 2] = Ti\n",
        "# temperature-dependent material properties\n",
        "Tm = interp(xm, x, T)     # temperature at material nodes\n",
        "k = k_fun(Tm)\n",
        "c = c_fun(Tm)\n",
        "rho = rho_fun(Tm)\n",
        "dx = diff(x)\n",
        "# initial stretch (S=1 for no deformation)\n",
        "S = ones_like(xm)\n",
        "ysec = 365.25*24*3600   # one year in seconds\n",
        "dt = 100*ysec           # time step of hundred years"
      ],
      "execution_count": null,
      "outputs": []
    },
    {
      "cell_type": "markdown",
      "metadata": {
        "id": "hsRtLb-AZs7M"
      },
      "source": [
        "Now we need to create simulation. For each timestep we need:\n",
        "\n",
        "  1. calculate strain rate for each cell (note different parameters for intrusion and host-rock)\n",
        "  2. calculate incremental stretch for each cell for given timestep\n",
        "  2. change dx based on incremental stretch and add incremental stretch to finite one\n",
        "  3. relaxing temperature using evolutionary heat equation for given timestep\n",
        "  4. recalculate node positions, material positions and thermal properties (conductivity, specific heat, not needed for density as it is still constant)\n",
        "\n",
        "This should be repeated 10000 times to reach 1 Ma."
      ]
    },
    {
      "cell_type": "code",
      "metadata": {
        "id": "59O3GYOcZs7N"
      },
      "source": [
        "### your code here ###"
      ],
      "execution_count": null,
      "outputs": []
    }
  ]
}